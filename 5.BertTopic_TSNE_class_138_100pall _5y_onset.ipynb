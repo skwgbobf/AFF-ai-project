{
 "cells": [
  {
   "cell_type": "code",
   "execution_count": null,
   "metadata": {},
   "outputs": [],
   "source": [
    "\n",
    "import numpy as np\n",
    "import torch\n",
    "import time\n",
    "import torch.nn as nn\n",
    "import os"
   ]
  },
  {
   "cell_type": "code",
   "execution_count": 2,
   "metadata": {},
   "outputs": [],
   "source": [
    "##### Import : Vocab and data\n",
    "import pandas as pd\n",
    "import pickle"
   ]
  },
  {
   "cell_type": "code",
   "execution_count": 3,
   "metadata": {},
   "outputs": [],
   "source": [
    "import pickle\n",
    "\n",
    "with open('./vocab2_new.pkl', 'rb') as f:\n",
    "    # The protocol version used is detected automatically, so we do not\n",
    "    # have to specify it.\n",
    "    vocab2 = pickle.load(f)"
   ]
  },
  {
   "cell_type": "code",
   "execution_count": 5,
   "metadata": {},
   "outputs": [],
   "source": [
    "#2. New option d138 5y onset 100% all\n",
    "# all data for Topic modeling #/home/skbae/Desktop/146/cancer_conquerance/BEHRT/BEHRT/preprocess/BEHRT_datapreprocess_Aug23_NDP2.ipynb\n",
    "\n",
    "\n",
    "# import pickle\n",
    "with open('../preprocess/T20_BFC_ArtrialF_all_100p_summary_F3.pkl',  'rb') as f:     \n",
    "    dta = pickle.load(f)\n",
    "    sample_f_all_5y_onset_138 = pd.DataFrame(dta) \n",
    "\n",
    "# with open('/home/skbae"
   ]
  },
  {
   "cell_type": "code",
   "execution_count": 6,
   "metadata": {},
   "outputs": [],
   "source": [
    "# d138 all  : sample_f_all_5y_onset_138\n",
    "\n",
    "# g_data=sample_f_all_5y_onset_138 \n",
    "\n",
    "g_data=sample_f_all_5y_onset_138"
   ]
  },
  {
   "cell_type": "code",
   "execution_count": 7,
   "metadata": {},
   "outputs": [],
   "source": [
    "# NDP_class\n",
    "group_data_sickFinal_ndp=g_data # pd.DataFrame(g_data[g_data['fold2']==0]).reset_index()"
   ]
  },
  {
   "cell_type": "code",
   "execution_count": 10,
   "metadata": {},
   "outputs": [],
   "source": [
    "sample_f_NDP=group_data_sickFinal_ndp\n",
    "sample_f_NDP=sample_f_NDP.reset_index()"
   ]
  },
  {
   "cell_type": "code",
   "execution_count": 17,
   "metadata": {},
   "outputs": [
    {
     "data": {
      "text/plain": [
       "103"
      ]
     },
     "execution_count": 17,
     "metadata": {},
     "output_type": "execute_result"
    }
   ],
   "source": [
    "## create word dictionary\n",
    "word_dict = {'PAD': 0, 'CLS': 1, 'SEP': 2, 'MASK': 3, 'UNK' :4 }\n",
    "for i, w in enumerate(vocab2):\n",
    "   word_dict[w] = i + 4\n",
    "   number_dict = {i: w for i, w in enumerate(word_dict)}\n",
    "   vocab_size = len(word_dict)\n",
    "\n",
    "len(word_dict)"
   ]
  },
  {
   "cell_type": "code",
   "execution_count": 15,
   "metadata": {},
   "outputs": [],
   "source": [
    "#data = pd.read_parquet(file_config['data'])\n",
    "data = sample_f_NDP\n",
    "# remove patients with visits less than min visit\n",
    "# data['length'] = data['disease_sequence2'].apply(lambda x: len([i for i in range(len(x)) if x[i] == 'SEP']))\n",
    "# data = data[data['length']] >= 3\n",
    "data = data.reset_index(drop=True)"
   ]
  },
  {
   "cell_type": "code",
   "execution_count": 16,
   "metadata": {},
   "outputs": [
    {
     "data": {
      "text/plain": [
       "Index(['index', 'ID', 'first_starting_year', 'end_year',\n",
       "       'specific_disease_year', 'specific_disease_year2', 'disease_sequenceF',\n",
       "       'length', 'd138', 'response_disease', 'age2_sequence', 'age2_sequenceF',\n",
       "       'age_B', 'seq_starting_year', 'duration', 'year'],\n",
       "      dtype='object')"
      ]
     },
     "execution_count": 16,
     "metadata": {},
     "output_type": "execute_result"
    }
   ],
   "source": [
    "data.columns"
   ]
  },
  {
   "cell_type": "code",
   "execution_count": 18,
   "metadata": {},
   "outputs": [],
   "source": [
    "#pop : data_pop.pkl :/home/skbae/Documents/skbae/Cancer_Conquest/BFC.pkl\n",
    "with open('../../../../BFC.pkl', 'rb') as f: #/home/skbae/cancer_conquerance/BFC.pkl\n",
    "    data_g = pickle.load(f)\n",
    "BFC = pd.DataFrame(data_g)"
   ]
  },
  {
   "cell_type": "code",
   "execution_count": 19,
   "metadata": {},
   "outputs": [],
   "source": [
    "data_BFC=pd.merge(data , BFC, how='left', on='ID')"
   ]
  },
  {
   "cell_type": "code",
   "execution_count": 26,
   "metadata": {},
   "outputs": [
    {
     "name": "stdout",
     "output_type": "stream",
     "text": [
      "40s-64s     101713\n",
      "over 65s     47708\n",
      "20s-30s      20865\n",
      "below 20        31\n",
      "Name: AgeGroup, dtype: int64\n"
     ]
    }
   ],
   "source": [
    "import pandas as pd\n",
    "\n",
    "# Convert 'age_B' column to integers (if possible)\n",
    "data_BFC['age_B'] = pd.to_numeric(data_BFC['age_B'], errors='coerce')\n",
    "\n",
    "# Age distribution bins and labels\n",
    "bins = [0, 20, 40, 65, 110]\n",
    "labels = ['below 20', '20s-30s', '40s-64s', 'over 65s']\n",
    "\n",
    "# Cut the data into age groups\n",
    "data_BFC['AgeGroup'] = pd.cut(data_BFC['age_B'], bins=bins, labels=labels, right=False)\n",
    "\n",
    "# Print the value counts of AgeGroups\n",
    "print(data_BFC['AgeGroup'].value_counts())"
   ]
  },
  {
   "cell_type": "code",
   "execution_count": 27,
   "metadata": {},
   "outputs": [
    {
     "data": {
      "text/html": [
       "<div>\n",
       "<style scoped>\n",
       "    .dataframe tbody tr th:only-of-type {\n",
       "        vertical-align: middle;\n",
       "    }\n",
       "\n",
       "    .dataframe tbody tr th {\n",
       "        vertical-align: top;\n",
       "    }\n",
       "\n",
       "    .dataframe thead th {\n",
       "        text-align: right;\n",
       "    }\n",
       "</style>\n",
       "<table border=\"1\" class=\"dataframe\">\n",
       "  <thead>\n",
       "    <tr style=\"text-align: right;\">\n",
       "      <th></th>\n",
       "      <th>AgeGroup</th>\n",
       "      <th>below 20</th>\n",
       "      <th>20s-30s</th>\n",
       "      <th>40s-64s</th>\n",
       "      <th>over 65s</th>\n",
       "    </tr>\n",
       "    <tr>\n",
       "      <th>d138</th>\n",
       "      <th>SEX</th>\n",
       "      <th></th>\n",
       "      <th></th>\n",
       "      <th></th>\n",
       "      <th></th>\n",
       "    </tr>\n",
       "  </thead>\n",
       "  <tbody>\n",
       "    <tr>\n",
       "      <th rowspan=\"2\" valign=\"top\">0</th>\n",
       "      <th>1</th>\n",
       "      <td>14</td>\n",
       "      <td>9748</td>\n",
       "      <td>48687</td>\n",
       "      <td>18225</td>\n",
       "    </tr>\n",
       "    <tr>\n",
       "      <th>2</th>\n",
       "      <td>17</td>\n",
       "      <td>11067</td>\n",
       "      <td>51521</td>\n",
       "      <td>26852</td>\n",
       "    </tr>\n",
       "    <tr>\n",
       "      <th rowspan=\"2\" valign=\"top\">1</th>\n",
       "      <th>1</th>\n",
       "      <td>0</td>\n",
       "      <td>39</td>\n",
       "      <td>931</td>\n",
       "      <td>1158</td>\n",
       "    </tr>\n",
       "    <tr>\n",
       "      <th>2</th>\n",
       "      <td>0</td>\n",
       "      <td>11</td>\n",
       "      <td>574</td>\n",
       "      <td>1473</td>\n",
       "    </tr>\n",
       "  </tbody>\n",
       "</table>\n",
       "</div>"
      ],
      "text/plain": [
       "AgeGroup  below 20  20s-30s  40s-64s  over 65s\n",
       "d138 SEX                                      \n",
       "0    1          14     9748    48687     18225\n",
       "     2          17    11067    51521     26852\n",
       "1    1           0       39      931      1158\n",
       "     2           0       11      574      1473"
      ]
     },
     "execution_count": 27,
     "metadata": {},
     "output_type": "execute_result"
    }
   ],
   "source": [
    "import numpy as np\n",
    "data_BFC_table4 =pd.pivot_table(data_BFC, values='ID', index=['d138', 'SEX'],\n",
    "                       columns=['AgeGroup'], aggfunc=np.size, fill_value=0)\n",
    "\n",
    "data_BFC_table4 "
   ]
  },
  {
   "cell_type": "code",
   "execution_count": 28,
   "metadata": {},
   "outputs": [],
   "source": [
    "import pandas as pd\n",
    "import numpy as np\n",
    "\n",
    "# Assuming you have already created the pivot table data_BFC_table4\n",
    "data_BFC_table4_percentage = data_BFC_table4.apply(lambda x: (x / x.sum()) * 100, axis=1)\n",
    "\n",
    "# Create pivot tables for d138 value 0 and 1\n",
    "data_BFC_table4_d138_0 = data_BFC_table4_percentage[data_BFC_table4_percentage.index.get_level_values('d138') == 0]\n",
    "data_BFC_table4_d138_1 = data_BFC_table4_percentage[data_BFC_table4_percentage.index.get_level_values('d138') == 1]\n",
    "\n",
    "# Now you have two separate pivot tables for d138 value 0 and 1"
   ]
  },
  {
   "cell_type": "code",
   "execution_count": 29,
   "metadata": {},
   "outputs": [
    {
     "data": {
      "text/html": [
       "<div>\n",
       "<style scoped>\n",
       "    .dataframe tbody tr th:only-of-type {\n",
       "        vertical-align: middle;\n",
       "    }\n",
       "\n",
       "    .dataframe tbody tr th {\n",
       "        vertical-align: top;\n",
       "    }\n",
       "\n",
       "    .dataframe thead th {\n",
       "        text-align: right;\n",
       "    }\n",
       "</style>\n",
       "<table border=\"1\" class=\"dataframe\">\n",
       "  <thead>\n",
       "    <tr style=\"text-align: right;\">\n",
       "      <th></th>\n",
       "      <th>AgeGroup</th>\n",
       "      <th>below 20</th>\n",
       "      <th>20s-30s</th>\n",
       "      <th>40s-64s</th>\n",
       "      <th>over 65s</th>\n",
       "    </tr>\n",
       "    <tr>\n",
       "      <th>d138</th>\n",
       "      <th>SEX</th>\n",
       "      <th></th>\n",
       "      <th></th>\n",
       "      <th></th>\n",
       "      <th></th>\n",
       "    </tr>\n",
       "  </thead>\n",
       "  <tbody>\n",
       "    <tr>\n",
       "      <th rowspan=\"2\" valign=\"top\">0</th>\n",
       "      <th>1</th>\n",
       "      <td>0.018259</td>\n",
       "      <td>12.713567</td>\n",
       "      <td>63.498709</td>\n",
       "      <td>23.769466</td>\n",
       "    </tr>\n",
       "    <tr>\n",
       "      <th>2</th>\n",
       "      <td>0.019004</td>\n",
       "      <td>12.371307</td>\n",
       "      <td>57.593034</td>\n",
       "      <td>30.016656</td>\n",
       "    </tr>\n",
       "  </tbody>\n",
       "</table>\n",
       "</div>"
      ],
      "text/plain": [
       "AgeGroup  below 20    20s-30s    40s-64s   over 65s\n",
       "d138 SEX                                           \n",
       "0    1    0.018259  12.713567  63.498709  23.769466\n",
       "     2    0.019004  12.371307  57.593034  30.016656"
      ]
     },
     "execution_count": 29,
     "metadata": {},
     "output_type": "execute_result"
    }
   ],
   "source": [
    "data_BFC_table4_d138_0"
   ]
  },
  {
   "cell_type": "code",
   "execution_count": 30,
   "metadata": {},
   "outputs": [
    {
     "data": {
      "text/html": [
       "<div>\n",
       "<style scoped>\n",
       "    .dataframe tbody tr th:only-of-type {\n",
       "        vertical-align: middle;\n",
       "    }\n",
       "\n",
       "    .dataframe tbody tr th {\n",
       "        vertical-align: top;\n",
       "    }\n",
       "\n",
       "    .dataframe thead th {\n",
       "        text-align: right;\n",
       "    }\n",
       "</style>\n",
       "<table border=\"1\" class=\"dataframe\">\n",
       "  <thead>\n",
       "    <tr style=\"text-align: right;\">\n",
       "      <th></th>\n",
       "      <th>AgeGroup</th>\n",
       "      <th>below 20</th>\n",
       "      <th>20s-30s</th>\n",
       "      <th>40s-64s</th>\n",
       "      <th>over 65s</th>\n",
       "    </tr>\n",
       "    <tr>\n",
       "      <th>d138</th>\n",
       "      <th>SEX</th>\n",
       "      <th></th>\n",
       "      <th></th>\n",
       "      <th></th>\n",
       "      <th></th>\n",
       "    </tr>\n",
       "  </thead>\n",
       "  <tbody>\n",
       "    <tr>\n",
       "      <th rowspan=\"2\" valign=\"top\">1</th>\n",
       "      <th>1</th>\n",
       "      <td>0.0</td>\n",
       "      <td>1.832707</td>\n",
       "      <td>43.750000</td>\n",
       "      <td>54.417293</td>\n",
       "    </tr>\n",
       "    <tr>\n",
       "      <th>2</th>\n",
       "      <td>0.0</td>\n",
       "      <td>0.534500</td>\n",
       "      <td>27.891156</td>\n",
       "      <td>71.574344</td>\n",
       "    </tr>\n",
       "  </tbody>\n",
       "</table>\n",
       "</div>"
      ],
      "text/plain": [
       "AgeGroup  below 20   20s-30s    40s-64s   over 65s\n",
       "d138 SEX                                          \n",
       "1    1         0.0  1.832707  43.750000  54.417293\n",
       "     2         0.0  0.534500  27.891156  71.574344"
      ]
     },
     "execution_count": 30,
     "metadata": {},
     "output_type": "execute_result"
    }
   ],
   "source": [
    "data_BFC_table4_d138_1"
   ]
  },
  {
   "cell_type": "code",
   "execution_count": 31,
   "metadata": {},
   "outputs": [
    {
     "name": "stdout",
     "output_type": "stream",
     "text": [
      "Chi-squared statistic: 1.0183093197875766\n",
      "P-value: 0.7968217601680717\n",
      "The difference between the groups is not statistically significant.\n"
     ]
    }
   ],
   "source": [
    "from scipy.stats import chi2_contingency\n",
    "# Perform chi-squared test\n",
    "chi2, p, dof, expected = chi2_contingency(data_BFC_table4_d138_0.values, data_BFC_table4_d138_1.values)\n",
    "\n",
    "# Print results\n",
    "print(\"Chi-squared statistic:\", chi2)\n",
    "print(\"P-value:\", p)\n",
    "\n",
    "if p < 0.05:\n",
    "    print(\"The difference between the groups is statistically significant.\")\n",
    "else:\n",
    "    print(\"The difference between the groups is not statistically significant.\")"
   ]
  },
  {
   "cell_type": "code",
   "execution_count": 36,
   "metadata": {},
   "outputs": [],
   "source": [
    "# all\n",
    "# with open('./D138_all_5y_onset_data_BFC2.pkl', 'wb') as f:\n",
    "#     pickle.dump(data_BFC, f)\n",
    "\n",
    "# 100% all \n",
    "with open('./D138_100pall_5y_onset_data_BFC2_dec08.pkl', 'wb') as f:\n",
    "    pickle.dump(data_BFC, f)"
   ]
  },
  {
   "cell_type": "code",
   "execution_count": 37,
   "metadata": {},
   "outputs": [],
   "source": [
    "# #all\n",
    "# grouped_counts.to_csv('./d138_5y_onset_grouped_all_counts.csv')\n",
    "\n",
    "#100p all\n",
    "grouped_counts.to_csv('./d138_5y_onset_1000pall_grouped_counts_dec08.csv') "
   ]
  },
  {
   "cell_type": "markdown",
   "metadata": {},
   "source": [
    "BERTTOpic"
   ]
  },
  {
   "cell_type": "code",
   "execution_count": null,
   "metadata": {},
   "outputs": [],
   "source": [
    "# Embedding for BERTTOpic"
   ]
  },
  {
   "cell_type": "code",
   "execution_count": 32,
   "metadata": {},
   "outputs": [
    {
     "name": "stderr",
     "output_type": "stream",
     "text": [
      "2024-08-06 13:06:05.055189: I tensorflow/core/util/port.cc:110] oneDNN custom operations are on. You may see slightly different numerical results due to floating-point round-off errors from different computation orders. To turn them off, set the environment variable `TF_ENABLE_ONEDNN_OPTS=0`.\n",
      "2024-08-06 13:06:05.084246: I tensorflow/core/platform/cpu_feature_guard.cc:182] This TensorFlow binary is optimized to use available CPU instructions in performance-critical operations.\n",
      "To enable the following instructions: AVX2 AVX_VNNI FMA, in other operations, rebuild TensorFlow with the appropriate compiler flags.\n",
      "2024-08-06 13:06:05.575264: W tensorflow/compiler/tf2tensorrt/utils/py_utils.cc:38] TF-TRT Warning: Could not find TensorRT\n",
      "2024-08-06 13:06:07.301380: I tensorflow/compiler/xla/stream_executor/cuda/cuda_gpu_executor.cc:995] successful NUMA node read from SysFS had negative value (-1), but there must be at least one NUMA node, so returning NUMA node zero. See more at https://github.com/torvalds/linux/blob/v6.0/Documentation/ABI/testing/sysfs-bus-pci#L344-L355\n",
      "2024-08-06 13:06:07.301698: W tensorflow/core/common_runtime/gpu/gpu_device.cc:1960] Cannot dlopen some GPU libraries. Please make sure the missing libraries mentioned above are installed properly if you would like to use GPU. Follow the guide at https://www.tensorflow.org/install/gpu for how to download and setup the required libraries for your platform.\n",
      "Skipping registering GPU devices...\n"
     ]
    }
   ],
   "source": [
    "#import packages\n",
    "import pandas as pd \n",
    "import numpy as np\n",
    "from bertopic import BERTopic"
   ]
  },
  {
   "cell_type": "code",
   "execution_count": 33,
   "metadata": {},
   "outputs": [],
   "source": [
    "from bertopic import BERTopic\n",
    "from bertopic.vectorizers import ClassTfidfTransformer\n",
    "from bertopic.representation import MaximalMarginalRelevance\n",
    "from bertopic.representation import OpenAI\n",
    "from sklearn.feature_extraction.text import CountVectorizer\n",
    "#from cuml.cluster import HDBSCAN\n",
    "#from cuml.manifold import UMAP\n",
    "from sentence_transformers import SentenceTransformer"
   ]
  },
  {
   "cell_type": "markdown",
   "metadata": {},
   "source": [
    "Step 1. Load Data"
   ]
  },
  {
   "cell_type": "code",
   "execution_count": 34,
   "metadata": {},
   "outputs": [
    {
     "data": {
      "text/plain": [
       "Index(['index', 'ID', 'first_starting_year', 'end_year',\n",
       "       'specific_disease_year', 'specific_disease_year2', 'disease_sequenceF',\n",
       "       'length', 'd138', 'response_disease', 'age2_sequence', 'age2_sequenceF',\n",
       "       'age_B', 'seq_starting_year', 'duration', 'year', 'SEX', 'AGE',\n",
       "       'GAIBJA', 'AgeGroup'],\n",
       "      dtype='object')"
      ]
     },
     "execution_count": 34,
     "metadata": {},
     "output_type": "execute_result"
    }
   ],
   "source": [
    "data_BFC.columns"
   ]
  },
  {
   "cell_type": "code",
   "execution_count": 35,
   "metadata": {},
   "outputs": [
    {
     "data": {
      "text/html": [
       "<div>\n",
       "<style scoped>\n",
       "    .dataframe tbody tr th:only-of-type {\n",
       "        vertical-align: middle;\n",
       "    }\n",
       "\n",
       "    .dataframe tbody tr th {\n",
       "        vertical-align: top;\n",
       "    }\n",
       "\n",
       "    .dataframe thead th {\n",
       "        text-align: right;\n",
       "    }\n",
       "</style>\n",
       "<table border=\"1\" class=\"dataframe\">\n",
       "  <thead>\n",
       "    <tr style=\"text-align: right;\">\n",
       "      <th></th>\n",
       "      <th>index</th>\n",
       "      <th>ID</th>\n",
       "      <th>first_starting_year</th>\n",
       "      <th>end_year</th>\n",
       "      <th>specific_disease_year</th>\n",
       "      <th>specific_disease_year2</th>\n",
       "      <th>disease_sequenceF</th>\n",
       "      <th>length</th>\n",
       "      <th>d138</th>\n",
       "      <th>response_disease</th>\n",
       "      <th>...</th>\n",
       "      <th>age2_sequenceF</th>\n",
       "      <th>age_B</th>\n",
       "      <th>seq_starting_year</th>\n",
       "      <th>duration</th>\n",
       "      <th>year</th>\n",
       "      <th>SEX</th>\n",
       "      <th>AGE</th>\n",
       "      <th>GAIBJA</th>\n",
       "      <th>AgeGroup</th>\n",
       "      <th>disease_sequenceF_nosep</th>\n",
       "    </tr>\n",
       "  </thead>\n",
       "  <tbody>\n",
       "    <tr>\n",
       "      <th>0</th>\n",
       "      <td>0</td>\n",
       "      <td>1</td>\n",
       "      <td>2006-01-01</td>\n",
       "      <td>2019-01-01</td>\n",
       "      <td>2011-01-01</td>\n",
       "      <td>2011-01-01</td>\n",
       "      <td>[219, SEP, 219, SEP, 221, SEP, 219]</td>\n",
       "      <td>3</td>\n",
       "      <td>0</td>\n",
       "      <td>[221]</td>\n",
       "      <td>...</td>\n",
       "      <td>[55, 55, 56, 56, 58, 58, 59]</td>\n",
       "      <td>55</td>\n",
       "      <td>2006-01-01</td>\n",
       "      <td>NaN</td>\n",
       "      <td>NaN</td>\n",
       "      <td>2</td>\n",
       "      <td>51</td>\n",
       "      <td>2</td>\n",
       "      <td>40s-64s</td>\n",
       "      <td>[219, 219, 221, 219]</td>\n",
       "    </tr>\n",
       "    <tr>\n",
       "      <th>1</th>\n",
       "      <td>1</td>\n",
       "      <td>3</td>\n",
       "      <td>2006-01-01</td>\n",
       "      <td>2019-01-01</td>\n",
       "      <td>2011-01-01</td>\n",
       "      <td>2011-01-01</td>\n",
       "      <td>[219, SEP, 147, 219, SEP, 147, 219, SEP, 147, ...</td>\n",
       "      <td>3</td>\n",
       "      <td>0</td>\n",
       "      <td>[145, 147, 219, 220]</td>\n",
       "      <td>...</td>\n",
       "      <td>[75, 75, 76, 76, 76, 78, 78, 78, 79, 79]</td>\n",
       "      <td>75</td>\n",
       "      <td>2006-01-01</td>\n",
       "      <td>NaN</td>\n",
       "      <td>NaN</td>\n",
       "      <td>2</td>\n",
       "      <td>71</td>\n",
       "      <td>7</td>\n",
       "      <td>over 65s</td>\n",
       "      <td>[219, 147, 219, 147, 219, 147, 220]</td>\n",
       "    </tr>\n",
       "    <tr>\n",
       "      <th>2</th>\n",
       "      <td>2</td>\n",
       "      <td>4</td>\n",
       "      <td>2002-01-01</td>\n",
       "      <td>2019-01-01</td>\n",
       "      <td>2007-01-01</td>\n",
       "      <td>2007-01-01</td>\n",
       "      <td>[151, SEP, 151, SEP, 151, SEP, 151, 220, SEP, ...</td>\n",
       "      <td>4</td>\n",
       "      <td>0</td>\n",
       "      <td>[151]</td>\n",
       "      <td>...</td>\n",
       "      <td>[51, 51, 52, 52, 53, 53, 54, 54, 54, 55]</td>\n",
       "      <td>51</td>\n",
       "      <td>2002-01-01</td>\n",
       "      <td>NaN</td>\n",
       "      <td>NaN</td>\n",
       "      <td>1</td>\n",
       "      <td>51</td>\n",
       "      <td>1</td>\n",
       "      <td>40s-64s</td>\n",
       "      <td>[151, 151, 151, 151, 220, 151]</td>\n",
       "    </tr>\n",
       "    <tr>\n",
       "      <th>3</th>\n",
       "      <td>5</td>\n",
       "      <td>8</td>\n",
       "      <td>2008-01-01</td>\n",
       "      <td>2013-01-01</td>\n",
       "      <td>2013-01-01</td>\n",
       "      <td>2013-01-01</td>\n",
       "      <td>[220, SEP, 169, SEP, 169, SEP, 134]</td>\n",
       "      <td>3</td>\n",
       "      <td>0</td>\n",
       "      <td>[134]</td>\n",
       "      <td>...</td>\n",
       "      <td>[76, 76, 77, 77, 78, 78, 80]</td>\n",
       "      <td>76</td>\n",
       "      <td>2008-01-01</td>\n",
       "      <td>NaN</td>\n",
       "      <td>NaN</td>\n",
       "      <td>2</td>\n",
       "      <td>70</td>\n",
       "      <td>1</td>\n",
       "      <td>over 65s</td>\n",
       "      <td>[220, 169, 169, 134]</td>\n",
       "    </tr>\n",
       "    <tr>\n",
       "      <th>4</th>\n",
       "      <td>6</td>\n",
       "      <td>9</td>\n",
       "      <td>2007-01-01</td>\n",
       "      <td>2012-01-01</td>\n",
       "      <td>2012-01-01</td>\n",
       "      <td>2012-01-01</td>\n",
       "      <td>[220, 236, SEP, 220, 225, SEP, 200, 225]</td>\n",
       "      <td>2</td>\n",
       "      <td>0</td>\n",
       "      <td>[220, 221]</td>\n",
       "      <td>...</td>\n",
       "      <td>[44, 44, 44, 45, 45, 45, 48, 48]</td>\n",
       "      <td>44</td>\n",
       "      <td>2007-01-01</td>\n",
       "      <td>NaN</td>\n",
       "      <td>NaN</td>\n",
       "      <td>2</td>\n",
       "      <td>39</td>\n",
       "      <td>6</td>\n",
       "      <td>40s-64s</td>\n",
       "      <td>[220, 236, 220, 225, 200, 225]</td>\n",
       "    </tr>\n",
       "  </tbody>\n",
       "</table>\n",
       "<p>5 rows × 21 columns</p>\n",
       "</div>"
      ],
      "text/plain": [
       "   index  ID first_starting_year   end_year specific_disease_year  \\\n",
       "0      0   1          2006-01-01 2019-01-01            2011-01-01   \n",
       "1      1   3          2006-01-01 2019-01-01            2011-01-01   \n",
       "2      2   4          2002-01-01 2019-01-01            2007-01-01   \n",
       "3      5   8          2008-01-01 2013-01-01            2013-01-01   \n",
       "4      6   9          2007-01-01 2012-01-01            2012-01-01   \n",
       "\n",
       "  specific_disease_year2                                  disease_sequenceF  \\\n",
       "0             2011-01-01                [219, SEP, 219, SEP, 221, SEP, 219]   \n",
       "1             2011-01-01  [219, SEP, 147, 219, SEP, 147, 219, SEP, 147, ...   \n",
       "2             2007-01-01  [151, SEP, 151, SEP, 151, SEP, 151, 220, SEP, ...   \n",
       "3             2013-01-01                [220, SEP, 169, SEP, 169, SEP, 134]   \n",
       "4             2012-01-01           [220, 236, SEP, 220, 225, SEP, 200, 225]   \n",
       "\n",
       "   length  d138      response_disease  ...  \\\n",
       "0       3     0                 [221]  ...   \n",
       "1       3     0  [145, 147, 219, 220]  ...   \n",
       "2       4     0                 [151]  ...   \n",
       "3       3     0                 [134]  ...   \n",
       "4       2     0            [220, 221]  ...   \n",
       "\n",
       "                             age2_sequenceF age_B  seq_starting_year duration  \\\n",
       "0              [55, 55, 56, 56, 58, 58, 59]    55         2006-01-01      NaN   \n",
       "1  [75, 75, 76, 76, 76, 78, 78, 78, 79, 79]    75         2006-01-01      NaN   \n",
       "2  [51, 51, 52, 52, 53, 53, 54, 54, 54, 55]    51         2002-01-01      NaN   \n",
       "3              [76, 76, 77, 77, 78, 78, 80]    76         2008-01-01      NaN   \n",
       "4          [44, 44, 44, 45, 45, 45, 48, 48]    44         2007-01-01      NaN   \n",
       "\n",
       "   year  SEX  AGE  GAIBJA  AgeGroup              disease_sequenceF_nosep  \n",
       "0   NaN    2   51       2   40s-64s                 [219, 219, 221, 219]  \n",
       "1   NaN    2   71       7  over 65s  [219, 147, 219, 147, 219, 147, 220]  \n",
       "2   NaN    1   51       1   40s-64s       [151, 151, 151, 151, 220, 151]  \n",
       "3   NaN    2   70       1  over 65s                 [220, 169, 169, 134]  \n",
       "4   NaN    2   39       6   40s-64s       [220, 236, 220, 225, 200, 225]  \n",
       "\n",
       "[5 rows x 21 columns]"
      ]
     },
     "execution_count": 35,
     "metadata": {},
     "output_type": "execute_result"
    }
   ],
   "source": [
    "# Custom function to remove 'SEP' from lists\n",
    "def remove_sep(lst):\n",
    "    return [item for item in lst if item != 'SEP']\n",
    "\n",
    "# Apply the custom function to the column\n",
    "data_BFC['disease_sequenceF_nosep'] = data_BFC['disease_sequenceF'].apply(remove_sep)\n",
    "data_BFC.head()"
   ]
  },
  {
   "cell_type": "code",
   "execution_count": 36,
   "metadata": {},
   "outputs": [],
   "source": [
    "#load data \n",
    "import pandas as pd \n",
    " \n",
    "\n",
    "#df = test[['ID','d2']]\n",
    "#df2 =data_BFC[['ID','disease_sequence3','disease_sequence2','age_sequence','d_138', 'Diag_d','SEX','AGE','AgeGroup']] #'cancer']]\n",
    "df2 =data_BFC[['ID','disease_sequenceF','disease_sequenceF_nosep','age2_sequenceF','length','d138','SEX','AGE','AgeGroup','GAIBJA']] \n",
    "#'disease_sequenceF',  'age2_sequenceF', 'length', 'd138'"
   ]
  },
  {
   "cell_type": "code",
   "execution_count": 37,
   "metadata": {},
   "outputs": [
    {
     "name": "stdout",
     "output_type": "stream",
     "text": [
      "78802\n",
      "91515\n"
     ]
    },
    {
     "data": {
      "text/plain": [
       "2    91515\n",
       "1    78802\n",
       "Name: SEX, dtype: int64"
      ]
     },
     "execution_count": 37,
     "metadata": {},
     "output_type": "execute_result"
    }
   ],
   "source": [
    "#Male\n",
    "df2_m=df2[df2['SEX']==1]\n",
    "# Female\n",
    "df2_f=df2[df2['SEX']==2]\n",
    "print(len(df2_m))\n",
    "print(len(df2_f))\n",
    "df2.SEX.value_counts()"
   ]
  },
  {
   "cell_type": "code",
   "execution_count": 38,
   "metadata": {},
   "outputs": [],
   "source": [
    "df2_m = df2_m.reset_index(drop=True)\n",
    "df2_f = df2_f.reset_index(drop=True)"
   ]
  },
  {
   "cell_type": "code",
   "execution_count": 44,
   "metadata": {},
   "outputs": [
    {
     "data": {
      "text/html": [
       "<div>\n",
       "<style scoped>\n",
       "    .dataframe tbody tr th:only-of-type {\n",
       "        vertical-align: middle;\n",
       "    }\n",
       "\n",
       "    .dataframe tbody tr th {\n",
       "        vertical-align: top;\n",
       "    }\n",
       "\n",
       "    .dataframe thead th {\n",
       "        text-align: right;\n",
       "    }\n",
       "</style>\n",
       "<table border=\"1\" class=\"dataframe\">\n",
       "  <thead>\n",
       "    <tr style=\"text-align: right;\">\n",
       "      <th></th>\n",
       "      <th>ID</th>\n",
       "      <th>disease_sequenceF</th>\n",
       "      <th>disease_sequenceF_nosep</th>\n",
       "      <th>age2_sequenceF</th>\n",
       "      <th>length</th>\n",
       "      <th>d138</th>\n",
       "      <th>SEX</th>\n",
       "      <th>AGE</th>\n",
       "      <th>AgeGroup</th>\n",
       "      <th>GAIBJA</th>\n",
       "      <th>Combined_Column</th>\n",
       "    </tr>\n",
       "  </thead>\n",
       "  <tbody>\n",
       "    <tr>\n",
       "      <th>0</th>\n",
       "      <td>1</td>\n",
       "      <td>[219, SEP, 219, SEP, 221, SEP, 219]</td>\n",
       "      <td>[219, 219, 221, 219]</td>\n",
       "      <td>[55, 55, 56, 56, 58, 58, 59]</td>\n",
       "      <td>3</td>\n",
       "      <td>0</td>\n",
       "      <td>2</td>\n",
       "      <td>51</td>\n",
       "      <td>40s-64s</td>\n",
       "      <td>2</td>\n",
       "      <td>40s-64s_0_2</td>\n",
       "    </tr>\n",
       "    <tr>\n",
       "      <th>1</th>\n",
       "      <td>3</td>\n",
       "      <td>[219, SEP, 147, 219, SEP, 147, 219, SEP, 147, ...</td>\n",
       "      <td>[219, 147, 219, 147, 219, 147, 220]</td>\n",
       "      <td>[75, 75, 76, 76, 76, 78, 78, 78, 79, 79]</td>\n",
       "      <td>3</td>\n",
       "      <td>0</td>\n",
       "      <td>2</td>\n",
       "      <td>71</td>\n",
       "      <td>over 65s</td>\n",
       "      <td>7</td>\n",
       "      <td>over 65s_0_2</td>\n",
       "    </tr>\n",
       "    <tr>\n",
       "      <th>2</th>\n",
       "      <td>4</td>\n",
       "      <td>[151, SEP, 151, SEP, 151, SEP, 151, 220, SEP, ...</td>\n",
       "      <td>[151, 151, 151, 151, 220, 151]</td>\n",
       "      <td>[51, 51, 52, 52, 53, 53, 54, 54, 54, 55]</td>\n",
       "      <td>4</td>\n",
       "      <td>0</td>\n",
       "      <td>1</td>\n",
       "      <td>51</td>\n",
       "      <td>40s-64s</td>\n",
       "      <td>1</td>\n",
       "      <td>40s-64s_0_1</td>\n",
       "    </tr>\n",
       "    <tr>\n",
       "      <th>3</th>\n",
       "      <td>8</td>\n",
       "      <td>[220, SEP, 169, SEP, 169, SEP, 134]</td>\n",
       "      <td>[220, 169, 169, 134]</td>\n",
       "      <td>[76, 76, 77, 77, 78, 78, 80]</td>\n",
       "      <td>3</td>\n",
       "      <td>0</td>\n",
       "      <td>2</td>\n",
       "      <td>70</td>\n",
       "      <td>over 65s</td>\n",
       "      <td>1</td>\n",
       "      <td>over 65s_0_2</td>\n",
       "    </tr>\n",
       "    <tr>\n",
       "      <th>4</th>\n",
       "      <td>9</td>\n",
       "      <td>[220, 236, SEP, 220, 225, SEP, 200, 225]</td>\n",
       "      <td>[220, 236, 220, 225, 200, 225]</td>\n",
       "      <td>[44, 44, 44, 45, 45, 45, 48, 48]</td>\n",
       "      <td>2</td>\n",
       "      <td>0</td>\n",
       "      <td>2</td>\n",
       "      <td>39</td>\n",
       "      <td>40s-64s</td>\n",
       "      <td>6</td>\n",
       "      <td>40s-64s_0_2</td>\n",
       "    </tr>\n",
       "  </tbody>\n",
       "</table>\n",
       "</div>"
      ],
      "text/plain": [
       "   ID                                  disease_sequenceF  \\\n",
       "0   1                [219, SEP, 219, SEP, 221, SEP, 219]   \n",
       "1   3  [219, SEP, 147, 219, SEP, 147, 219, SEP, 147, ...   \n",
       "2   4  [151, SEP, 151, SEP, 151, SEP, 151, 220, SEP, ...   \n",
       "3   8                [220, SEP, 169, SEP, 169, SEP, 134]   \n",
       "4   9           [220, 236, SEP, 220, 225, SEP, 200, 225]   \n",
       "\n",
       "               disease_sequenceF_nosep  \\\n",
       "0                 [219, 219, 221, 219]   \n",
       "1  [219, 147, 219, 147, 219, 147, 220]   \n",
       "2       [151, 151, 151, 151, 220, 151]   \n",
       "3                 [220, 169, 169, 134]   \n",
       "4       [220, 236, 220, 225, 200, 225]   \n",
       "\n",
       "                             age2_sequenceF  length  d138  SEX  AGE  AgeGroup  \\\n",
       "0              [55, 55, 56, 56, 58, 58, 59]       3     0    2   51   40s-64s   \n",
       "1  [75, 75, 76, 76, 76, 78, 78, 78, 79, 79]       3     0    2   71  over 65s   \n",
       "2  [51, 51, 52, 52, 53, 53, 54, 54, 54, 55]       4     0    1   51   40s-64s   \n",
       "3              [76, 76, 77, 77, 78, 78, 80]       3     0    2   70  over 65s   \n",
       "4          [44, 44, 44, 45, 45, 45, 48, 48]       2     0    2   39   40s-64s   \n",
       "\n",
       "   GAIBJA Combined_Column  \n",
       "0       2     40s-64s_0_2  \n",
       "1       7    over 65s_0_2  \n",
       "2       1     40s-64s_0_1  \n",
       "3       1    over 65s_0_2  \n",
       "4       6     40s-64s_0_2  "
      ]
     },
     "execution_count": 44,
     "metadata": {},
     "output_type": "execute_result"
    }
   ],
   "source": [
    "# Create a new column by combining AgeGroup, d_138, and SEX columns\n",
    "#df2['Combined_Column'] = df2['AgeGroup'].astype(str)+ '_' + df2['d_38'].astype(str) + '_' + df2['SEX'].astype(str)\n",
    "df2['Combined_Column'] = df2['AgeGroup'].astype(str)+ '_' + df2['d138'].astype(str) + '_' + df2['SEX'].astype(str)\n",
    "# Print the DataFrame with the new column\n",
    "df2.head()"
   ]
  },
  {
   "cell_type": "code",
   "execution_count": 41,
   "metadata": {},
   "outputs": [],
   "source": [
    "# export \n",
    "# Export the DataFrames to pickle files\n",
    "df2_m.to_pickle('./df2_m.pkl')\n",
    "df2_f.to_pickle('./df2_f.pkl')\n"
   ]
  },
  {
   "cell_type": "code",
   "execution_count": 3,
   "metadata": {},
   "outputs": [],
   "source": [
    "##### Import : Vocab and data\n",
    "import pandas as pd\n",
    "import pickle"
   ]
  },
  {
   "cell_type": "code",
   "execution_count": 4,
   "metadata": {},
   "outputs": [],
   "source": [
    "# import pickle\n",
    "# Import the DataFrames back from the pickle files\n",
    "df2_m = pd.read_pickle('./df2_m.pkl')\n",
    "df2_f = pd.read_pickle('./df2_f.pkl')"
   ]
  },
  {
   "cell_type": "code",
   "execution_count": 5,
   "metadata": {},
   "outputs": [],
   "source": [
    "#Male\n",
    "# df2_m=df2[df2['SEX']==1]\n",
    "texts_m = df2_m['disease_sequenceF_nosep']\n",
    "# Female\n",
    "# df2_f=df2[df2['SEX']==2]\n",
    "texts_f = df2_f['disease_sequenceF_nosep']\n"
   ]
  },
  {
   "cell_type": "code",
   "execution_count": 6,
   "metadata": {},
   "outputs": [],
   "source": [
    "#Male\n",
    "# df2_m=df2[df2['SEX']==1]\n",
    "# texts_m = df2_m['disease_sequenceF_nosep']\n",
    "docs_m = df2_m.disease_sequenceF_nosep.apply(str).to_list()\n",
    "# Female\n",
    "# df2_f=df2[df2['SEX']==2]\n",
    "# texts_f = df2_f['disease_sequenceF_nosep']\n",
    "docs_f = df2_f.disease_sequenceF_nosep.apply(str).to_list()"
   ]
  },
  {
   "cell_type": "code",
   "execution_count": null,
   "metadata": {},
   "outputs": [],
   "source": [
    "\n",
    "classes2_m= df2_m['d138']\n",
    "classes2_f= df2_f['d138']\n"
   ]
  },
  {
   "cell_type": "code",
   "execution_count": null,
   "metadata": {},
   "outputs": [],
   "source": [
    "#1. option1 "
   ]
  },
  {
   "cell_type": "code",
   "execution_count": 49,
   "metadata": {},
   "outputs": [
    {
     "data": {
      "text/plain": [
       "(170317, 384)"
      ]
     },
     "execution_count": 49,
     "metadata": {},
     "output_type": "execute_result"
    }
   ],
   "source": [
    "embeddings.shape # (8066, 384)"
   ]
  },
  {
   "cell_type": "code",
   "execution_count": 8,
   "metadata": {},
   "outputs": [
    {
     "data": {
      "application/vnd.jupyter.widget-view+json": {
       "model_id": "8c4d09b0b79d4196b87657864f4ce432",
       "version_major": 2,
       "version_minor": 0
      },
      "text/plain": [
       "Batches:   0%|          | 0/2463 [00:00<?, ?it/s]"
      ]
     },
     "metadata": {},
     "output_type": "display_data"
    }
   ],
   "source": [
    "#male\n",
    "from sentence_transformers import SentenceTransformer\n",
    "\n",
    "# Pre-calculate embeddings\n",
    "embedding_model_m = SentenceTransformer(\"all-MiniLM-L6-v2\")\n",
    "embeddings_m = embedding_model_m.encode(texts_m, show_progress_bar=True)"
   ]
  },
  {
   "cell_type": "code",
   "execution_count": 9,
   "metadata": {},
   "outputs": [
    {
     "data": {
      "application/vnd.jupyter.widget-view+json": {
       "model_id": "337758bd424447328c32260bf94275cd",
       "version_major": 2,
       "version_minor": 0
      },
      "text/plain": [
       "Batches:   0%|          | 0/2860 [00:00<?, ?it/s]"
      ]
     },
     "metadata": {},
     "output_type": "display_data"
    }
   ],
   "source": [
    "#female\n",
    "from sentence_transformers import SentenceTransformer\n",
    "\n",
    "# Pre-calculate embeddings\n",
    "embedding_model_f = SentenceTransformer(\"all-MiniLM-L6-v2\")\n",
    "embeddings_f = embedding_model_f.encode(texts_f, show_progress_bar=True)"
   ]
  },
  {
   "cell_type": "code",
   "execution_count": 44,
   "metadata": {},
   "outputs": [],
   "source": [
    "#Preventing Stochastic Behavior¶\n",
    "\n",
    "from umap import UMAP\n",
    "umap_model = UMAP(n_neighbors=15, n_components=5, min_dist=0.0, metric='cosine', random_state=42)\n"
   ]
  },
  {
   "cell_type": "code",
   "execution_count": 45,
   "metadata": {},
   "outputs": [],
   "source": [
    "# Controlling Number of Topics\n",
    "from hdbscan import HDBSCAN\n",
    "\n",
    "#option1\n",
    "hdbscan_model = HDBSCAN(min_cluster_size=150, metric='euclidean', cluster_selection_method='eom', prediction_data=True)\n",
    "\n",
    "# # option2\n",
    "# hdbscan_model = HDBSCAN(min_cluster_size=150,min_samples=5, metric='euclidean', cluster_selection_method='eom', prediction_data=True)\n",
    "\n"
   ]
  },
  {
   "cell_type": "code",
   "execution_count": 46,
   "metadata": {},
   "outputs": [],
   "source": [
    "# from bertopic import BERTopic\n",
    "from bertopic.vectorizers import ClassTfidfTransformer\n",
    "ctfidf_model = ClassTfidfTransformer()\n",
    "#topic_model = BERTopic(ctfidf_model=ctfidf_model )"
   ]
  },
  {
   "cell_type": "code",
   "execution_count": null,
   "metadata": {},
   "outputs": [],
   "source": [
    "## Additional Representations¶\n",
    "\n",
    "import openai\n",
    "from bertopic.representation import KeyBERTInspired, MaximalMarginalRelevance, OpenAI, PartOfSpeech\n",
    "\n",
    "# KeyBERT\n",
    "keybert_model = KeyBERTInspired()\n",
    "\n",
    "# Part-of-Speech\n",
    "#pos_model = PartOfSpeech(\"en_core_web_sm\")\n",
    "\n",
    "# MMR\n",
    "mmr_model = MaximalMarginalRelevance(diversity=0.3)\n",
    "\n",
    "\n",
    "# All representation models\n",
    "representation_model = {\n",
    "    \"KeyBERT\": keybert_model,\n",
    "    # \"OpenAI\": openai_model,  # Uncomment if you will use OpenAI\n",
    "    \"MMR\": mmr_model,\n",
    "    #\"POS\": pos_model\n",
    "}"
   ]
  },
  {
   "cell_type": "code",
   "execution_count": null,
   "metadata": {},
   "outputs": [],
   "source": [
    "# 1. Male"
   ]
  },
  {
   "cell_type": "code",
   "execution_count": 51,
   "metadata": {},
   "outputs": [
    {
     "name": "stderr",
     "output_type": "stream",
     "text": [
      "2024-08-06 13:09:15,233 - BERTopic - Dimensionality - Fitting the dimensionality reduction algorithm\n",
      "2024-08-06 13:11:41,368 - BERTopic - Dimensionality - Completed ✓\n",
      "2024-08-06 13:11:41,369 - BERTopic - Cluster - Start clustering the reduced embeddings\n",
      "huggingface/tokenizers: The current process just got forked, after parallelism has already been used. Disabling parallelism to avoid deadlocks...\n",
      "To disable this warning, you can either:\n",
      "\t- Avoid using `tokenizers` before the fork if possible\n",
      "\t- Explicitly set the environment variable TOKENIZERS_PARALLELISM=(true | false)\n",
      "huggingface/tokenizers: The current process just got forked, after parallelism has already been used. Disabling parallelism to avoid deadlocks...\n",
      "To disable this warning, you can either:\n",
      "\t- Avoid using `tokenizers` before the fork if possible\n",
      "\t- Explicitly set the environment variable TOKENIZERS_PARALLELISM=(true | false)\n",
      "huggingface/tokenizers: The current process just got forked, after parallelism has already been used. Disabling parallelism to avoid deadlocks...\n",
      "To disable this warning, you can either:\n",
      "\t- Avoid using `tokenizers` before the fork if possible\n",
      "\t- Explicitly set the environment variable TOKENIZERS_PARALLELISM=(true | false)\n",
      "huggingface/tokenizers: The current process just got forked, after parallelism has already been used. Disabling parallelism to avoid deadlocks...\n",
      "To disable this warning, you can either:\n",
      "\t- Avoid using `tokenizers` before the fork if possible\n",
      "\t- Explicitly set the environment variable TOKENIZERS_PARALLELISM=(true | false)\n",
      "huggingface/tokenizers: The current process just got forked, after parallelism has already been used. Disabling parallelism to avoid deadlocks...\n",
      "To disable this warning, you can either:\n",
      "\t- Avoid using `tokenizers` before the fork if possible\n",
      "\t- Explicitly set the environment variable TOKENIZERS_PARALLELISM=(true | false)\n",
      "huggingface/tokenizers: The current process just got forked, after parallelism has already been used. Disabling parallelism to avoid deadlocks...\n",
      "To disable this warning, you can either:\n",
      "\t- Avoid using `tokenizers` before the fork if possible\n",
      "\t- Explicitly set the environment variable TOKENIZERS_PARALLELISM=(true | false)\n",
      "2024-08-06 13:12:17,004 - BERTopic - Cluster - Completed ✓\n",
      "2024-08-06 13:12:17,005 - BERTopic - Representation - Extracting topics from clusters using representation models.\n",
      "2024-08-06 13:12:17,383 - BERTopic - Representation - Completed ✓\n",
      "2024-08-06 13:12:17,384 - BERTopic - Topic reduction - Reducing number of topics\n",
      "2024-08-06 13:12:17,703 - BERTopic - Topic reduction - Reduced number of topics from 116 to 77\n",
      "2024-08-06 13:12:18,034 - BERTopic - Dimensionality - Fitting the dimensionality reduction algorithm\n",
      "2024-08-06 13:14:32,127 - BERTopic - Dimensionality - Completed ✓\n",
      "2024-08-06 13:14:32,128 - BERTopic - Cluster - Start clustering the reduced embeddings\n",
      "2024-08-06 13:15:04,819 - BERTopic - Cluster - Completed ✓\n",
      "2024-08-06 13:15:04,820 - BERTopic - Representation - Extracting topics from clusters using representation models.\n",
      "2024-08-06 13:15:05,215 - BERTopic - Representation - Completed ✓\n",
      "2024-08-06 13:15:05,216 - BERTopic - Topic reduction - Reducing number of topics\n",
      "2024-08-06 13:15:05,521 - BERTopic - Topic reduction - Reduced number of topics from 114 to 71\n",
      "2024-08-06 13:15:05,842 - BERTopic - WARNING: When you use `pickle` to save/load a BERTopic model,please make sure that the environments in which you saveand load the model are **exactly** the same. The version of BERTopic,its dependencies, and python need to remain the same.\n",
      "/home/skbae/anaconda3/envs/myNLP/lib/python3.9/site-packages/scipy/sparse/_index.py:146: SparseEfficiencyWarning: Changing the sparsity structure of a csr_matrix is expensive. lil_matrix is more efficient.\n",
      "  self._set_arrayXarray(i, j, x)\n"
     ]
    }
   ],
   "source": [
    "# male :embeddings_m \n",
    "\n",
    "from bertopic import BERTopic\n",
    "\n",
    "topic_model_m = BERTopic(\n",
    "\n",
    "  # Pipeline models\n",
    "  embedding_model=embedding_model_m,\n",
    "  umap_model=umap_model,\n",
    "  hdbscan_model=hdbscan_model,\n",
    "  ctfidf_model = ctfidf_model,\n",
    "  # vectorizer_model=vectorizer_model,\n",
    "  # representation_model=representation_model,\n",
    "  min_topic_size=10,\n",
    "  # Hyperparameters\n",
    "  top_n_words=20,    # 10 option2\n",
    "  verbose=True,\n",
    "  nr_topics=\"auto\",\n",
    "calculate_probabilities=True).fit(docs_m, embeddings_m)\n",
    "\n",
    "\n",
    "topics, probs = topic_model_m.fit_transform(docs_m, embeddings_m)\n",
    "# topic_model_m.get_topic_info()\n",
    "\n",
    "# Show topics :topic_model.get_topic_info()\n",
    "topic_info_138_merged_m = topic_model_m.get_topic_info()\n",
    "\n",
    "\n",
    "# 100p all option1\n",
    "# topic_info_138_merged.to_csv('./topic_info_138_100pall_5y_onset2_op1_dec08.csv')\n",
    "# topic_info_138_merged_m.to_csv('./topic_info_138_100pall_5y_onset2_op1_dec20_male.csv')\n",
    "\n",
    "# topic_model_m.save(\"./my_topics_model_138_100pall_5y_onset1_op1_dec20_male\")\n",
    "\n",
    "topic_info_138_merged_m.to_csv('./topic_info_138_100pall_5y_onset2_op1_dec20_aug02male.csv')\n",
    "\n",
    "topic_model_m.save(\"./my_topics_model_138_100pall_5y_onset1_op1_dec20_aug02_male\")\n"
   ]
  },
  {
   "cell_type": "code",
   "execution_count": null,
   "metadata": {},
   "outputs": [],
   "source": [
    "# 2. Female"
   ]
  },
  {
   "cell_type": "code",
   "execution_count": 70,
   "metadata": {},
   "outputs": [
    {
     "name": "stderr",
     "output_type": "stream",
     "text": [
      "2024-08-02 14:10:57,908 - BERTopic - Dimensionality - Fitting the dimensionality reduction algorithm\n",
      "2024-08-02 14:13:07,357 - BERTopic - Dimensionality - Completed ✓\n",
      "2024-08-02 14:13:07,359 - BERTopic - Cluster - Start clustering the reduced embeddings\n",
      "huggingface/tokenizers: The current process just got forked, after parallelism has already been used. Disabling parallelism to avoid deadlocks...\n",
      "To disable this warning, you can either:\n",
      "\t- Avoid using `tokenizers` before the fork if possible\n",
      "\t- Explicitly set the environment variable TOKENIZERS_PARALLELISM=(true | false)\n",
      "huggingface/tokenizers: The current process just got forked, after parallelism has already been used. Disabling parallelism to avoid deadlocks...\n",
      "To disable this warning, you can either:\n",
      "\t- Avoid using `tokenizers` before the fork if possible\n",
      "\t- Explicitly set the environment variable TOKENIZERS_PARALLELISM=(true | false)\n",
      "huggingface/tokenizers: The current process just got forked, after parallelism has already been used. Disabling parallelism to avoid deadlocks...\n",
      "To disable this warning, you can either:\n",
      "\t- Avoid using `tokenizers` before the fork if possible\n",
      "\t- Explicitly set the environment variable TOKENIZERS_PARALLELISM=(true | false)\n",
      "huggingface/tokenizers: The current process just got forked, after parallelism has already been used. Disabling parallelism to avoid deadlocks...\n",
      "To disable this warning, you can either:\n",
      "\t- Avoid using `tokenizers` before the fork if possible\n",
      "\t- Explicitly set the environment variable TOKENIZERS_PARALLELISM=(true | false)\n",
      "2024-08-02 14:14:13,684 - BERTopic - Cluster - Completed ✓\n",
      "2024-08-02 14:14:13,685 - BERTopic - Representation - Extracting topics from clusters using representation models.\n",
      "2024-08-02 14:14:14,114 - BERTopic - Representation - Completed ✓\n",
      "2024-08-02 14:14:14,115 - BERTopic - Topic reduction - Reducing number of topics\n",
      "2024-08-02 14:14:14,448 - BERTopic - Topic reduction - Reduced number of topics from 148 to 45\n",
      "2024-08-02 14:14:14,767 - BERTopic - Dimensionality - Fitting the dimensionality reduction algorithm\n",
      "2024-08-02 14:16:22,765 - BERTopic - Dimensionality - Completed ✓\n",
      "2024-08-02 14:16:22,766 - BERTopic - Cluster - Start clustering the reduced embeddings\n",
      "2024-08-02 14:17:15,035 - BERTopic - Cluster - Completed ✓\n",
      "2024-08-02 14:17:15,036 - BERTopic - Representation - Extracting topics from clusters using representation models.\n",
      "2024-08-02 14:17:15,383 - BERTopic - Representation - Completed ✓\n",
      "2024-08-02 14:17:15,384 - BERTopic - Topic reduction - Reducing number of topics\n",
      "2024-08-02 14:17:15,679 - BERTopic - Topic reduction - Reduced number of topics from 142 to 75\n",
      "2024-08-02 14:17:15,959 - BERTopic - WARNING: When you use `pickle` to save/load a BERTopic model,please make sure that the environments in which you saveand load the model are **exactly** the same. The version of BERTopic,its dependencies, and python need to remain the same.\n",
      "/home/skbae/anaconda3/envs/myNLP/lib/python3.9/site-packages/scipy/sparse/_index.py:146: SparseEfficiencyWarning:\n",
      "\n",
      "Changing the sparsity structure of a csr_matrix is expensive. lil_matrix is more efficient.\n",
      "\n"
     ]
    }
   ],
   "source": [
    "# female :embeddings_f\n",
    "\n",
    "from bertopic import BERTopic\n",
    "\n",
    "topic_model_f = BERTopic(\n",
    "\n",
    "  # Pipeline models\n",
    "  embedding_model=embedding_model_f,\n",
    "  umap_model=umap_model,\n",
    "  hdbscan_model=hdbscan_model,\n",
    "  ctfidf_model = ctfidf_model,\n",
    "  # vectorizer_model=vectorizer_model,\n",
    "  # representation_model=representation_model,\n",
    "  min_topic_size=10,\n",
    "  # Hyperparameters\n",
    "  top_n_words=20,    # 10 option2\n",
    "  verbose=True,\n",
    "  nr_topics=\"auto\",\n",
    "calculate_probabilities=True).fit(docs_f, embeddings_f)\n",
    "\n",
    "\n",
    "topics, probs = topic_model_f.fit_transform(docs_f, embeddings_f)\n",
    "# topic_model_m.get_topic_info()\n",
    "\n",
    "# Show topics :topic_model.get_topic_info()\n",
    "topic_info_138_merged_f = topic_model_f.get_topic_info()\n",
    "\n",
    "\n",
    "# 100p all option1\n",
    "# topic_info_138_merged.to_csv('./topic_info_138_100pall_5y_onset2_op1_dec08.csv')\n",
    "# topic_info_138_merged_f.to_csv('./topic_info_138_100pall_5y_onset2_op1_dec20_female.csv')\n",
    "\n",
    "# topic_model_f.save(\"./my_topics_model_138_100pall_5y_onset1_op1_dec20_female\")\n",
    "\n",
    "topic_info_138_merged_f.to_csv('./topic_info_138_100pall_5y_onset2_op1_dec20_aug02_female.csv')\n",
    "\n",
    "topic_model_f.save(\"./my_topics_model_138_100pall_5y_onset1_op1_dec20_aug02_female\")"
   ]
  },
  {
   "cell_type": "code",
   "execution_count": 52,
   "metadata": {},
   "outputs": [
    {
     "data": {
      "text/html": [
       "<div>\n",
       "<style scoped>\n",
       "    .dataframe tbody tr th:only-of-type {\n",
       "        vertical-align: middle;\n",
       "    }\n",
       "\n",
       "    .dataframe tbody tr th {\n",
       "        vertical-align: top;\n",
       "    }\n",
       "\n",
       "    .dataframe thead th {\n",
       "        text-align: right;\n",
       "    }\n",
       "</style>\n",
       "<table border=\"1\" class=\"dataframe\">\n",
       "  <thead>\n",
       "    <tr style=\"text-align: right;\">\n",
       "      <th></th>\n",
       "      <th>Topic</th>\n",
       "      <th>Count</th>\n",
       "      <th>Name</th>\n",
       "      <th>Representation</th>\n",
       "      <th>Representative_Docs</th>\n",
       "    </tr>\n",
       "  </thead>\n",
       "  <tbody>\n",
       "    <tr>\n",
       "      <th>0</th>\n",
       "      <td>-1</td>\n",
       "      <td>22333</td>\n",
       "      <td>-1_142_229_134_236</td>\n",
       "      <td>[142, 229, 134, 236, 239, 238, 225, 143, 160, ...</td>\n",
       "      <td>[['228', '225', '236', '225', '142', '229', '2...</td>\n",
       "    </tr>\n",
       "    <tr>\n",
       "      <th>1</th>\n",
       "      <td>0</td>\n",
       "      <td>9589</td>\n",
       "      <td>0_195_197_229_239</td>\n",
       "      <td>[195, 197, 229, 239, 225, 198, 145, 228, 221, ...</td>\n",
       "      <td>[['195', '195', '195', '195', '195'], ['195', ...</td>\n",
       "    </tr>\n",
       "    <tr>\n",
       "      <th>2</th>\n",
       "      <td>1</td>\n",
       "      <td>4008</td>\n",
       "      <td>1_151_152_162_220</td>\n",
       "      <td>[151, 152, 162, 220, 221, 202, 169, 150, 219, ...</td>\n",
       "      <td>[['151', '151', '152', '152'], ['151', '152', ...</td>\n",
       "    </tr>\n",
       "    <tr>\n",
       "      <th>3</th>\n",
       "      <td>2</td>\n",
       "      <td>3327</td>\n",
       "      <td>2_220_232_152_162</td>\n",
       "      <td>[220, 232, 152, 162, 151, 145, 235, 225, 221, ...</td>\n",
       "      <td>[['151', '220', '220', '152', '220', '151', '1...</td>\n",
       "    </tr>\n",
       "    <tr>\n",
       "      <th>4</th>\n",
       "      <td>3</td>\n",
       "      <td>2720</td>\n",
       "      <td>3_147_145_239_202</td>\n",
       "      <td>[147, 145, 239, 202, 220, 219, 152, 148, 225, ...</td>\n",
       "      <td>[['145', '147', '147', '145', '145', '147', '1...</td>\n",
       "    </tr>\n",
       "    <tr>\n",
       "      <th>...</th>\n",
       "      <td>...</td>\n",
       "      <td>...</td>\n",
       "      <td>...</td>\n",
       "      <td>...</td>\n",
       "      <td>...</td>\n",
       "    </tr>\n",
       "    <tr>\n",
       "      <th>66</th>\n",
       "      <td>65</td>\n",
       "      <td>167</td>\n",
       "      <td>65_136_133_137_132</td>\n",
       "      <td>[136, 133, 137, 132, 202, 115, 153, 220, 201, ...</td>\n",
       "      <td>[['133', '136', '133', '136', '133', '136', '1...</td>\n",
       "    </tr>\n",
       "    <tr>\n",
       "      <th>67</th>\n",
       "      <td>66</td>\n",
       "      <td>164</td>\n",
       "      <td>66_239_195_197_140</td>\n",
       "      <td>[239, 195, 197, 140, 241, 143, 228, 134, 229, ...</td>\n",
       "      <td>[['195', '239', '195', '195'], ['195', '239', ...</td>\n",
       "    </tr>\n",
       "    <tr>\n",
       "      <th>68</th>\n",
       "      <td>67</td>\n",
       "      <td>164</td>\n",
       "      <td>67_239_195_229_241</td>\n",
       "      <td>[239, 195, 229, 241, 238, 197, 201, 200, 220, ...</td>\n",
       "      <td>[['239', '195', '239', '195', '195'], ['239', ...</td>\n",
       "    </tr>\n",
       "    <tr>\n",
       "      <th>69</th>\n",
       "      <td>68</td>\n",
       "      <td>157</td>\n",
       "      <td>68_122_110_154_120</td>\n",
       "      <td>[122, 110, 154, 120, 236, 105, 114, 147, 150, ...</td>\n",
       "      <td>[['122', '122', '122', '122', '122'], ['122', ...</td>\n",
       "    </tr>\n",
       "    <tr>\n",
       "      <th>70</th>\n",
       "      <td>69</td>\n",
       "      <td>151</td>\n",
       "      <td>69_229_232_236_200</td>\n",
       "      <td>[229, 232, 236, 200, 228, 225, 246, 143, 142, ...</td>\n",
       "      <td>[['229', '229', '229'], ['229', '229', '229'],...</td>\n",
       "    </tr>\n",
       "  </tbody>\n",
       "</table>\n",
       "<p>71 rows × 5 columns</p>\n",
       "</div>"
      ],
      "text/plain": [
       "    Topic  Count                Name  \\\n",
       "0      -1  22333  -1_142_229_134_236   \n",
       "1       0   9589   0_195_197_229_239   \n",
       "2       1   4008   1_151_152_162_220   \n",
       "3       2   3327   2_220_232_152_162   \n",
       "4       3   2720   3_147_145_239_202   \n",
       "..    ...    ...                 ...   \n",
       "66     65    167  65_136_133_137_132   \n",
       "67     66    164  66_239_195_197_140   \n",
       "68     67    164  67_239_195_229_241   \n",
       "69     68    157  68_122_110_154_120   \n",
       "70     69    151  69_229_232_236_200   \n",
       "\n",
       "                                       Representation  \\\n",
       "0   [142, 229, 134, 236, 239, 238, 225, 143, 160, ...   \n",
       "1   [195, 197, 229, 239, 225, 198, 145, 228, 221, ...   \n",
       "2   [151, 152, 162, 220, 221, 202, 169, 150, 219, ...   \n",
       "3   [220, 232, 152, 162, 151, 145, 235, 225, 221, ...   \n",
       "4   [147, 145, 239, 202, 220, 219, 152, 148, 225, ...   \n",
       "..                                                ...   \n",
       "66  [136, 133, 137, 132, 202, 115, 153, 220, 201, ...   \n",
       "67  [239, 195, 197, 140, 241, 143, 228, 134, 229, ...   \n",
       "68  [239, 195, 229, 241, 238, 197, 201, 200, 220, ...   \n",
       "69  [122, 110, 154, 120, 236, 105, 114, 147, 150, ...   \n",
       "70  [229, 232, 236, 200, 228, 225, 246, 143, 142, ...   \n",
       "\n",
       "                                  Representative_Docs  \n",
       "0   [['228', '225', '236', '225', '142', '229', '2...  \n",
       "1   [['195', '195', '195', '195', '195'], ['195', ...  \n",
       "2   [['151', '151', '152', '152'], ['151', '152', ...  \n",
       "3   [['151', '220', '220', '152', '220', '151', '1...  \n",
       "4   [['145', '147', '147', '145', '145', '147', '1...  \n",
       "..                                                ...  \n",
       "66  [['133', '136', '133', '136', '133', '136', '1...  \n",
       "67  [['195', '239', '195', '195'], ['195', '239', ...  \n",
       "68  [['239', '195', '239', '195', '195'], ['239', ...  \n",
       "69  [['122', '122', '122', '122', '122'], ['122', ...  \n",
       "70  [['229', '229', '229'], ['229', '229', '229'],...  \n",
       "\n",
       "[71 rows x 5 columns]"
      ]
     },
     "execution_count": 52,
     "metadata": {},
     "output_type": "execute_result"
    }
   ],
   "source": [
    "topic_model_m.get_topic_info()"
   ]
  },
  {
   "cell_type": "code",
   "execution_count": 71,
   "metadata": {},
   "outputs": [
    {
     "data": {
      "text/html": [
       "<div>\n",
       "<style scoped>\n",
       "    .dataframe tbody tr th:only-of-type {\n",
       "        vertical-align: middle;\n",
       "    }\n",
       "\n",
       "    .dataframe tbody tr th {\n",
       "        vertical-align: top;\n",
       "    }\n",
       "\n",
       "    .dataframe thead th {\n",
       "        text-align: right;\n",
       "    }\n",
       "</style>\n",
       "<table border=\"1\" class=\"dataframe\">\n",
       "  <thead>\n",
       "    <tr style=\"text-align: right;\">\n",
       "      <th></th>\n",
       "      <th>Topic</th>\n",
       "      <th>Count</th>\n",
       "      <th>Name</th>\n",
       "      <th>Representation</th>\n",
       "      <th>Representative_Docs</th>\n",
       "    </tr>\n",
       "  </thead>\n",
       "  <tbody>\n",
       "    <tr>\n",
       "      <th>0</th>\n",
       "      <td>-1</td>\n",
       "      <td>20581</td>\n",
       "      <td>-1_169_229_200_238</td>\n",
       "      <td>[169, 229, 200, 238, 225, 143, 205, 197, 150, ...</td>\n",
       "      <td>[['162', '168', '168', '169', '220', '221', '2...</td>\n",
       "    </tr>\n",
       "    <tr>\n",
       "      <th>1</th>\n",
       "      <td>0</td>\n",
       "      <td>11059</td>\n",
       "      <td>0_218_219_239_221</td>\n",
       "      <td>[218, 219, 239, 221, 220, 152, 145, 151, 162, ...</td>\n",
       "      <td>[['218', '219', '219', '219'], ['219', '219', ...</td>\n",
       "    </tr>\n",
       "    <tr>\n",
       "      <th>2</th>\n",
       "      <td>1</td>\n",
       "      <td>5842</td>\n",
       "      <td>1_195_197_200_239</td>\n",
       "      <td>[195, 197, 200, 239, 238, 219, 228, 221, 220, ...</td>\n",
       "      <td>[['195', '195', '195', '195', '195'], ['195', ...</td>\n",
       "    </tr>\n",
       "    <tr>\n",
       "      <th>3</th>\n",
       "      <td>2</td>\n",
       "      <td>4875</td>\n",
       "      <td>2_126_142_157_234</td>\n",
       "      <td>[126, 142, 157, 234, 236, 150, 199, 160, 102, ...</td>\n",
       "      <td>[['142', '151', '236', '221'], ['142', '151', ...</td>\n",
       "    </tr>\n",
       "    <tr>\n",
       "      <th>4</th>\n",
       "      <td>3</td>\n",
       "      <td>4513</td>\n",
       "      <td>3_152_151_162_145</td>\n",
       "      <td>[152, 151, 162, 145, 200, 169, 220, 221, 168, ...</td>\n",
       "      <td>[['152', '152', '152', '151', '152'], ['152', ...</td>\n",
       "    </tr>\n",
       "    <tr>\n",
       "      <th>...</th>\n",
       "      <td>...</td>\n",
       "      <td>...</td>\n",
       "      <td>...</td>\n",
       "      <td>...</td>\n",
       "      <td>...</td>\n",
       "    </tr>\n",
       "    <tr>\n",
       "      <th>70</th>\n",
       "      <td>69</td>\n",
       "      <td>157</td>\n",
       "      <td>69_229_116_232_236</td>\n",
       "      <td>[229, 116, 232, 236, 168, 225, 231, 228, 205, ...</td>\n",
       "      <td>[['229', '229', '229', '229', '229'], ['229', ...</td>\n",
       "    </tr>\n",
       "    <tr>\n",
       "      <th>71</th>\n",
       "      <td>70</td>\n",
       "      <td>156</td>\n",
       "      <td>70_147_195_197_229</td>\n",
       "      <td>[147, 195, 197, 229, 238, 239, 219, 117, 220, ...</td>\n",
       "      <td>[['147', '195', '195'], ['147', '195', '195'],...</td>\n",
       "    </tr>\n",
       "    <tr>\n",
       "      <th>72</th>\n",
       "      <td>71</td>\n",
       "      <td>154</td>\n",
       "      <td>71_200_151_162_142</td>\n",
       "      <td>[200, 151, 162, 142, 152, 205, 239, 145, 201, ...</td>\n",
       "      <td>[['200', '151', '200', '151'], ['200', '151', ...</td>\n",
       "    </tr>\n",
       "    <tr>\n",
       "      <th>73</th>\n",
       "      <td>72</td>\n",
       "      <td>153</td>\n",
       "      <td>72_133_195_197_239</td>\n",
       "      <td>[133, 195, 197, 239, 238, 137, 126, 198, 161, ...</td>\n",
       "      <td>[['133', '195', '133', '195', '133', '195'], [...</td>\n",
       "    </tr>\n",
       "    <tr>\n",
       "      <th>74</th>\n",
       "      <td>73</td>\n",
       "      <td>151</td>\n",
       "      <td>73_136_152_160_198</td>\n",
       "      <td>[136, 152, 160, 198, 165, 231, 133, 239, 238, ...</td>\n",
       "      <td>[['152', '136', '136'], ['152', '136', '136'],...</td>\n",
       "    </tr>\n",
       "  </tbody>\n",
       "</table>\n",
       "<p>75 rows × 5 columns</p>\n",
       "</div>"
      ],
      "text/plain": [
       "    Topic  Count                Name  \\\n",
       "0      -1  20581  -1_169_229_200_238   \n",
       "1       0  11059   0_218_219_239_221   \n",
       "2       1   5842   1_195_197_200_239   \n",
       "3       2   4875   2_126_142_157_234   \n",
       "4       3   4513   3_152_151_162_145   \n",
       "..    ...    ...                 ...   \n",
       "70     69    157  69_229_116_232_236   \n",
       "71     70    156  70_147_195_197_229   \n",
       "72     71    154  71_200_151_162_142   \n",
       "73     72    153  72_133_195_197_239   \n",
       "74     73    151  73_136_152_160_198   \n",
       "\n",
       "                                       Representation  \\\n",
       "0   [169, 229, 200, 238, 225, 143, 205, 197, 150, ...   \n",
       "1   [218, 219, 239, 221, 220, 152, 145, 151, 162, ...   \n",
       "2   [195, 197, 200, 239, 238, 219, 228, 221, 220, ...   \n",
       "3   [126, 142, 157, 234, 236, 150, 199, 160, 102, ...   \n",
       "4   [152, 151, 162, 145, 200, 169, 220, 221, 168, ...   \n",
       "..                                                ...   \n",
       "70  [229, 116, 232, 236, 168, 225, 231, 228, 205, ...   \n",
       "71  [147, 195, 197, 229, 238, 239, 219, 117, 220, ...   \n",
       "72  [200, 151, 162, 142, 152, 205, 239, 145, 201, ...   \n",
       "73  [133, 195, 197, 239, 238, 137, 126, 198, 161, ...   \n",
       "74  [136, 152, 160, 198, 165, 231, 133, 239, 238, ...   \n",
       "\n",
       "                                  Representative_Docs  \n",
       "0   [['162', '168', '168', '169', '220', '221', '2...  \n",
       "1   [['218', '219', '219', '219'], ['219', '219', ...  \n",
       "2   [['195', '195', '195', '195', '195'], ['195', ...  \n",
       "3   [['142', '151', '236', '221'], ['142', '151', ...  \n",
       "4   [['152', '152', '152', '151', '152'], ['152', ...  \n",
       "..                                                ...  \n",
       "70  [['229', '229', '229', '229', '229'], ['229', ...  \n",
       "71  [['147', '195', '195'], ['147', '195', '195'],...  \n",
       "72  [['200', '151', '200', '151'], ['200', '151', ...  \n",
       "73  [['133', '195', '133', '195', '133', '195'], [...  \n",
       "74  [['152', '136', '136'], ['152', '136', '136'],...  \n",
       "\n",
       "[75 rows x 5 columns]"
      ]
     },
     "execution_count": 71,
     "metadata": {},
     "output_type": "execute_result"
    }
   ],
   "source": [
    "topic_model_f.get_topic_info()"
   ]
  },
  {
   "cell_type": "code",
   "execution_count": null,
   "metadata": {},
   "outputs": [],
   "source": [
    "#topic by class and class2"
   ]
  },
  {
   "cell_type": "code",
   "execution_count": 53,
   "metadata": {},
   "outputs": [
    {
     "name": "stderr",
     "output_type": "stream",
     "text": [
      "2it [00:00, 11.05it/s]\n"
     ]
    }
   ],
   "source": [
    "# male\n",
    "\n",
    "# classes2_m= df2_m['d138']\n",
    "# classes2_f= df2_f['d138']\n",
    "\n",
    "topics_per_class_m = topic_model_m.topics_per_class(docs_m, classes=classes2_m)"
   ]
  },
  {
   "cell_type": "code",
   "execution_count": 75,
   "metadata": {},
   "outputs": [
    {
     "name": "stderr",
     "output_type": "stream",
     "text": [
      "2it [00:00,  8.72it/s]\n"
     ]
    }
   ],
   "source": [
    "# Female\n",
    "\n",
    "# classes2_m= df2_m['d138']\n",
    "# classes2_f= df2_f['d138']\n",
    "\n",
    "topics_per_class_f = topic_model_f.topics_per_class(docs_f, classes=classes2_f)"
   ]
  },
  {
   "cell_type": "code",
   "execution_count": 54,
   "metadata": {},
   "outputs": [
    {
     "data": {
      "text/html": [
       "<div>\n",
       "<style scoped>\n",
       "    .dataframe tbody tr th:only-of-type {\n",
       "        vertical-align: middle;\n",
       "    }\n",
       "\n",
       "    .dataframe tbody tr th {\n",
       "        vertical-align: top;\n",
       "    }\n",
       "\n",
       "    .dataframe thead th {\n",
       "        text-align: right;\n",
       "    }\n",
       "</style>\n",
       "<table border=\"1\" class=\"dataframe\">\n",
       "  <thead>\n",
       "    <tr style=\"text-align: right;\">\n",
       "      <th></th>\n",
       "      <th>Topic</th>\n",
       "      <th>Words</th>\n",
       "      <th>Frequency</th>\n",
       "      <th>Class</th>\n",
       "    </tr>\n",
       "  </thead>\n",
       "  <tbody>\n",
       "    <tr>\n",
       "      <th>0</th>\n",
       "      <td>-1</td>\n",
       "      <td>142, 229, 236, 134, 239</td>\n",
       "      <td>21632</td>\n",
       "      <td>0</td>\n",
       "    </tr>\n",
       "    <tr>\n",
       "      <th>1</th>\n",
       "      <td>0</td>\n",
       "      <td>195, 197, 229, 239, 225</td>\n",
       "      <td>9437</td>\n",
       "      <td>0</td>\n",
       "    </tr>\n",
       "    <tr>\n",
       "      <th>2</th>\n",
       "      <td>1</td>\n",
       "      <td>151, 152, 162, 220, 221</td>\n",
       "      <td>3963</td>\n",
       "      <td>0</td>\n",
       "    </tr>\n",
       "    <tr>\n",
       "      <th>3</th>\n",
       "      <td>2</td>\n",
       "      <td>220, 232, 152, 162, 151</td>\n",
       "      <td>3229</td>\n",
       "      <td>0</td>\n",
       "    </tr>\n",
       "    <tr>\n",
       "      <th>4</th>\n",
       "      <td>3</td>\n",
       "      <td>147, 145, 239, 202, 220</td>\n",
       "      <td>2646</td>\n",
       "      <td>0</td>\n",
       "    </tr>\n",
       "  </tbody>\n",
       "</table>\n",
       "</div>"
      ],
      "text/plain": [
       "   Topic                    Words  Frequency  Class\n",
       "0     -1  142, 229, 236, 134, 239      21632      0\n",
       "1      0  195, 197, 229, 239, 225       9437      0\n",
       "2      1  151, 152, 162, 220, 221       3963      0\n",
       "3      2  220, 232, 152, 162, 151       3229      0\n",
       "4      3  147, 145, 239, 202, 220       2646      0"
      ]
     },
     "execution_count": 54,
     "metadata": {},
     "output_type": "execute_result"
    }
   ],
   "source": [
    "topics_per_class_m.head()"
   ]
  },
  {
   "cell_type": "code",
   "execution_count": 55,
   "metadata": {},
   "outputs": [
    {
     "data": {
      "text/plain": [
       "0    71\n",
       "1    69\n",
       "Name: Class, dtype: int64"
      ]
     },
     "execution_count": 55,
     "metadata": {},
     "output_type": "execute_result"
    }
   ],
   "source": [
    "topics_per_class_m.Class.value_counts()"
   ]
  },
  {
   "cell_type": "code",
   "execution_count": 56,
   "metadata": {},
   "outputs": [
    {
     "data": {
      "application/vnd.plotly.v1+json": {
       "config": {
        "plotlyServerURL": "https://plot.ly"
       },
       "data": [
        {
         "hoverinfo": "text",
         "hovertext": [
          "<b>Topic 0</b><br>Words: 195, 197, 229, 239, 225",
          "<b>Topic 0</b><br>Words: 195, 197, 229, 239, 225"
         ],
         "marker": {
          "color": "#E69F00"
         },
         "name": "0_195_197_229_239",
         "orientation": "h",
         "type": "bar",
         "visible": true,
         "x": [
          9437,
          152
         ],
         "y": [
          0,
          1
         ]
        },
        {
         "hoverinfo": "text",
         "hovertext": [
          "<b>Topic 1</b><br>Words: 151, 152, 162, 220, 221",
          "<b>Topic 1</b><br>Words: 152, 151, 246, 162, 110"
         ],
         "marker": {
          "color": "#56B4E9"
         },
         "name": "1_151_152_162_220",
         "orientation": "h",
         "type": "bar",
         "visible": "legendonly",
         "x": [
          3963,
          45
         ],
         "y": [
          0,
          1
         ]
        },
        {
         "hoverinfo": "text",
         "hovertext": [
          "<b>Topic 2</b><br>Words: 220, 232, 152, 162, 151",
          "<b>Topic 2</b><br>Words: 220, 145, 232, 162, 152"
         ],
         "marker": {
          "color": "#009E73"
         },
         "name": "2_220_232_152_162",
         "orientation": "h",
         "type": "bar",
         "visible": "legendonly",
         "x": [
          3229,
          98
         ],
         "y": [
          0,
          1
         ]
        },
        {
         "hoverinfo": "text",
         "hovertext": [
          "<b>Topic 3</b><br>Words: 147, 145, 239, 202, 220",
          "<b>Topic 3</b><br>Words: 147, 145, 239, 218, 202"
         ],
         "marker": {
          "color": "#F0E442"
         },
         "name": "3_147_145_239_202",
         "orientation": "h",
         "type": "bar",
         "visible": "legendonly",
         "x": [
          2646,
          74
         ],
         "y": [
          0,
          1
         ]
        },
        {
         "hoverinfo": "text",
         "hovertext": [
          "<b>Topic 4</b><br>Words: 133, 239, 202, 221, 160",
          "<b>Topic 4</b><br>Words: 133, 139, 239, 136, 230"
         ],
         "marker": {
          "color": "#D55E00"
         },
         "name": "4_133_239_202_221",
         "orientation": "h",
         "type": "bar",
         "visible": "legendonly",
         "x": [
          2338,
          95
         ],
         "y": [
          0,
          1
         ]
        },
        {
         "hoverinfo": "text",
         "hovertext": [
          "<b>Topic 5</b><br>Words: 220, 221, 219, 239, 229",
          "<b>Topic 5</b><br>Words: 220, 239, 221, 229, 219"
         ],
         "marker": {
          "color": "#0072B2"
         },
         "name": "5_220_221_219_239",
         "orientation": "h",
         "type": "bar",
         "visible": "legendonly",
         "x": [
          2122,
          52
         ],
         "y": [
          0,
          1
         ]
        },
        {
         "hoverinfo": "text",
         "hovertext": [
          "<b>Topic 6</b><br>Words: 142, 241, 123, 145, 223",
          "<b>Topic 6</b><br>Words: 132, 137, 145, 202, 133"
         ],
         "marker": {
          "color": "#CC79A7"
         },
         "name": "6_142_241_145_123",
         "orientation": "h",
         "type": "bar",
         "visible": "legendonly",
         "x": [
          2050,
          88
         ],
         "y": [
          0,
          1
         ]
        },
        {
         "hoverinfo": "text",
         "hovertext": [
          "<b>Topic 7</b><br>Words: 134, 135, 239, 202, 104",
          "<b>Topic 7</b><br>Words: 134, 165, 240, 143, 155"
         ],
         "marker": {
          "color": "#E69F00"
         },
         "name": "7_134_135_239_202",
         "orientation": "h",
         "type": "bar",
         "visible": "legendonly",
         "x": [
          1922,
          56
         ],
         "y": [
          0,
          1
         ]
        },
        {
         "hoverinfo": "text",
         "hovertext": [
          "<b>Topic 8</b><br>Words: 202, 239, 219, 155, 220",
          "<b>Topic 8</b><br>Words: 202, 239, 200, 142, 218"
         ],
         "marker": {
          "color": "#56B4E9"
         },
         "name": "8_202_239_219_155",
         "orientation": "h",
         "type": "bar",
         "visible": "legendonly",
         "x": [
          1898,
          72
         ],
         "y": [
          0,
          1
         ]
        },
        {
         "hoverinfo": "text",
         "hovertext": [
          "<b>Topic 9</b><br>Words: 219, 220, 152, 145, 151",
          "<b>Topic 9</b><br>Words: 219, 220, 145, 152, 162"
         ],
         "marker": {
          "color": "#009E73"
         },
         "name": "9_219_220_145_152",
         "orientation": "h",
         "type": "bar",
         "visible": "legendonly",
         "x": [
          1855,
          74
         ],
         "y": [
          0,
          1
         ]
        }
       ],
       "layout": {
        "height": 900,
        "hoverlabel": {
         "bgcolor": "white",
         "font": {
          "family": "Rockwell",
          "size": 16
         }
        },
        "legend": {
         "title": {
          "text": "<b>Global Topic Representation"
         }
        },
        "template": {
         "data": {
          "bar": [
           {
            "error_x": {
             "color": "rgb(36,36,36)"
            },
            "error_y": {
             "color": "rgb(36,36,36)"
            },
            "marker": {
             "line": {
              "color": "white",
              "width": 0.5
             },
             "pattern": {
              "fillmode": "overlay",
              "size": 10,
              "solidity": 0.2
             }
            },
            "type": "bar"
           }
          ],
          "barpolar": [
           {
            "marker": {
             "line": {
              "color": "white",
              "width": 0.5
             },
             "pattern": {
              "fillmode": "overlay",
              "size": 10,
              "solidity": 0.2
             }
            },
            "type": "barpolar"
           }
          ],
          "carpet": [
           {
            "aaxis": {
             "endlinecolor": "rgb(36,36,36)",
             "gridcolor": "white",
             "linecolor": "white",
             "minorgridcolor": "white",
             "startlinecolor": "rgb(36,36,36)"
            },
            "baxis": {
             "endlinecolor": "rgb(36,36,36)",
             "gridcolor": "white",
             "linecolor": "white",
             "minorgridcolor": "white",
             "startlinecolor": "rgb(36,36,36)"
            },
            "type": "carpet"
           }
          ],
          "choropleth": [
           {
            "colorbar": {
             "outlinewidth": 1,
             "tickcolor": "rgb(36,36,36)",
             "ticks": "outside"
            },
            "type": "choropleth"
           }
          ],
          "contour": [
           {
            "colorbar": {
             "outlinewidth": 1,
             "tickcolor": "rgb(36,36,36)",
             "ticks": "outside"
            },
            "colorscale": [
             [
              0,
              "#440154"
             ],
             [
              0.1111111111111111,
              "#482878"
             ],
             [
              0.2222222222222222,
              "#3e4989"
             ],
             [
              0.3333333333333333,
              "#31688e"
             ],
             [
              0.4444444444444444,
              "#26828e"
             ],
             [
              0.5555555555555556,
              "#1f9e89"
             ],
             [
              0.6666666666666666,
              "#35b779"
             ],
             [
              0.7777777777777778,
              "#6ece58"
             ],
             [
              0.8888888888888888,
              "#b5de2b"
             ],
             [
              1,
              "#fde725"
             ]
            ],
            "type": "contour"
           }
          ],
          "contourcarpet": [
           {
            "colorbar": {
             "outlinewidth": 1,
             "tickcolor": "rgb(36,36,36)",
             "ticks": "outside"
            },
            "type": "contourcarpet"
           }
          ],
          "heatmap": [
           {
            "colorbar": {
             "outlinewidth": 1,
             "tickcolor": "rgb(36,36,36)",
             "ticks": "outside"
            },
            "colorscale": [
             [
              0,
              "#440154"
             ],
             [
              0.1111111111111111,
              "#482878"
             ],
             [
              0.2222222222222222,
              "#3e4989"
             ],
             [
              0.3333333333333333,
              "#31688e"
             ],
             [
              0.4444444444444444,
              "#26828e"
             ],
             [
              0.5555555555555556,
              "#1f9e89"
             ],
             [
              0.6666666666666666,
              "#35b779"
             ],
             [
              0.7777777777777778,
              "#6ece58"
             ],
             [
              0.8888888888888888,
              "#b5de2b"
             ],
             [
              1,
              "#fde725"
             ]
            ],
            "type": "heatmap"
           }
          ],
          "heatmapgl": [
           {
            "colorbar": {
             "outlinewidth": 1,
             "tickcolor": "rgb(36,36,36)",
             "ticks": "outside"
            },
            "colorscale": [
             [
              0,
              "#440154"
             ],
             [
              0.1111111111111111,
              "#482878"
             ],
             [
              0.2222222222222222,
              "#3e4989"
             ],
             [
              0.3333333333333333,
              "#31688e"
             ],
             [
              0.4444444444444444,
              "#26828e"
             ],
             [
              0.5555555555555556,
              "#1f9e89"
             ],
             [
              0.6666666666666666,
              "#35b779"
             ],
             [
              0.7777777777777778,
              "#6ece58"
             ],
             [
              0.8888888888888888,
              "#b5de2b"
             ],
             [
              1,
              "#fde725"
             ]
            ],
            "type": "heatmapgl"
           }
          ],
          "histogram": [
           {
            "marker": {
             "line": {
              "color": "white",
              "width": 0.6
             }
            },
            "type": "histogram"
           }
          ],
          "histogram2d": [
           {
            "colorbar": {
             "outlinewidth": 1,
             "tickcolor": "rgb(36,36,36)",
             "ticks": "outside"
            },
            "colorscale": [
             [
              0,
              "#440154"
             ],
             [
              0.1111111111111111,
              "#482878"
             ],
             [
              0.2222222222222222,
              "#3e4989"
             ],
             [
              0.3333333333333333,
              "#31688e"
             ],
             [
              0.4444444444444444,
              "#26828e"
             ],
             [
              0.5555555555555556,
              "#1f9e89"
             ],
             [
              0.6666666666666666,
              "#35b779"
             ],
             [
              0.7777777777777778,
              "#6ece58"
             ],
             [
              0.8888888888888888,
              "#b5de2b"
             ],
             [
              1,
              "#fde725"
             ]
            ],
            "type": "histogram2d"
           }
          ],
          "histogram2dcontour": [
           {
            "colorbar": {
             "outlinewidth": 1,
             "tickcolor": "rgb(36,36,36)",
             "ticks": "outside"
            },
            "colorscale": [
             [
              0,
              "#440154"
             ],
             [
              0.1111111111111111,
              "#482878"
             ],
             [
              0.2222222222222222,
              "#3e4989"
             ],
             [
              0.3333333333333333,
              "#31688e"
             ],
             [
              0.4444444444444444,
              "#26828e"
             ],
             [
              0.5555555555555556,
              "#1f9e89"
             ],
             [
              0.6666666666666666,
              "#35b779"
             ],
             [
              0.7777777777777778,
              "#6ece58"
             ],
             [
              0.8888888888888888,
              "#b5de2b"
             ],
             [
              1,
              "#fde725"
             ]
            ],
            "type": "histogram2dcontour"
           }
          ],
          "mesh3d": [
           {
            "colorbar": {
             "outlinewidth": 1,
             "tickcolor": "rgb(36,36,36)",
             "ticks": "outside"
            },
            "type": "mesh3d"
           }
          ],
          "parcoords": [
           {
            "line": {
             "colorbar": {
              "outlinewidth": 1,
              "tickcolor": "rgb(36,36,36)",
              "ticks": "outside"
             }
            },
            "type": "parcoords"
           }
          ],
          "pie": [
           {
            "automargin": true,
            "type": "pie"
           }
          ],
          "scatter": [
           {
            "fillpattern": {
             "fillmode": "overlay",
             "size": 10,
             "solidity": 0.2
            },
            "type": "scatter"
           }
          ],
          "scatter3d": [
           {
            "line": {
             "colorbar": {
              "outlinewidth": 1,
              "tickcolor": "rgb(36,36,36)",
              "ticks": "outside"
             }
            },
            "marker": {
             "colorbar": {
              "outlinewidth": 1,
              "tickcolor": "rgb(36,36,36)",
              "ticks": "outside"
             }
            },
            "type": "scatter3d"
           }
          ],
          "scattercarpet": [
           {
            "marker": {
             "colorbar": {
              "outlinewidth": 1,
              "tickcolor": "rgb(36,36,36)",
              "ticks": "outside"
             }
            },
            "type": "scattercarpet"
           }
          ],
          "scattergeo": [
           {
            "marker": {
             "colorbar": {
              "outlinewidth": 1,
              "tickcolor": "rgb(36,36,36)",
              "ticks": "outside"
             }
            },
            "type": "scattergeo"
           }
          ],
          "scattergl": [
           {
            "marker": {
             "colorbar": {
              "outlinewidth": 1,
              "tickcolor": "rgb(36,36,36)",
              "ticks": "outside"
             }
            },
            "type": "scattergl"
           }
          ],
          "scattermapbox": [
           {
            "marker": {
             "colorbar": {
              "outlinewidth": 1,
              "tickcolor": "rgb(36,36,36)",
              "ticks": "outside"
             }
            },
            "type": "scattermapbox"
           }
          ],
          "scatterpolar": [
           {
            "marker": {
             "colorbar": {
              "outlinewidth": 1,
              "tickcolor": "rgb(36,36,36)",
              "ticks": "outside"
             }
            },
            "type": "scatterpolar"
           }
          ],
          "scatterpolargl": [
           {
            "marker": {
             "colorbar": {
              "outlinewidth": 1,
              "tickcolor": "rgb(36,36,36)",
              "ticks": "outside"
             }
            },
            "type": "scatterpolargl"
           }
          ],
          "scatterternary": [
           {
            "marker": {
             "colorbar": {
              "outlinewidth": 1,
              "tickcolor": "rgb(36,36,36)",
              "ticks": "outside"
             }
            },
            "type": "scatterternary"
           }
          ],
          "surface": [
           {
            "colorbar": {
             "outlinewidth": 1,
             "tickcolor": "rgb(36,36,36)",
             "ticks": "outside"
            },
            "colorscale": [
             [
              0,
              "#440154"
             ],
             [
              0.1111111111111111,
              "#482878"
             ],
             [
              0.2222222222222222,
              "#3e4989"
             ],
             [
              0.3333333333333333,
              "#31688e"
             ],
             [
              0.4444444444444444,
              "#26828e"
             ],
             [
              0.5555555555555556,
              "#1f9e89"
             ],
             [
              0.6666666666666666,
              "#35b779"
             ],
             [
              0.7777777777777778,
              "#6ece58"
             ],
             [
              0.8888888888888888,
              "#b5de2b"
             ],
             [
              1,
              "#fde725"
             ]
            ],
            "type": "surface"
           }
          ],
          "table": [
           {
            "cells": {
             "fill": {
              "color": "rgb(237,237,237)"
             },
             "line": {
              "color": "white"
             }
            },
            "header": {
             "fill": {
              "color": "rgb(217,217,217)"
             },
             "line": {
              "color": "white"
             }
            },
            "type": "table"
           }
          ]
         },
         "layout": {
          "annotationdefaults": {
           "arrowhead": 0,
           "arrowwidth": 1
          },
          "autotypenumbers": "strict",
          "coloraxis": {
           "colorbar": {
            "outlinewidth": 1,
            "tickcolor": "rgb(36,36,36)",
            "ticks": "outside"
           }
          },
          "colorscale": {
           "diverging": [
            [
             0,
             "rgb(103,0,31)"
            ],
            [
             0.1,
             "rgb(178,24,43)"
            ],
            [
             0.2,
             "rgb(214,96,77)"
            ],
            [
             0.3,
             "rgb(244,165,130)"
            ],
            [
             0.4,
             "rgb(253,219,199)"
            ],
            [
             0.5,
             "rgb(247,247,247)"
            ],
            [
             0.6,
             "rgb(209,229,240)"
            ],
            [
             0.7,
             "rgb(146,197,222)"
            ],
            [
             0.8,
             "rgb(67,147,195)"
            ],
            [
             0.9,
             "rgb(33,102,172)"
            ],
            [
             1,
             "rgb(5,48,97)"
            ]
           ],
           "sequential": [
            [
             0,
             "#440154"
            ],
            [
             0.1111111111111111,
             "#482878"
            ],
            [
             0.2222222222222222,
             "#3e4989"
            ],
            [
             0.3333333333333333,
             "#31688e"
            ],
            [
             0.4444444444444444,
             "#26828e"
            ],
            [
             0.5555555555555556,
             "#1f9e89"
            ],
            [
             0.6666666666666666,
             "#35b779"
            ],
            [
             0.7777777777777778,
             "#6ece58"
            ],
            [
             0.8888888888888888,
             "#b5de2b"
            ],
            [
             1,
             "#fde725"
            ]
           ],
           "sequentialminus": [
            [
             0,
             "#440154"
            ],
            [
             0.1111111111111111,
             "#482878"
            ],
            [
             0.2222222222222222,
             "#3e4989"
            ],
            [
             0.3333333333333333,
             "#31688e"
            ],
            [
             0.4444444444444444,
             "#26828e"
            ],
            [
             0.5555555555555556,
             "#1f9e89"
            ],
            [
             0.6666666666666666,
             "#35b779"
            ],
            [
             0.7777777777777778,
             "#6ece58"
            ],
            [
             0.8888888888888888,
             "#b5de2b"
            ],
            [
             1,
             "#fde725"
            ]
           ]
          },
          "colorway": [
           "#1F77B4",
           "#FF7F0E",
           "#2CA02C",
           "#D62728",
           "#9467BD",
           "#8C564B",
           "#E377C2",
           "#7F7F7F",
           "#BCBD22",
           "#17BECF"
          ],
          "font": {
           "color": "rgb(36,36,36)"
          },
          "geo": {
           "bgcolor": "white",
           "lakecolor": "white",
           "landcolor": "white",
           "showlakes": true,
           "showland": true,
           "subunitcolor": "white"
          },
          "hoverlabel": {
           "align": "left"
          },
          "hovermode": "closest",
          "mapbox": {
           "style": "light"
          },
          "paper_bgcolor": "white",
          "plot_bgcolor": "white",
          "polar": {
           "angularaxis": {
            "gridcolor": "rgb(232,232,232)",
            "linecolor": "rgb(36,36,36)",
            "showgrid": false,
            "showline": true,
            "ticks": "outside"
           },
           "bgcolor": "white",
           "radialaxis": {
            "gridcolor": "rgb(232,232,232)",
            "linecolor": "rgb(36,36,36)",
            "showgrid": false,
            "showline": true,
            "ticks": "outside"
           }
          },
          "scene": {
           "xaxis": {
            "backgroundcolor": "white",
            "gridcolor": "rgb(232,232,232)",
            "gridwidth": 2,
            "linecolor": "rgb(36,36,36)",
            "showbackground": true,
            "showgrid": false,
            "showline": true,
            "ticks": "outside",
            "zeroline": false,
            "zerolinecolor": "rgb(36,36,36)"
           },
           "yaxis": {
            "backgroundcolor": "white",
            "gridcolor": "rgb(232,232,232)",
            "gridwidth": 2,
            "linecolor": "rgb(36,36,36)",
            "showbackground": true,
            "showgrid": false,
            "showline": true,
            "ticks": "outside",
            "zeroline": false,
            "zerolinecolor": "rgb(36,36,36)"
           },
           "zaxis": {
            "backgroundcolor": "white",
            "gridcolor": "rgb(232,232,232)",
            "gridwidth": 2,
            "linecolor": "rgb(36,36,36)",
            "showbackground": true,
            "showgrid": false,
            "showline": true,
            "ticks": "outside",
            "zeroline": false,
            "zerolinecolor": "rgb(36,36,36)"
           }
          },
          "shapedefaults": {
           "fillcolor": "black",
           "line": {
            "width": 0
           },
           "opacity": 0.3
          },
          "ternary": {
           "aaxis": {
            "gridcolor": "rgb(232,232,232)",
            "linecolor": "rgb(36,36,36)",
            "showgrid": false,
            "showline": true,
            "ticks": "outside"
           },
           "baxis": {
            "gridcolor": "rgb(232,232,232)",
            "linecolor": "rgb(36,36,36)",
            "showgrid": false,
            "showline": true,
            "ticks": "outside"
           },
           "bgcolor": "white",
           "caxis": {
            "gridcolor": "rgb(232,232,232)",
            "linecolor": "rgb(36,36,36)",
            "showgrid": false,
            "showline": true,
            "ticks": "outside"
           }
          },
          "title": {
           "x": 0.05
          },
          "xaxis": {
           "automargin": true,
           "gridcolor": "rgb(232,232,232)",
           "linecolor": "rgb(36,36,36)",
           "showgrid": false,
           "showline": true,
           "ticks": "outside",
           "title": {
            "standoff": 15
           },
           "zeroline": false,
           "zerolinecolor": "rgb(36,36,36)"
          },
          "yaxis": {
           "automargin": true,
           "gridcolor": "rgb(232,232,232)",
           "linecolor": "rgb(36,36,36)",
           "showgrid": false,
           "showline": true,
           "ticks": "outside",
           "title": {
            "standoff": 15
           },
           "zeroline": false,
           "zerolinecolor": "rgb(36,36,36)"
          }
         }
        },
        "title": {
         "font": {
          "color": "Black",
          "size": 22
         },
         "text": "<b>Topics per Class</b>",
         "x": 0.4,
         "xanchor": "center",
         "y": 0.95,
         "yanchor": "top"
        },
        "width": 1250,
        "xaxis": {
         "showgrid": true,
         "title": {
          "text": "Frequency"
         }
        },
        "yaxis": {
         "showgrid": true,
         "title": {
          "text": "Class"
         }
        }
       }
      }
     },
     "metadata": {},
     "output_type": "display_data"
    }
   ],
   "source": [
    "topic_model_m.visualize_topics_per_class(topics_per_class_m, top_n_topics=10)"
   ]
  },
  {
   "cell_type": "code",
   "execution_count": 57,
   "metadata": {},
   "outputs": [
    {
     "data": {
      "text/html": [
       "<div>\n",
       "<style scoped>\n",
       "    .dataframe tbody tr th:only-of-type {\n",
       "        vertical-align: middle;\n",
       "    }\n",
       "\n",
       "    .dataframe tbody tr th {\n",
       "        vertical-align: top;\n",
       "    }\n",
       "\n",
       "    .dataframe thead th {\n",
       "        text-align: right;\n",
       "    }\n",
       "</style>\n",
       "<table border=\"1\" class=\"dataframe\">\n",
       "  <thead>\n",
       "    <tr style=\"text-align: right;\">\n",
       "      <th></th>\n",
       "      <th>Class</th>\n",
       "      <th>0</th>\n",
       "      <th>1</th>\n",
       "    </tr>\n",
       "    <tr>\n",
       "      <th>Topic</th>\n",
       "      <th>Words</th>\n",
       "      <th></th>\n",
       "      <th></th>\n",
       "    </tr>\n",
       "  </thead>\n",
       "  <tbody>\n",
       "    <tr>\n",
       "      <th rowspan=\"2\" valign=\"top\">-1</th>\n",
       "      <th>132, 134, 238, 202, 239</th>\n",
       "      <td>0</td>\n",
       "      <td>701</td>\n",
       "    </tr>\n",
       "    <tr>\n",
       "      <th>142, 229, 236, 134, 239</th>\n",
       "      <td>21632</td>\n",
       "      <td>0</td>\n",
       "    </tr>\n",
       "    <tr>\n",
       "      <th>0</th>\n",
       "      <th>195, 197, 229, 239, 225</th>\n",
       "      <td>9437</td>\n",
       "      <td>152</td>\n",
       "    </tr>\n",
       "    <tr>\n",
       "      <th rowspan=\"2\" valign=\"top\">1</th>\n",
       "      <th>151, 152, 162, 220, 221</th>\n",
       "      <td>3963</td>\n",
       "      <td>0</td>\n",
       "    </tr>\n",
       "    <tr>\n",
       "      <th>152, 151, 246, 162, 110</th>\n",
       "      <td>0</td>\n",
       "      <td>45</td>\n",
       "    </tr>\n",
       "    <tr>\n",
       "      <th>...</th>\n",
       "      <th>...</th>\n",
       "      <td>...</td>\n",
       "      <td>...</td>\n",
       "    </tr>\n",
       "    <tr>\n",
       "      <th>67</th>\n",
       "      <th>239, 229, 219, 220, 195</th>\n",
       "      <td>0</td>\n",
       "      <td>1</td>\n",
       "    </tr>\n",
       "    <tr>\n",
       "      <th rowspan=\"2\" valign=\"top\">68</th>\n",
       "      <th>122, 110, 154, 120, 236</th>\n",
       "      <td>152</td>\n",
       "      <td>0</td>\n",
       "    </tr>\n",
       "    <tr>\n",
       "      <th>122, 241, 140, 235, 228</th>\n",
       "      <td>0</td>\n",
       "      <td>5</td>\n",
       "    </tr>\n",
       "    <tr>\n",
       "      <th rowspan=\"2\" valign=\"top\">69</th>\n",
       "      <th>229, 155, 232, 220, 202</th>\n",
       "      <td>0</td>\n",
       "      <td>1</td>\n",
       "    </tr>\n",
       "    <tr>\n",
       "      <th>229, 232, 236, 200, 228</th>\n",
       "      <td>150</td>\n",
       "      <td>0</td>\n",
       "    </tr>\n",
       "  </tbody>\n",
       "</table>\n",
       "<p>139 rows × 2 columns</p>\n",
       "</div>"
      ],
      "text/plain": [
       "Class                              0    1\n",
       "Topic Words                              \n",
       "-1    132, 134, 238, 202, 239      0  701\n",
       "      142, 229, 236, 134, 239  21632    0\n",
       " 0    195, 197, 229, 239, 225   9437  152\n",
       " 1    151, 152, 162, 220, 221   3963    0\n",
       "      152, 151, 246, 162, 110      0   45\n",
       "...                              ...  ...\n",
       " 67   239, 229, 219, 220, 195      0    1\n",
       " 68   122, 110, 154, 120, 236    152    0\n",
       "      122, 241, 140, 235, 228      0    5\n",
       " 69   229, 155, 232, 220, 202      0    1\n",
       "      229, 232, 236, 200, 228    150    0\n",
       "\n",
       "[139 rows x 2 columns]"
      ]
     },
     "execution_count": 57,
     "metadata": {},
     "output_type": "execute_result"
    }
   ],
   "source": [
    "table =pd.pivot_table(topics_per_class_m, values='Frequency', index=['Topic', 'Words'],\n",
    "                       columns=['Class'], aggfunc=np.sum, fill_value=0)\n",
    "table"
   ]
  },
  {
   "cell_type": "code",
   "execution_count": 58,
   "metadata": {},
   "outputs": [],
   "source": [
    "import pandas as pd\n",
    "import numpy as np\n",
    "from scipy.stats import chi2_contingency\n",
    "import seaborn as sns"
   ]
  },
  {
   "cell_type": "code",
   "execution_count": 59,
   "metadata": {},
   "outputs": [
    {
     "name": "stdout",
     "output_type": "stream",
     "text": [
      "Chi-Square Statistic: 439.9944971699995\n",
      "P-value: 5.022502995364892e-55\n",
      "Degrees of Freedom: 70\n",
      "Reject the null hypothesis: The variables are dependent.\n"
     ]
    }
   ],
   "source": [
    "# Create a contingency table\n",
    "contingency_table = pd.pivot_table(topics_per_class_m, values='Frequency', index='Topic', columns='Class', aggfunc=sum, fill_value=0)\n",
    "\n",
    "# Perform the Chi-Square test\n",
    "chi2_stat, p_val, dof, expected = chi2_contingency(contingency_table)\n",
    "\n",
    "# Print the results\n",
    "print(\"Chi-Square Statistic:\", chi2_stat)\n",
    "print(\"P-value:\", p_val)\n",
    "print(\"Degrees of Freedom:\", dof)\n",
    "#print(\"Expected Frequencies:\\n\", expected)\n",
    "\n",
    "#Interpret the results\n",
    "alpha = 0.05  # significance level\n",
    "\n",
    "if p_val < alpha:\n",
    "    print(\"Reject the null hypothesis: The variables are dependent.\")\n",
    "else:\n",
    "    print(\"Fail to reject the null hypothesis: The variables are independent.\")"
   ]
  },
  {
   "cell_type": "code",
   "execution_count": 60,
   "metadata": {},
   "outputs": [],
   "source": [
    "# Show topics\n",
    "topics_per_class_info_m = topic_model_m.get_topic_info()"
   ]
  },
  {
   "cell_type": "markdown",
   "metadata": {},
   "source": []
  },
  {
   "cell_type": "code",
   "execution_count": 61,
   "metadata": {},
   "outputs": [
    {
     "data": {
      "text/html": [
       "<div>\n",
       "<style scoped>\n",
       "    .dataframe tbody tr th:only-of-type {\n",
       "        vertical-align: middle;\n",
       "    }\n",
       "\n",
       "    .dataframe tbody tr th {\n",
       "        vertical-align: top;\n",
       "    }\n",
       "\n",
       "    .dataframe thead th {\n",
       "        text-align: right;\n",
       "    }\n",
       "</style>\n",
       "<table border=\"1\" class=\"dataframe\">\n",
       "  <thead>\n",
       "    <tr style=\"text-align: right;\">\n",
       "      <th></th>\n",
       "      <th>Topic</th>\n",
       "      <th>Count</th>\n",
       "      <th>Name</th>\n",
       "      <th>Representation</th>\n",
       "      <th>Representative_Docs</th>\n",
       "    </tr>\n",
       "  </thead>\n",
       "  <tbody>\n",
       "    <tr>\n",
       "      <th>0</th>\n",
       "      <td>-1</td>\n",
       "      <td>22333</td>\n",
       "      <td>-1_142_229_134_236</td>\n",
       "      <td>[142, 229, 134, 236, 239, 238, 225, 143, 160, ...</td>\n",
       "      <td>[['228', '225', '236', '225', '142', '229', '2...</td>\n",
       "    </tr>\n",
       "    <tr>\n",
       "      <th>1</th>\n",
       "      <td>0</td>\n",
       "      <td>9589</td>\n",
       "      <td>0_195_197_229_239</td>\n",
       "      <td>[195, 197, 229, 239, 225, 198, 145, 228, 221, ...</td>\n",
       "      <td>[['195', '195', '195', '195', '195'], ['195', ...</td>\n",
       "    </tr>\n",
       "    <tr>\n",
       "      <th>2</th>\n",
       "      <td>1</td>\n",
       "      <td>4008</td>\n",
       "      <td>1_151_152_162_220</td>\n",
       "      <td>[151, 152, 162, 220, 221, 202, 169, 150, 219, ...</td>\n",
       "      <td>[['151', '151', '152', '152'], ['151', '152', ...</td>\n",
       "    </tr>\n",
       "    <tr>\n",
       "      <th>3</th>\n",
       "      <td>2</td>\n",
       "      <td>3327</td>\n",
       "      <td>2_220_232_152_162</td>\n",
       "      <td>[220, 232, 152, 162, 151, 145, 235, 225, 221, ...</td>\n",
       "      <td>[['151', '220', '220', '152', '220', '151', '1...</td>\n",
       "    </tr>\n",
       "    <tr>\n",
       "      <th>4</th>\n",
       "      <td>3</td>\n",
       "      <td>2720</td>\n",
       "      <td>3_147_145_239_202</td>\n",
       "      <td>[147, 145, 239, 202, 220, 219, 152, 148, 225, ...</td>\n",
       "      <td>[['145', '147', '147', '145', '145', '147', '1...</td>\n",
       "    </tr>\n",
       "  </tbody>\n",
       "</table>\n",
       "</div>"
      ],
      "text/plain": [
       "   Topic  Count                Name  \\\n",
       "0     -1  22333  -1_142_229_134_236   \n",
       "1      0   9589   0_195_197_229_239   \n",
       "2      1   4008   1_151_152_162_220   \n",
       "3      2   3327   2_220_232_152_162   \n",
       "4      3   2720   3_147_145_239_202   \n",
       "\n",
       "                                      Representation  \\\n",
       "0  [142, 229, 134, 236, 239, 238, 225, 143, 160, ...   \n",
       "1  [195, 197, 229, 239, 225, 198, 145, 228, 221, ...   \n",
       "2  [151, 152, 162, 220, 221, 202, 169, 150, 219, ...   \n",
       "3  [220, 232, 152, 162, 151, 145, 235, 225, 221, ...   \n",
       "4  [147, 145, 239, 202, 220, 219, 152, 148, 225, ...   \n",
       "\n",
       "                                 Representative_Docs  \n",
       "0  [['228', '225', '236', '225', '142', '229', '2...  \n",
       "1  [['195', '195', '195', '195', '195'], ['195', ...  \n",
       "2  [['151', '151', '152', '152'], ['151', '152', ...  \n",
       "3  [['151', '220', '220', '152', '220', '151', '1...  \n",
       "4  [['145', '147', '147', '145', '145', '147', '1...  "
      ]
     },
     "execution_count": 61,
     "metadata": {},
     "output_type": "execute_result"
    }
   ],
   "source": [
    "topics_per_class_info_m.head()"
   ]
  },
  {
   "cell_type": "code",
   "execution_count": 62,
   "metadata": {},
   "outputs": [
    {
     "data": {
      "application/vnd.plotly.v1+json": {
       "config": {
        "plotlyServerURL": "https://plot.ly"
       },
       "data": [
        {
         "marker": {
          "color": "#D55E00"
         },
         "orientation": "h",
         "type": "bar",
         "x": [
          0.00509181207544714,
          0.006521911279678228,
          0.008071760005649806,
          0.019831599572178685,
          0.06976126299668146
         ],
         "xaxis": "x",
         "y": [
          "225  ",
          "239  ",
          "229  ",
          "197  ",
          "195  "
         ],
         "yaxis": "y"
        },
        {
         "marker": {
          "color": "#0072B2"
         },
         "orientation": "h",
         "type": "bar",
         "x": [
          0.006512016676039949,
          0.00715169483600997,
          0.02162903249407309,
          0.08174164334196524,
          0.08949983667507752
         ],
         "xaxis": "x2",
         "y": [
          "221  ",
          "220  ",
          "162  ",
          "152  ",
          "151  "
         ],
         "yaxis": "y2"
        },
        {
         "marker": {
          "color": "#CC79A7"
         },
         "orientation": "h",
         "type": "bar",
         "x": [
          0.01641068262815132,
          0.01726766620299615,
          0.01748846948457502,
          0.035090783556279814,
          0.046413984478759246
         ],
         "xaxis": "x3",
         "y": [
          "151  ",
          "162  ",
          "152  ",
          "232  ",
          "220  "
         ],
         "yaxis": "y3"
        },
        {
         "marker": {
          "color": "#E69F00"
         },
         "orientation": "h",
         "type": "bar",
         "x": [
          0.0058839980685261055,
          0.006012128254374367,
          0.007689915088274872,
          0.10812928755601518,
          0.15756819165261385
         ],
         "xaxis": "x4",
         "y": [
          "220  ",
          "202  ",
          "239  ",
          "145  ",
          "147  "
         ],
         "yaxis": "y4"
        },
        {
         "marker": {
          "color": "#56B4E9"
         },
         "orientation": "h",
         "type": "bar",
         "x": [
          0.004230961100245147,
          0.0042737633117640285,
          0.004779662991982648,
          0.005565223952274805,
          0.18561986441484574
         ],
         "xaxis": "x5",
         "y": [
          "160  ",
          "221  ",
          "202  ",
          "239  ",
          "133  "
         ],
         "yaxis": "y5"
        },
        {
         "marker": {
          "color": "#009E73"
         },
         "orientation": "h",
         "type": "bar",
         "x": [
          0.006744024059369943,
          0.008314396109285081,
          0.01200697144388022,
          0.014809629668719541,
          0.11137660280764748
         ],
         "xaxis": "x6",
         "y": [
          "229  ",
          "239  ",
          "219  ",
          "221  ",
          "220  "
         ],
         "yaxis": "y6"
        },
        {
         "marker": {
          "color": "#F0E442"
         },
         "orientation": "h",
         "type": "bar",
         "x": [
          0.0218874739564776,
          0.02243885926682998,
          0.022920609380163007,
          0.02337553105803022,
          0.03273923671667312
         ],
         "xaxis": "x7",
         "y": [
          "223  ",
          "123  ",
          "145  ",
          "241  ",
          "142  "
         ],
         "yaxis": "y7"
        },
        {
         "marker": {
          "color": "#D55E00"
         },
         "orientation": "h",
         "type": "bar",
         "x": [
          0.004295554845146907,
          0.004896367796086082,
          0.005615838111497211,
          0.006936624856850728,
          0.22131272261864152
         ],
         "xaxis": "x8",
         "y": [
          "165  ",
          "202  ",
          "239  ",
          "135  ",
          "134  "
         ],
         "yaxis": "y8"
        }
       ],
       "layout": {
        "annotations": [
         {
          "font": {
           "size": 16
          },
          "showarrow": false,
          "text": "Topic 0",
          "x": 0.0875,
          "xanchor": "center",
          "xref": "paper",
          "y": 1,
          "yanchor": "bottom",
          "yref": "paper"
         },
         {
          "font": {
           "size": 16
          },
          "showarrow": false,
          "text": "Topic 1",
          "x": 0.36250000000000004,
          "xanchor": "center",
          "xref": "paper",
          "y": 1,
          "yanchor": "bottom",
          "yref": "paper"
         },
         {
          "font": {
           "size": 16
          },
          "showarrow": false,
          "text": "Topic 2",
          "x": 0.6375000000000001,
          "xanchor": "center",
          "xref": "paper",
          "y": 1,
          "yanchor": "bottom",
          "yref": "paper"
         },
         {
          "font": {
           "size": 16
          },
          "showarrow": false,
          "text": "Topic 3",
          "x": 0.9125,
          "xanchor": "center",
          "xref": "paper",
          "y": 1,
          "yanchor": "bottom",
          "yref": "paper"
         },
         {
          "font": {
           "size": 16
          },
          "showarrow": false,
          "text": "Topic 4",
          "x": 0.0875,
          "xanchor": "center",
          "xref": "paper",
          "y": 0.4,
          "yanchor": "bottom",
          "yref": "paper"
         },
         {
          "font": {
           "size": 16
          },
          "showarrow": false,
          "text": "Topic 5",
          "x": 0.36250000000000004,
          "xanchor": "center",
          "xref": "paper",
          "y": 0.4,
          "yanchor": "bottom",
          "yref": "paper"
         },
         {
          "font": {
           "size": 16
          },
          "showarrow": false,
          "text": "Topic 6",
          "x": 0.6375000000000001,
          "xanchor": "center",
          "xref": "paper",
          "y": 0.4,
          "yanchor": "bottom",
          "yref": "paper"
         },
         {
          "font": {
           "size": 16
          },
          "showarrow": false,
          "text": "Topic 7",
          "x": 0.9125,
          "xanchor": "center",
          "xref": "paper",
          "y": 0.4,
          "yanchor": "bottom",
          "yref": "paper"
         }
        ],
        "height": 500,
        "hoverlabel": {
         "bgcolor": "white",
         "font": {
          "family": "Rockwell",
          "size": 16
         }
        },
        "showlegend": false,
        "template": {
         "data": {
          "bar": [
           {
            "error_x": {
             "color": "#2a3f5f"
            },
            "error_y": {
             "color": "#2a3f5f"
            },
            "marker": {
             "line": {
              "color": "white",
              "width": 0.5
             },
             "pattern": {
              "fillmode": "overlay",
              "size": 10,
              "solidity": 0.2
             }
            },
            "type": "bar"
           }
          ],
          "barpolar": [
           {
            "marker": {
             "line": {
              "color": "white",
              "width": 0.5
             },
             "pattern": {
              "fillmode": "overlay",
              "size": 10,
              "solidity": 0.2
             }
            },
            "type": "barpolar"
           }
          ],
          "carpet": [
           {
            "aaxis": {
             "endlinecolor": "#2a3f5f",
             "gridcolor": "#C8D4E3",
             "linecolor": "#C8D4E3",
             "minorgridcolor": "#C8D4E3",
             "startlinecolor": "#2a3f5f"
            },
            "baxis": {
             "endlinecolor": "#2a3f5f",
             "gridcolor": "#C8D4E3",
             "linecolor": "#C8D4E3",
             "minorgridcolor": "#C8D4E3",
             "startlinecolor": "#2a3f5f"
            },
            "type": "carpet"
           }
          ],
          "choropleth": [
           {
            "colorbar": {
             "outlinewidth": 0,
             "ticks": ""
            },
            "type": "choropleth"
           }
          ],
          "contour": [
           {
            "colorbar": {
             "outlinewidth": 0,
             "ticks": ""
            },
            "colorscale": [
             [
              0,
              "#0d0887"
             ],
             [
              0.1111111111111111,
              "#46039f"
             ],
             [
              0.2222222222222222,
              "#7201a8"
             ],
             [
              0.3333333333333333,
              "#9c179e"
             ],
             [
              0.4444444444444444,
              "#bd3786"
             ],
             [
              0.5555555555555556,
              "#d8576b"
             ],
             [
              0.6666666666666666,
              "#ed7953"
             ],
             [
              0.7777777777777778,
              "#fb9f3a"
             ],
             [
              0.8888888888888888,
              "#fdca26"
             ],
             [
              1,
              "#f0f921"
             ]
            ],
            "type": "contour"
           }
          ],
          "contourcarpet": [
           {
            "colorbar": {
             "outlinewidth": 0,
             "ticks": ""
            },
            "type": "contourcarpet"
           }
          ],
          "heatmap": [
           {
            "colorbar": {
             "outlinewidth": 0,
             "ticks": ""
            },
            "colorscale": [
             [
              0,
              "#0d0887"
             ],
             [
              0.1111111111111111,
              "#46039f"
             ],
             [
              0.2222222222222222,
              "#7201a8"
             ],
             [
              0.3333333333333333,
              "#9c179e"
             ],
             [
              0.4444444444444444,
              "#bd3786"
             ],
             [
              0.5555555555555556,
              "#d8576b"
             ],
             [
              0.6666666666666666,
              "#ed7953"
             ],
             [
              0.7777777777777778,
              "#fb9f3a"
             ],
             [
              0.8888888888888888,
              "#fdca26"
             ],
             [
              1,
              "#f0f921"
             ]
            ],
            "type": "heatmap"
           }
          ],
          "heatmapgl": [
           {
            "colorbar": {
             "outlinewidth": 0,
             "ticks": ""
            },
            "colorscale": [
             [
              0,
              "#0d0887"
             ],
             [
              0.1111111111111111,
              "#46039f"
             ],
             [
              0.2222222222222222,
              "#7201a8"
             ],
             [
              0.3333333333333333,
              "#9c179e"
             ],
             [
              0.4444444444444444,
              "#bd3786"
             ],
             [
              0.5555555555555556,
              "#d8576b"
             ],
             [
              0.6666666666666666,
              "#ed7953"
             ],
             [
              0.7777777777777778,
              "#fb9f3a"
             ],
             [
              0.8888888888888888,
              "#fdca26"
             ],
             [
              1,
              "#f0f921"
             ]
            ],
            "type": "heatmapgl"
           }
          ],
          "histogram": [
           {
            "marker": {
             "pattern": {
              "fillmode": "overlay",
              "size": 10,
              "solidity": 0.2
             }
            },
            "type": "histogram"
           }
          ],
          "histogram2d": [
           {
            "colorbar": {
             "outlinewidth": 0,
             "ticks": ""
            },
            "colorscale": [
             [
              0,
              "#0d0887"
             ],
             [
              0.1111111111111111,
              "#46039f"
             ],
             [
              0.2222222222222222,
              "#7201a8"
             ],
             [
              0.3333333333333333,
              "#9c179e"
             ],
             [
              0.4444444444444444,
              "#bd3786"
             ],
             [
              0.5555555555555556,
              "#d8576b"
             ],
             [
              0.6666666666666666,
              "#ed7953"
             ],
             [
              0.7777777777777778,
              "#fb9f3a"
             ],
             [
              0.8888888888888888,
              "#fdca26"
             ],
             [
              1,
              "#f0f921"
             ]
            ],
            "type": "histogram2d"
           }
          ],
          "histogram2dcontour": [
           {
            "colorbar": {
             "outlinewidth": 0,
             "ticks": ""
            },
            "colorscale": [
             [
              0,
              "#0d0887"
             ],
             [
              0.1111111111111111,
              "#46039f"
             ],
             [
              0.2222222222222222,
              "#7201a8"
             ],
             [
              0.3333333333333333,
              "#9c179e"
             ],
             [
              0.4444444444444444,
              "#bd3786"
             ],
             [
              0.5555555555555556,
              "#d8576b"
             ],
             [
              0.6666666666666666,
              "#ed7953"
             ],
             [
              0.7777777777777778,
              "#fb9f3a"
             ],
             [
              0.8888888888888888,
              "#fdca26"
             ],
             [
              1,
              "#f0f921"
             ]
            ],
            "type": "histogram2dcontour"
           }
          ],
          "mesh3d": [
           {
            "colorbar": {
             "outlinewidth": 0,
             "ticks": ""
            },
            "type": "mesh3d"
           }
          ],
          "parcoords": [
           {
            "line": {
             "colorbar": {
              "outlinewidth": 0,
              "ticks": ""
             }
            },
            "type": "parcoords"
           }
          ],
          "pie": [
           {
            "automargin": true,
            "type": "pie"
           }
          ],
          "scatter": [
           {
            "fillpattern": {
             "fillmode": "overlay",
             "size": 10,
             "solidity": 0.2
            },
            "type": "scatter"
           }
          ],
          "scatter3d": [
           {
            "line": {
             "colorbar": {
              "outlinewidth": 0,
              "ticks": ""
             }
            },
            "marker": {
             "colorbar": {
              "outlinewidth": 0,
              "ticks": ""
             }
            },
            "type": "scatter3d"
           }
          ],
          "scattercarpet": [
           {
            "marker": {
             "colorbar": {
              "outlinewidth": 0,
              "ticks": ""
             }
            },
            "type": "scattercarpet"
           }
          ],
          "scattergeo": [
           {
            "marker": {
             "colorbar": {
              "outlinewidth": 0,
              "ticks": ""
             }
            },
            "type": "scattergeo"
           }
          ],
          "scattergl": [
           {
            "marker": {
             "colorbar": {
              "outlinewidth": 0,
              "ticks": ""
             }
            },
            "type": "scattergl"
           }
          ],
          "scattermapbox": [
           {
            "marker": {
             "colorbar": {
              "outlinewidth": 0,
              "ticks": ""
             }
            },
            "type": "scattermapbox"
           }
          ],
          "scatterpolar": [
           {
            "marker": {
             "colorbar": {
              "outlinewidth": 0,
              "ticks": ""
             }
            },
            "type": "scatterpolar"
           }
          ],
          "scatterpolargl": [
           {
            "marker": {
             "colorbar": {
              "outlinewidth": 0,
              "ticks": ""
             }
            },
            "type": "scatterpolargl"
           }
          ],
          "scatterternary": [
           {
            "marker": {
             "colorbar": {
              "outlinewidth": 0,
              "ticks": ""
             }
            },
            "type": "scatterternary"
           }
          ],
          "surface": [
           {
            "colorbar": {
             "outlinewidth": 0,
             "ticks": ""
            },
            "colorscale": [
             [
              0,
              "#0d0887"
             ],
             [
              0.1111111111111111,
              "#46039f"
             ],
             [
              0.2222222222222222,
              "#7201a8"
             ],
             [
              0.3333333333333333,
              "#9c179e"
             ],
             [
              0.4444444444444444,
              "#bd3786"
             ],
             [
              0.5555555555555556,
              "#d8576b"
             ],
             [
              0.6666666666666666,
              "#ed7953"
             ],
             [
              0.7777777777777778,
              "#fb9f3a"
             ],
             [
              0.8888888888888888,
              "#fdca26"
             ],
             [
              1,
              "#f0f921"
             ]
            ],
            "type": "surface"
           }
          ],
          "table": [
           {
            "cells": {
             "fill": {
              "color": "#EBF0F8"
             },
             "line": {
              "color": "white"
             }
            },
            "header": {
             "fill": {
              "color": "#C8D4E3"
             },
             "line": {
              "color": "white"
             }
            },
            "type": "table"
           }
          ]
         },
         "layout": {
          "annotationdefaults": {
           "arrowcolor": "#2a3f5f",
           "arrowhead": 0,
           "arrowwidth": 1
          },
          "autotypenumbers": "strict",
          "coloraxis": {
           "colorbar": {
            "outlinewidth": 0,
            "ticks": ""
           }
          },
          "colorscale": {
           "diverging": [
            [
             0,
             "#8e0152"
            ],
            [
             0.1,
             "#c51b7d"
            ],
            [
             0.2,
             "#de77ae"
            ],
            [
             0.3,
             "#f1b6da"
            ],
            [
             0.4,
             "#fde0ef"
            ],
            [
             0.5,
             "#f7f7f7"
            ],
            [
             0.6,
             "#e6f5d0"
            ],
            [
             0.7,
             "#b8e186"
            ],
            [
             0.8,
             "#7fbc41"
            ],
            [
             0.9,
             "#4d9221"
            ],
            [
             1,
             "#276419"
            ]
           ],
           "sequential": [
            [
             0,
             "#0d0887"
            ],
            [
             0.1111111111111111,
             "#46039f"
            ],
            [
             0.2222222222222222,
             "#7201a8"
            ],
            [
             0.3333333333333333,
             "#9c179e"
            ],
            [
             0.4444444444444444,
             "#bd3786"
            ],
            [
             0.5555555555555556,
             "#d8576b"
            ],
            [
             0.6666666666666666,
             "#ed7953"
            ],
            [
             0.7777777777777778,
             "#fb9f3a"
            ],
            [
             0.8888888888888888,
             "#fdca26"
            ],
            [
             1,
             "#f0f921"
            ]
           ],
           "sequentialminus": [
            [
             0,
             "#0d0887"
            ],
            [
             0.1111111111111111,
             "#46039f"
            ],
            [
             0.2222222222222222,
             "#7201a8"
            ],
            [
             0.3333333333333333,
             "#9c179e"
            ],
            [
             0.4444444444444444,
             "#bd3786"
            ],
            [
             0.5555555555555556,
             "#d8576b"
            ],
            [
             0.6666666666666666,
             "#ed7953"
            ],
            [
             0.7777777777777778,
             "#fb9f3a"
            ],
            [
             0.8888888888888888,
             "#fdca26"
            ],
            [
             1,
             "#f0f921"
            ]
           ]
          },
          "colorway": [
           "#636efa",
           "#EF553B",
           "#00cc96",
           "#ab63fa",
           "#FFA15A",
           "#19d3f3",
           "#FF6692",
           "#B6E880",
           "#FF97FF",
           "#FECB52"
          ],
          "font": {
           "color": "#2a3f5f"
          },
          "geo": {
           "bgcolor": "white",
           "lakecolor": "white",
           "landcolor": "white",
           "showlakes": true,
           "showland": true,
           "subunitcolor": "#C8D4E3"
          },
          "hoverlabel": {
           "align": "left"
          },
          "hovermode": "closest",
          "mapbox": {
           "style": "light"
          },
          "paper_bgcolor": "white",
          "plot_bgcolor": "white",
          "polar": {
           "angularaxis": {
            "gridcolor": "#EBF0F8",
            "linecolor": "#EBF0F8",
            "ticks": ""
           },
           "bgcolor": "white",
           "radialaxis": {
            "gridcolor": "#EBF0F8",
            "linecolor": "#EBF0F8",
            "ticks": ""
           }
          },
          "scene": {
           "xaxis": {
            "backgroundcolor": "white",
            "gridcolor": "#DFE8F3",
            "gridwidth": 2,
            "linecolor": "#EBF0F8",
            "showbackground": true,
            "ticks": "",
            "zerolinecolor": "#EBF0F8"
           },
           "yaxis": {
            "backgroundcolor": "white",
            "gridcolor": "#DFE8F3",
            "gridwidth": 2,
            "linecolor": "#EBF0F8",
            "showbackground": true,
            "ticks": "",
            "zerolinecolor": "#EBF0F8"
           },
           "zaxis": {
            "backgroundcolor": "white",
            "gridcolor": "#DFE8F3",
            "gridwidth": 2,
            "linecolor": "#EBF0F8",
            "showbackground": true,
            "ticks": "",
            "zerolinecolor": "#EBF0F8"
           }
          },
          "shapedefaults": {
           "line": {
            "color": "#2a3f5f"
           }
          },
          "ternary": {
           "aaxis": {
            "gridcolor": "#DFE8F3",
            "linecolor": "#A2B1C6",
            "ticks": ""
           },
           "baxis": {
            "gridcolor": "#DFE8F3",
            "linecolor": "#A2B1C6",
            "ticks": ""
           },
           "bgcolor": "white",
           "caxis": {
            "gridcolor": "#DFE8F3",
            "linecolor": "#A2B1C6",
            "ticks": ""
           }
          },
          "title": {
           "x": 0.05
          },
          "xaxis": {
           "automargin": true,
           "gridcolor": "#EBF0F8",
           "linecolor": "#EBF0F8",
           "ticks": "",
           "title": {
            "standoff": 15
           },
           "zerolinecolor": "#EBF0F8",
           "zerolinewidth": 2
          },
          "yaxis": {
           "automargin": true,
           "gridcolor": "#EBF0F8",
           "linecolor": "#EBF0F8",
           "ticks": "",
           "title": {
            "standoff": 15
           },
           "zerolinecolor": "#EBF0F8",
           "zerolinewidth": 2
          }
         }
        },
        "title": {
         "font": {
          "color": "Black",
          "size": 22
         },
         "text": "Topic Word Scores",
         "x": 0.5,
         "xanchor": "center",
         "yanchor": "top"
        },
        "width": 1000,
        "xaxis": {
         "anchor": "y",
         "domain": [
          0,
          0.175
         ],
         "showgrid": true
        },
        "xaxis2": {
         "anchor": "y2",
         "domain": [
          0.275,
          0.45
         ],
         "showgrid": true
        },
        "xaxis3": {
         "anchor": "y3",
         "domain": [
          0.55,
          0.7250000000000001
         ],
         "showgrid": true
        },
        "xaxis4": {
         "anchor": "y4",
         "domain": [
          0.825,
          1
         ],
         "showgrid": true
        },
        "xaxis5": {
         "anchor": "y5",
         "domain": [
          0,
          0.175
         ],
         "showgrid": true
        },
        "xaxis6": {
         "anchor": "y6",
         "domain": [
          0.275,
          0.45
         ],
         "showgrid": true
        },
        "xaxis7": {
         "anchor": "y7",
         "domain": [
          0.55,
          0.7250000000000001
         ],
         "showgrid": true
        },
        "xaxis8": {
         "anchor": "y8",
         "domain": [
          0.825,
          1
         ],
         "showgrid": true
        },
        "yaxis": {
         "anchor": "x",
         "domain": [
          0.6000000000000001,
          1
         ],
         "showgrid": true
        },
        "yaxis2": {
         "anchor": "x2",
         "domain": [
          0.6000000000000001,
          1
         ],
         "showgrid": true
        },
        "yaxis3": {
         "anchor": "x3",
         "domain": [
          0.6000000000000001,
          1
         ],
         "showgrid": true
        },
        "yaxis4": {
         "anchor": "x4",
         "domain": [
          0.6000000000000001,
          1
         ],
         "showgrid": true
        },
        "yaxis5": {
         "anchor": "x5",
         "domain": [
          0,
          0.4
         ],
         "showgrid": true
        },
        "yaxis6": {
         "anchor": "x6",
         "domain": [
          0,
          0.4
         ],
         "showgrid": true
        },
        "yaxis7": {
         "anchor": "x7",
         "domain": [
          0,
          0.4
         ],
         "showgrid": true
        },
        "yaxis8": {
         "anchor": "x8",
         "domain": [
          0,
          0.4
         ],
         "showgrid": true
        }
       }
      }
     },
     "metadata": {},
     "output_type": "display_data"
    }
   ],
   "source": [
    "# visualize terms\n",
    "\n",
    "topic_model_m.visualize_barchart()#top_n_topics=16)"
   ]
  },
  {
   "cell_type": "code",
   "execution_count": 63,
   "metadata": {},
   "outputs": [
    {
     "name": "stderr",
     "output_type": "stream",
     "text": [
      "2it [00:00,  9.78it/s]\n"
     ]
    },
    {
     "data": {
      "text/plain": [
       "0    71\n",
       "1    69\n",
       "Name: Class, dtype: int64"
      ]
     },
     "execution_count": 63,
     "metadata": {},
     "output_type": "execute_result"
    }
   ],
   "source": [
    "topics_per_class2_m = topic_model_m.topics_per_class(docs_m, classes=classes2_m)\n",
    "topics_per_class2_m.Class.value_counts()"
   ]
  },
  {
   "cell_type": "code",
   "execution_count": 64,
   "metadata": {},
   "outputs": [
    {
     "data": {
      "text/plain": [
       "0    71\n",
       "1    69\n",
       "Name: Class, dtype: int64"
      ]
     },
     "execution_count": 64,
     "metadata": {},
     "output_type": "execute_result"
    }
   ],
   "source": [
    "topics_per_class_m.Class.value_counts()"
   ]
  },
  {
   "cell_type": "code",
   "execution_count": 65,
   "metadata": {},
   "outputs": [],
   "source": [
    "# topics_per_class2_m.to_csv('./topics_per_d138_100pall_5y_onset1_2_op1_dec20_by138_male.csv') # 100p \n",
    "topics_per_class_m.to_csv('./topics_per_d138_100pall_5y_onset1_2_op1_dec20_aug02_by138_male.csv') # 100p "
   ]
  },
  {
   "cell_type": "code",
   "execution_count": null,
   "metadata": {},
   "outputs": [],
   "source": [
    "# female"
   ]
  },
  {
   "cell_type": "code",
   "execution_count": null,
   "metadata": {},
   "outputs": [],
   "source": [
    "topics_per_class_info_f.head()"
   ]
  },
  {
   "cell_type": "code",
   "execution_count": null,
   "metadata": {},
   "outputs": [],
   "source": [
    "topic_model_f.visualize_barchart()#top_n_topics=16)"
   ]
  },
  {
   "cell_type": "code",
   "execution_count": 79,
   "metadata": {},
   "outputs": [
    {
     "name": "stderr",
     "output_type": "stream",
     "text": [
      "2it [00:00,  9.04it/s]\n"
     ]
    },
    {
     "data": {
      "text/plain": [
       "0    75\n",
       "1    71\n",
       "Name: Class, dtype: int64"
      ]
     },
     "execution_count": 79,
     "metadata": {},
     "output_type": "execute_result"
    }
   ],
   "source": [
    "topics_per_class2_f = topic_model_f.topics_per_class(docs_f, classes=classes2_f)\n",
    "# topics_per_class2_f.to_csv('./topics_per_d138_100pall_5y_onset1_2_op1_dec20_by138_female.csv') # 100p \n",
    "topics_per_class2_f.to_csv('./topics_per_d138_100pall_5y_onset1_2_op1_dec20_aug02_by138_female.csv') # 100p \n",
    "topics_per_class2_f.Class.value_counts()"
   ]
  },
  {
   "cell_type": "code",
   "execution_count": null,
   "metadata": {},
   "outputs": [],
   "source": [
    "# add topic model graph figure Aug08"
   ]
  },
  {
   "cell_type": "code",
   "execution_count": null,
   "metadata": {},
   "outputs": [],
   "source": [
    "# upload the model again "
   ]
  },
  {
   "cell_type": "code",
   "execution_count": 10,
   "metadata": {},
   "outputs": [
    {
     "name": "stderr",
     "output_type": "stream",
     "text": [
      "2024-08-29 16:34:17.274790: I tensorflow/core/util/port.cc:110] oneDNN custom operations are on. You may see slightly different numerical results due to floating-point round-off errors from different computation orders. To turn them off, set the environment variable `TF_ENABLE_ONEDNN_OPTS=0`.\n",
      "2024-08-29 16:34:17.713823: I tensorflow/core/platform/cpu_feature_guard.cc:182] This TensorFlow binary is optimized to use available CPU instructions in performance-critical operations.\n",
      "To enable the following instructions: AVX2 AVX_VNNI FMA, in other operations, rebuild TensorFlow with the appropriate compiler flags.\n",
      "2024-08-29 16:34:22.035395: W tensorflow/compiler/tf2tensorrt/utils/py_utils.cc:38] TF-TRT Warning: Could not find TensorRT\n",
      "2024-08-29 16:34:28.706675: I tensorflow/compiler/xla/stream_executor/cuda/cuda_gpu_executor.cc:995] successful NUMA node read from SysFS had negative value (-1), but there must be at least one NUMA node, so returning NUMA node zero. See more at https://github.com/torvalds/linux/blob/v6.0/Documentation/ABI/testing/sysfs-bus-pci#L344-L355\n",
      "2024-08-29 16:34:28.706983: W tensorflow/core/common_runtime/gpu/gpu_device.cc:1960] Cannot dlopen some GPU libraries. Please make sure the missing libraries mentioned above are installed properly if you would like to use GPU. Follow the guide at https://www.tensorflow.org/install/gpu for how to download and setup the required libraries for your platform.\n",
      "Skipping registering GPU devices...\n"
     ]
    }
   ],
   "source": [
    "from bertopic import BERTopic\n",
    "\n",
    "# Load the saved models\n",
    "topic_model_m = BERTopic.load(\"./my_topics_model_138_100pall_5y_onset1_op1_dec20_aug02_male\")\n",
    "topic_model_f = BERTopic.load(\"./my_topics_model_138_100pall_5y_onset1_op1_dec20_aug02_female\") #./my_topics_model_138_100pall_5y_onset1_op1_dec20_aug02_female\n"
   ]
  },
  {
   "cell_type": "code",
   "execution_count": 12,
   "metadata": {},
   "outputs": [
    {
     "data": {
      "application/vnd.plotly.v1+json": {
       "config": {
        "plotlyServerURL": "https://plot.ly"
       },
       "data": [
        {
         "marker": {
          "color": "#D55E00"
         },
         "orientation": "h",
         "type": "bar",
         "x": [
          0.00994530322674342,
          0.010648695845563914,
          0.010866356971130078,
          0.044527633818103346,
          0.04562918917454929
         ],
         "xaxis": "x",
         "y": [
          "220  ",
          "221  ",
          "239  ",
          "219  ",
          "218  "
         ],
         "yaxis": "y"
        },
        {
         "marker": {
          "color": "#0072B2"
         },
         "orientation": "h",
         "type": "bar",
         "x": [
          0.003993188176723174,
          0.007326984993119488,
          0.008082331455390135,
          0.01330564238939239,
          0.09652535600996204
         ],
         "xaxis": "x2",
         "y": [
          "238  ",
          "239  ",
          "200  ",
          "197  ",
          "195  "
         ],
         "yaxis": "y2"
        },
        {
         "marker": {
          "color": "#CC79A7"
         },
         "orientation": "h",
         "type": "bar",
         "x": [
          0.020765282298595998,
          0.021624629183997508,
          0.028645377020478462,
          0.029056640617531885,
          0.030086946081761688
         ],
         "xaxis": "x3",
         "y": [
          "236  ",
          "234  ",
          "157  ",
          "142  ",
          "126  "
         ],
         "yaxis": "y3"
        },
        {
         "marker": {
          "color": "#E69F00"
         },
         "orientation": "h",
         "type": "bar",
         "x": [
          0.007970490349178407,
          0.01406734887213493,
          0.017394806272769518,
          0.03342779819622961,
          0.08103079076520651
         ],
         "xaxis": "x4",
         "y": [
          "200  ",
          "145  ",
          "162  ",
          "151  ",
          "152  "
         ],
         "yaxis": "y4"
        },
        {
         "marker": {
          "color": "#56B4E9"
         },
         "orientation": "h",
         "type": "bar",
         "x": [
          0.005116289385480215,
          0.008593297507888538,
          0.009117830691179997,
          0.010417910840209115,
          0.06047177893901335
         ],
         "xaxis": "x5",
         "y": [
          "225  ",
          "219  ",
          "239  ",
          "221  ",
          "220  "
         ],
         "yaxis": "y5"
        },
        {
         "marker": {
          "color": "#009E73"
         },
         "orientation": "h",
         "type": "bar",
         "x": [
          0.007236439058126686,
          0.00947526379625043,
          0.009538799901484934,
          0.07897785383644197,
          0.12832452740075376
         ],
         "xaxis": "x6",
         "y": [
          "162  ",
          "151  ",
          "152  ",
          "145  ",
          "147  "
         ],
         "yaxis": "y6"
        },
        {
         "marker": {
          "color": "#F0E442"
         },
         "orientation": "h",
         "type": "bar",
         "x": [
          0.011962960986029416,
          0.0210613544683709,
          0.02414480943986801,
          0.02560723574633083,
          0.03320955952080199
         ],
         "xaxis": "x7",
         "y": [
          "153  ",
          "145  ",
          "151  ",
          "152  ",
          "220  "
         ],
         "yaxis": "y7"
        },
        {
         "marker": {
          "color": "#D55E00"
         },
         "orientation": "h",
         "type": "bar",
         "x": [
          0.02144637475555938,
          0.0220624054458323,
          0.024599776247378816,
          0.0412074347315371,
          0.04174614674460989
         ],
         "xaxis": "x8",
         "y": [
          "229  ",
          "195  ",
          "220  ",
          "225  ",
          "236  "
         ],
         "yaxis": "y8"
        }
       ],
       "layout": {
        "annotations": [
         {
          "font": {
           "size": 16
          },
          "showarrow": false,
          "text": "Topic 0",
          "x": 0.0875,
          "xanchor": "center",
          "xref": "paper",
          "y": 1,
          "yanchor": "bottom",
          "yref": "paper"
         },
         {
          "font": {
           "size": 16
          },
          "showarrow": false,
          "text": "Topic 1",
          "x": 0.36250000000000004,
          "xanchor": "center",
          "xref": "paper",
          "y": 1,
          "yanchor": "bottom",
          "yref": "paper"
         },
         {
          "font": {
           "size": 16
          },
          "showarrow": false,
          "text": "Topic 2",
          "x": 0.6375000000000001,
          "xanchor": "center",
          "xref": "paper",
          "y": 1,
          "yanchor": "bottom",
          "yref": "paper"
         },
         {
          "font": {
           "size": 16
          },
          "showarrow": false,
          "text": "Topic 3",
          "x": 0.9125,
          "xanchor": "center",
          "xref": "paper",
          "y": 1,
          "yanchor": "bottom",
          "yref": "paper"
         },
         {
          "font": {
           "size": 16
          },
          "showarrow": false,
          "text": "Topic 4",
          "x": 0.0875,
          "xanchor": "center",
          "xref": "paper",
          "y": 0.4,
          "yanchor": "bottom",
          "yref": "paper"
         },
         {
          "font": {
           "size": 16
          },
          "showarrow": false,
          "text": "Topic 5",
          "x": 0.36250000000000004,
          "xanchor": "center",
          "xref": "paper",
          "y": 0.4,
          "yanchor": "bottom",
          "yref": "paper"
         },
         {
          "font": {
           "size": 16
          },
          "showarrow": false,
          "text": "Topic 6",
          "x": 0.6375000000000001,
          "xanchor": "center",
          "xref": "paper",
          "y": 0.4,
          "yanchor": "bottom",
          "yref": "paper"
         },
         {
          "font": {
           "size": 16
          },
          "showarrow": false,
          "text": "Topic 7",
          "x": 0.9125,
          "xanchor": "center",
          "xref": "paper",
          "y": 0.4,
          "yanchor": "bottom",
          "yref": "paper"
         }
        ],
        "height": 500,
        "hoverlabel": {
         "bgcolor": "white",
         "font": {
          "family": "Rockwell",
          "size": 16
         }
        },
        "showlegend": false,
        "template": {
         "data": {
          "bar": [
           {
            "error_x": {
             "color": "#2a3f5f"
            },
            "error_y": {
             "color": "#2a3f5f"
            },
            "marker": {
             "line": {
              "color": "white",
              "width": 0.5
             },
             "pattern": {
              "fillmode": "overlay",
              "size": 10,
              "solidity": 0.2
             }
            },
            "type": "bar"
           }
          ],
          "barpolar": [
           {
            "marker": {
             "line": {
              "color": "white",
              "width": 0.5
             },
             "pattern": {
              "fillmode": "overlay",
              "size": 10,
              "solidity": 0.2
             }
            },
            "type": "barpolar"
           }
          ],
          "carpet": [
           {
            "aaxis": {
             "endlinecolor": "#2a3f5f",
             "gridcolor": "#C8D4E3",
             "linecolor": "#C8D4E3",
             "minorgridcolor": "#C8D4E3",
             "startlinecolor": "#2a3f5f"
            },
            "baxis": {
             "endlinecolor": "#2a3f5f",
             "gridcolor": "#C8D4E3",
             "linecolor": "#C8D4E3",
             "minorgridcolor": "#C8D4E3",
             "startlinecolor": "#2a3f5f"
            },
            "type": "carpet"
           }
          ],
          "choropleth": [
           {
            "colorbar": {
             "outlinewidth": 0,
             "ticks": ""
            },
            "type": "choropleth"
           }
          ],
          "contour": [
           {
            "colorbar": {
             "outlinewidth": 0,
             "ticks": ""
            },
            "colorscale": [
             [
              0,
              "#0d0887"
             ],
             [
              0.1111111111111111,
              "#46039f"
             ],
             [
              0.2222222222222222,
              "#7201a8"
             ],
             [
              0.3333333333333333,
              "#9c179e"
             ],
             [
              0.4444444444444444,
              "#bd3786"
             ],
             [
              0.5555555555555556,
              "#d8576b"
             ],
             [
              0.6666666666666666,
              "#ed7953"
             ],
             [
              0.7777777777777778,
              "#fb9f3a"
             ],
             [
              0.8888888888888888,
              "#fdca26"
             ],
             [
              1,
              "#f0f921"
             ]
            ],
            "type": "contour"
           }
          ],
          "contourcarpet": [
           {
            "colorbar": {
             "outlinewidth": 0,
             "ticks": ""
            },
            "type": "contourcarpet"
           }
          ],
          "heatmap": [
           {
            "colorbar": {
             "outlinewidth": 0,
             "ticks": ""
            },
            "colorscale": [
             [
              0,
              "#0d0887"
             ],
             [
              0.1111111111111111,
              "#46039f"
             ],
             [
              0.2222222222222222,
              "#7201a8"
             ],
             [
              0.3333333333333333,
              "#9c179e"
             ],
             [
              0.4444444444444444,
              "#bd3786"
             ],
             [
              0.5555555555555556,
              "#d8576b"
             ],
             [
              0.6666666666666666,
              "#ed7953"
             ],
             [
              0.7777777777777778,
              "#fb9f3a"
             ],
             [
              0.8888888888888888,
              "#fdca26"
             ],
             [
              1,
              "#f0f921"
             ]
            ],
            "type": "heatmap"
           }
          ],
          "heatmapgl": [
           {
            "colorbar": {
             "outlinewidth": 0,
             "ticks": ""
            },
            "colorscale": [
             [
              0,
              "#0d0887"
             ],
             [
              0.1111111111111111,
              "#46039f"
             ],
             [
              0.2222222222222222,
              "#7201a8"
             ],
             [
              0.3333333333333333,
              "#9c179e"
             ],
             [
              0.4444444444444444,
              "#bd3786"
             ],
             [
              0.5555555555555556,
              "#d8576b"
             ],
             [
              0.6666666666666666,
              "#ed7953"
             ],
             [
              0.7777777777777778,
              "#fb9f3a"
             ],
             [
              0.8888888888888888,
              "#fdca26"
             ],
             [
              1,
              "#f0f921"
             ]
            ],
            "type": "heatmapgl"
           }
          ],
          "histogram": [
           {
            "marker": {
             "pattern": {
              "fillmode": "overlay",
              "size": 10,
              "solidity": 0.2
             }
            },
            "type": "histogram"
           }
          ],
          "histogram2d": [
           {
            "colorbar": {
             "outlinewidth": 0,
             "ticks": ""
            },
            "colorscale": [
             [
              0,
              "#0d0887"
             ],
             [
              0.1111111111111111,
              "#46039f"
             ],
             [
              0.2222222222222222,
              "#7201a8"
             ],
             [
              0.3333333333333333,
              "#9c179e"
             ],
             [
              0.4444444444444444,
              "#bd3786"
             ],
             [
              0.5555555555555556,
              "#d8576b"
             ],
             [
              0.6666666666666666,
              "#ed7953"
             ],
             [
              0.7777777777777778,
              "#fb9f3a"
             ],
             [
              0.8888888888888888,
              "#fdca26"
             ],
             [
              1,
              "#f0f921"
             ]
            ],
            "type": "histogram2d"
           }
          ],
          "histogram2dcontour": [
           {
            "colorbar": {
             "outlinewidth": 0,
             "ticks": ""
            },
            "colorscale": [
             [
              0,
              "#0d0887"
             ],
             [
              0.1111111111111111,
              "#46039f"
             ],
             [
              0.2222222222222222,
              "#7201a8"
             ],
             [
              0.3333333333333333,
              "#9c179e"
             ],
             [
              0.4444444444444444,
              "#bd3786"
             ],
             [
              0.5555555555555556,
              "#d8576b"
             ],
             [
              0.6666666666666666,
              "#ed7953"
             ],
             [
              0.7777777777777778,
              "#fb9f3a"
             ],
             [
              0.8888888888888888,
              "#fdca26"
             ],
             [
              1,
              "#f0f921"
             ]
            ],
            "type": "histogram2dcontour"
           }
          ],
          "mesh3d": [
           {
            "colorbar": {
             "outlinewidth": 0,
             "ticks": ""
            },
            "type": "mesh3d"
           }
          ],
          "parcoords": [
           {
            "line": {
             "colorbar": {
              "outlinewidth": 0,
              "ticks": ""
             }
            },
            "type": "parcoords"
           }
          ],
          "pie": [
           {
            "automargin": true,
            "type": "pie"
           }
          ],
          "scatter": [
           {
            "fillpattern": {
             "fillmode": "overlay",
             "size": 10,
             "solidity": 0.2
            },
            "type": "scatter"
           }
          ],
          "scatter3d": [
           {
            "line": {
             "colorbar": {
              "outlinewidth": 0,
              "ticks": ""
             }
            },
            "marker": {
             "colorbar": {
              "outlinewidth": 0,
              "ticks": ""
             }
            },
            "type": "scatter3d"
           }
          ],
          "scattercarpet": [
           {
            "marker": {
             "colorbar": {
              "outlinewidth": 0,
              "ticks": ""
             }
            },
            "type": "scattercarpet"
           }
          ],
          "scattergeo": [
           {
            "marker": {
             "colorbar": {
              "outlinewidth": 0,
              "ticks": ""
             }
            },
            "type": "scattergeo"
           }
          ],
          "scattergl": [
           {
            "marker": {
             "colorbar": {
              "outlinewidth": 0,
              "ticks": ""
             }
            },
            "type": "scattergl"
           }
          ],
          "scattermapbox": [
           {
            "marker": {
             "colorbar": {
              "outlinewidth": 0,
              "ticks": ""
             }
            },
            "type": "scattermapbox"
           }
          ],
          "scatterpolar": [
           {
            "marker": {
             "colorbar": {
              "outlinewidth": 0,
              "ticks": ""
             }
            },
            "type": "scatterpolar"
           }
          ],
          "scatterpolargl": [
           {
            "marker": {
             "colorbar": {
              "outlinewidth": 0,
              "ticks": ""
             }
            },
            "type": "scatterpolargl"
           }
          ],
          "scatterternary": [
           {
            "marker": {
             "colorbar": {
              "outlinewidth": 0,
              "ticks": ""
             }
            },
            "type": "scatterternary"
           }
          ],
          "surface": [
           {
            "colorbar": {
             "outlinewidth": 0,
             "ticks": ""
            },
            "colorscale": [
             [
              0,
              "#0d0887"
             ],
             [
              0.1111111111111111,
              "#46039f"
             ],
             [
              0.2222222222222222,
              "#7201a8"
             ],
             [
              0.3333333333333333,
              "#9c179e"
             ],
             [
              0.4444444444444444,
              "#bd3786"
             ],
             [
              0.5555555555555556,
              "#d8576b"
             ],
             [
              0.6666666666666666,
              "#ed7953"
             ],
             [
              0.7777777777777778,
              "#fb9f3a"
             ],
             [
              0.8888888888888888,
              "#fdca26"
             ],
             [
              1,
              "#f0f921"
             ]
            ],
            "type": "surface"
           }
          ],
          "table": [
           {
            "cells": {
             "fill": {
              "color": "#EBF0F8"
             },
             "line": {
              "color": "white"
             }
            },
            "header": {
             "fill": {
              "color": "#C8D4E3"
             },
             "line": {
              "color": "white"
             }
            },
            "type": "table"
           }
          ]
         },
         "layout": {
          "annotationdefaults": {
           "arrowcolor": "#2a3f5f",
           "arrowhead": 0,
           "arrowwidth": 1
          },
          "autotypenumbers": "strict",
          "coloraxis": {
           "colorbar": {
            "outlinewidth": 0,
            "ticks": ""
           }
          },
          "colorscale": {
           "diverging": [
            [
             0,
             "#8e0152"
            ],
            [
             0.1,
             "#c51b7d"
            ],
            [
             0.2,
             "#de77ae"
            ],
            [
             0.3,
             "#f1b6da"
            ],
            [
             0.4,
             "#fde0ef"
            ],
            [
             0.5,
             "#f7f7f7"
            ],
            [
             0.6,
             "#e6f5d0"
            ],
            [
             0.7,
             "#b8e186"
            ],
            [
             0.8,
             "#7fbc41"
            ],
            [
             0.9,
             "#4d9221"
            ],
            [
             1,
             "#276419"
            ]
           ],
           "sequential": [
            [
             0,
             "#0d0887"
            ],
            [
             0.1111111111111111,
             "#46039f"
            ],
            [
             0.2222222222222222,
             "#7201a8"
            ],
            [
             0.3333333333333333,
             "#9c179e"
            ],
            [
             0.4444444444444444,
             "#bd3786"
            ],
            [
             0.5555555555555556,
             "#d8576b"
            ],
            [
             0.6666666666666666,
             "#ed7953"
            ],
            [
             0.7777777777777778,
             "#fb9f3a"
            ],
            [
             0.8888888888888888,
             "#fdca26"
            ],
            [
             1,
             "#f0f921"
            ]
           ],
           "sequentialminus": [
            [
             0,
             "#0d0887"
            ],
            [
             0.1111111111111111,
             "#46039f"
            ],
            [
             0.2222222222222222,
             "#7201a8"
            ],
            [
             0.3333333333333333,
             "#9c179e"
            ],
            [
             0.4444444444444444,
             "#bd3786"
            ],
            [
             0.5555555555555556,
             "#d8576b"
            ],
            [
             0.6666666666666666,
             "#ed7953"
            ],
            [
             0.7777777777777778,
             "#fb9f3a"
            ],
            [
             0.8888888888888888,
             "#fdca26"
            ],
            [
             1,
             "#f0f921"
            ]
           ]
          },
          "colorway": [
           "#636efa",
           "#EF553B",
           "#00cc96",
           "#ab63fa",
           "#FFA15A",
           "#19d3f3",
           "#FF6692",
           "#B6E880",
           "#FF97FF",
           "#FECB52"
          ],
          "font": {
           "color": "#2a3f5f"
          },
          "geo": {
           "bgcolor": "white",
           "lakecolor": "white",
           "landcolor": "white",
           "showlakes": true,
           "showland": true,
           "subunitcolor": "#C8D4E3"
          },
          "hoverlabel": {
           "align": "left"
          },
          "hovermode": "closest",
          "mapbox": {
           "style": "light"
          },
          "paper_bgcolor": "white",
          "plot_bgcolor": "white",
          "polar": {
           "angularaxis": {
            "gridcolor": "#EBF0F8",
            "linecolor": "#EBF0F8",
            "ticks": ""
           },
           "bgcolor": "white",
           "radialaxis": {
            "gridcolor": "#EBF0F8",
            "linecolor": "#EBF0F8",
            "ticks": ""
           }
          },
          "scene": {
           "xaxis": {
            "backgroundcolor": "white",
            "gridcolor": "#DFE8F3",
            "gridwidth": 2,
            "linecolor": "#EBF0F8",
            "showbackground": true,
            "ticks": "",
            "zerolinecolor": "#EBF0F8"
           },
           "yaxis": {
            "backgroundcolor": "white",
            "gridcolor": "#DFE8F3",
            "gridwidth": 2,
            "linecolor": "#EBF0F8",
            "showbackground": true,
            "ticks": "",
            "zerolinecolor": "#EBF0F8"
           },
           "zaxis": {
            "backgroundcolor": "white",
            "gridcolor": "#DFE8F3",
            "gridwidth": 2,
            "linecolor": "#EBF0F8",
            "showbackground": true,
            "ticks": "",
            "zerolinecolor": "#EBF0F8"
           }
          },
          "shapedefaults": {
           "line": {
            "color": "#2a3f5f"
           }
          },
          "ternary": {
           "aaxis": {
            "gridcolor": "#DFE8F3",
            "linecolor": "#A2B1C6",
            "ticks": ""
           },
           "baxis": {
            "gridcolor": "#DFE8F3",
            "linecolor": "#A2B1C6",
            "ticks": ""
           },
           "bgcolor": "white",
           "caxis": {
            "gridcolor": "#DFE8F3",
            "linecolor": "#A2B1C6",
            "ticks": ""
           }
          },
          "title": {
           "x": 0.05
          },
          "xaxis": {
           "automargin": true,
           "gridcolor": "#EBF0F8",
           "linecolor": "#EBF0F8",
           "ticks": "",
           "title": {
            "standoff": 15
           },
           "zerolinecolor": "#EBF0F8",
           "zerolinewidth": 2
          },
          "yaxis": {
           "automargin": true,
           "gridcolor": "#EBF0F8",
           "linecolor": "#EBF0F8",
           "ticks": "",
           "title": {
            "standoff": 15
           },
           "zerolinecolor": "#EBF0F8",
           "zerolinewidth": 2
          }
         }
        },
        "title": {
         "font": {
          "color": "Black",
          "size": 22
         },
         "text": "Topic Word Scores",
         "x": 0.5,
         "xanchor": "center",
         "yanchor": "top"
        },
        "width": 1000,
        "xaxis": {
         "anchor": "y",
         "domain": [
          0,
          0.175
         ],
         "showgrid": true
        },
        "xaxis2": {
         "anchor": "y2",
         "domain": [
          0.275,
          0.45
         ],
         "showgrid": true
        },
        "xaxis3": {
         "anchor": "y3",
         "domain": [
          0.55,
          0.7250000000000001
         ],
         "showgrid": true
        },
        "xaxis4": {
         "anchor": "y4",
         "domain": [
          0.825,
          1
         ],
         "showgrid": true
        },
        "xaxis5": {
         "anchor": "y5",
         "domain": [
          0,
          0.175
         ],
         "showgrid": true
        },
        "xaxis6": {
         "anchor": "y6",
         "domain": [
          0.275,
          0.45
         ],
         "showgrid": true
        },
        "xaxis7": {
         "anchor": "y7",
         "domain": [
          0.55,
          0.7250000000000001
         ],
         "showgrid": true
        },
        "xaxis8": {
         "anchor": "y8",
         "domain": [
          0.825,
          1
         ],
         "showgrid": true
        },
        "yaxis": {
         "anchor": "x",
         "domain": [
          0.6000000000000001,
          1
         ],
         "showgrid": true
        },
        "yaxis2": {
         "anchor": "x2",
         "domain": [
          0.6000000000000001,
          1
         ],
         "showgrid": true
        },
        "yaxis3": {
         "anchor": "x3",
         "domain": [
          0.6000000000000001,
          1
         ],
         "showgrid": true
        },
        "yaxis4": {
         "anchor": "x4",
         "domain": [
          0.6000000000000001,
          1
         ],
         "showgrid": true
        },
        "yaxis5": {
         "anchor": "x5",
         "domain": [
          0,
          0.4
         ],
         "showgrid": true
        },
        "yaxis6": {
         "anchor": "x6",
         "domain": [
          0,
          0.4
         ],
         "showgrid": true
        },
        "yaxis7": {
         "anchor": "x7",
         "domain": [
          0,
          0.4
         ],
         "showgrid": true
        },
        "yaxis8": {
         "anchor": "x8",
         "domain": [
          0,
          0.4
         ],
         "showgrid": true
        }
       }
      }
     },
     "metadata": {},
     "output_type": "display_data"
    }
   ],
   "source": [
    "topic_model_f.visualize_barchart()#top_n_topics=16)"
   ]
  },
  {
   "cell_type": "code",
   "execution_count": 3,
   "metadata": {},
   "outputs": [
    {
     "data": {
      "application/vnd.plotly.v1+json": {
       "config": {
        "plotlyServerURL": "https://plot.ly"
       },
       "data": [
        {
         "marker": {
          "color": "#D55E00"
         },
         "orientation": "h",
         "type": "bar",
         "x": [
          0.00994530322674342,
          0.010648695845563914,
          0.010866356971130078,
          0.044527633818103346,
          0.04562918917454929
         ],
         "xaxis": "x",
         "y": [
          "220  ",
          "221  ",
          "239  ",
          "219  ",
          "218  "
         ],
         "yaxis": "y"
        },
        {
         "marker": {
          "color": "#0072B2"
         },
         "orientation": "h",
         "type": "bar",
         "x": [
          0.003993188176723174,
          0.007326984993119488,
          0.008082331455390135,
          0.01330564238939239,
          0.09652535600996204
         ],
         "xaxis": "x2",
         "y": [
          "238  ",
          "239  ",
          "200  ",
          "197  ",
          "195  "
         ],
         "yaxis": "y2"
        },
        {
         "marker": {
          "color": "#CC79A7"
         },
         "orientation": "h",
         "type": "bar",
         "x": [
          0.020765282298595998,
          0.021624629183997508,
          0.028645377020478462,
          0.029056640617531885,
          0.030086946081761688
         ],
         "xaxis": "x3",
         "y": [
          "236  ",
          "234  ",
          "157  ",
          "142  ",
          "126  "
         ],
         "yaxis": "y3"
        },
        {
         "marker": {
          "color": "#E69F00"
         },
         "orientation": "h",
         "type": "bar",
         "x": [
          0.007970490349178407,
          0.01406734887213493,
          0.017394806272769518,
          0.03342779819622961,
          0.08103079076520651
         ],
         "xaxis": "x4",
         "y": [
          "200  ",
          "145  ",
          "162  ",
          "151  ",
          "152  "
         ],
         "yaxis": "y4"
        },
        {
         "marker": {
          "color": "#56B4E9"
         },
         "orientation": "h",
         "type": "bar",
         "x": [
          0.005116289385480215,
          0.008593297507888538,
          0.009117830691179997,
          0.010417910840209115,
          0.06047177893901335
         ],
         "xaxis": "x5",
         "y": [
          "225  ",
          "219  ",
          "239  ",
          "221  ",
          "220  "
         ],
         "yaxis": "y5"
        },
        {
         "marker": {
          "color": "#009E73"
         },
         "orientation": "h",
         "type": "bar",
         "x": [
          0.007236439058126686,
          0.00947526379625043,
          0.009538799901484934,
          0.07897785383644197,
          0.12832452740075376
         ],
         "xaxis": "x6",
         "y": [
          "162  ",
          "151  ",
          "152  ",
          "145  ",
          "147  "
         ],
         "yaxis": "y6"
        },
        {
         "marker": {
          "color": "#F0E442"
         },
         "orientation": "h",
         "type": "bar",
         "x": [
          0.011962960986029416,
          0.0210613544683709,
          0.02414480943986801,
          0.02560723574633083,
          0.03320955952080199
         ],
         "xaxis": "x7",
         "y": [
          "153  ",
          "145  ",
          "151  ",
          "152  ",
          "220  "
         ],
         "yaxis": "y7"
        },
        {
         "marker": {
          "color": "#D55E00"
         },
         "orientation": "h",
         "type": "bar",
         "x": [
          0.02144637475555938,
          0.0220624054458323,
          0.024599776247378816,
          0.0412074347315371,
          0.04174614674460989
         ],
         "xaxis": "x8",
         "y": [
          "229  ",
          "195  ",
          "220  ",
          "225  ",
          "236  "
         ],
         "yaxis": "y8"
        }
       ],
       "layout": {
        "annotations": [
         {
          "font": {
           "size": 16
          },
          "showarrow": false,
          "text": "Topic 0",
          "x": 0.0875,
          "xanchor": "center",
          "xref": "paper",
          "y": 1,
          "yanchor": "bottom",
          "yref": "paper"
         },
         {
          "font": {
           "size": 16
          },
          "showarrow": false,
          "text": "Topic 1",
          "x": 0.36250000000000004,
          "xanchor": "center",
          "xref": "paper",
          "y": 1,
          "yanchor": "bottom",
          "yref": "paper"
         },
         {
          "font": {
           "size": 16
          },
          "showarrow": false,
          "text": "Topic 2",
          "x": 0.6375000000000001,
          "xanchor": "center",
          "xref": "paper",
          "y": 1,
          "yanchor": "bottom",
          "yref": "paper"
         },
         {
          "font": {
           "size": 16
          },
          "showarrow": false,
          "text": "Topic 3",
          "x": 0.9125,
          "xanchor": "center",
          "xref": "paper",
          "y": 1,
          "yanchor": "bottom",
          "yref": "paper"
         },
         {
          "font": {
           "size": 16
          },
          "showarrow": false,
          "text": "Topic 4",
          "x": 0.0875,
          "xanchor": "center",
          "xref": "paper",
          "y": 0.4,
          "yanchor": "bottom",
          "yref": "paper"
         },
         {
          "font": {
           "size": 16
          },
          "showarrow": false,
          "text": "Topic 5",
          "x": 0.36250000000000004,
          "xanchor": "center",
          "xref": "paper",
          "y": 0.4,
          "yanchor": "bottom",
          "yref": "paper"
         },
         {
          "font": {
           "size": 16
          },
          "showarrow": false,
          "text": "Topic 6",
          "x": 0.6375000000000001,
          "xanchor": "center",
          "xref": "paper",
          "y": 0.4,
          "yanchor": "bottom",
          "yref": "paper"
         },
         {
          "font": {
           "size": 16
          },
          "showarrow": false,
          "text": "Topic 7",
          "x": 0.9125,
          "xanchor": "center",
          "xref": "paper",
          "y": 0.4,
          "yanchor": "bottom",
          "yref": "paper"
         }
        ],
        "height": 500,
        "hoverlabel": {
         "bgcolor": "white",
         "font": {
          "family": "Rockwell",
          "size": 16
         }
        },
        "showlegend": false,
        "template": {
         "data": {
          "bar": [
           {
            "error_x": {
             "color": "#2a3f5f"
            },
            "error_y": {
             "color": "#2a3f5f"
            },
            "marker": {
             "line": {
              "color": "white",
              "width": 0.5
             },
             "pattern": {
              "fillmode": "overlay",
              "size": 10,
              "solidity": 0.2
             }
            },
            "type": "bar"
           }
          ],
          "barpolar": [
           {
            "marker": {
             "line": {
              "color": "white",
              "width": 0.5
             },
             "pattern": {
              "fillmode": "overlay",
              "size": 10,
              "solidity": 0.2
             }
            },
            "type": "barpolar"
           }
          ],
          "carpet": [
           {
            "aaxis": {
             "endlinecolor": "#2a3f5f",
             "gridcolor": "#C8D4E3",
             "linecolor": "#C8D4E3",
             "minorgridcolor": "#C8D4E3",
             "startlinecolor": "#2a3f5f"
            },
            "baxis": {
             "endlinecolor": "#2a3f5f",
             "gridcolor": "#C8D4E3",
             "linecolor": "#C8D4E3",
             "minorgridcolor": "#C8D4E3",
             "startlinecolor": "#2a3f5f"
            },
            "type": "carpet"
           }
          ],
          "choropleth": [
           {
            "colorbar": {
             "outlinewidth": 0,
             "ticks": ""
            },
            "type": "choropleth"
           }
          ],
          "contour": [
           {
            "colorbar": {
             "outlinewidth": 0,
             "ticks": ""
            },
            "colorscale": [
             [
              0,
              "#0d0887"
             ],
             [
              0.1111111111111111,
              "#46039f"
             ],
             [
              0.2222222222222222,
              "#7201a8"
             ],
             [
              0.3333333333333333,
              "#9c179e"
             ],
             [
              0.4444444444444444,
              "#bd3786"
             ],
             [
              0.5555555555555556,
              "#d8576b"
             ],
             [
              0.6666666666666666,
              "#ed7953"
             ],
             [
              0.7777777777777778,
              "#fb9f3a"
             ],
             [
              0.8888888888888888,
              "#fdca26"
             ],
             [
              1,
              "#f0f921"
             ]
            ],
            "type": "contour"
           }
          ],
          "contourcarpet": [
           {
            "colorbar": {
             "outlinewidth": 0,
             "ticks": ""
            },
            "type": "contourcarpet"
           }
          ],
          "heatmap": [
           {
            "colorbar": {
             "outlinewidth": 0,
             "ticks": ""
            },
            "colorscale": [
             [
              0,
              "#0d0887"
             ],
             [
              0.1111111111111111,
              "#46039f"
             ],
             [
              0.2222222222222222,
              "#7201a8"
             ],
             [
              0.3333333333333333,
              "#9c179e"
             ],
             [
              0.4444444444444444,
              "#bd3786"
             ],
             [
              0.5555555555555556,
              "#d8576b"
             ],
             [
              0.6666666666666666,
              "#ed7953"
             ],
             [
              0.7777777777777778,
              "#fb9f3a"
             ],
             [
              0.8888888888888888,
              "#fdca26"
             ],
             [
              1,
              "#f0f921"
             ]
            ],
            "type": "heatmap"
           }
          ],
          "heatmapgl": [
           {
            "colorbar": {
             "outlinewidth": 0,
             "ticks": ""
            },
            "colorscale": [
             [
              0,
              "#0d0887"
             ],
             [
              0.1111111111111111,
              "#46039f"
             ],
             [
              0.2222222222222222,
              "#7201a8"
             ],
             [
              0.3333333333333333,
              "#9c179e"
             ],
             [
              0.4444444444444444,
              "#bd3786"
             ],
             [
              0.5555555555555556,
              "#d8576b"
             ],
             [
              0.6666666666666666,
              "#ed7953"
             ],
             [
              0.7777777777777778,
              "#fb9f3a"
             ],
             [
              0.8888888888888888,
              "#fdca26"
             ],
             [
              1,
              "#f0f921"
             ]
            ],
            "type": "heatmapgl"
           }
          ],
          "histogram": [
           {
            "marker": {
             "pattern": {
              "fillmode": "overlay",
              "size": 10,
              "solidity": 0.2
             }
            },
            "type": "histogram"
           }
          ],
          "histogram2d": [
           {
            "colorbar": {
             "outlinewidth": 0,
             "ticks": ""
            },
            "colorscale": [
             [
              0,
              "#0d0887"
             ],
             [
              0.1111111111111111,
              "#46039f"
             ],
             [
              0.2222222222222222,
              "#7201a8"
             ],
             [
              0.3333333333333333,
              "#9c179e"
             ],
             [
              0.4444444444444444,
              "#bd3786"
             ],
             [
              0.5555555555555556,
              "#d8576b"
             ],
             [
              0.6666666666666666,
              "#ed7953"
             ],
             [
              0.7777777777777778,
              "#fb9f3a"
             ],
             [
              0.8888888888888888,
              "#fdca26"
             ],
             [
              1,
              "#f0f921"
             ]
            ],
            "type": "histogram2d"
           }
          ],
          "histogram2dcontour": [
           {
            "colorbar": {
             "outlinewidth": 0,
             "ticks": ""
            },
            "colorscale": [
             [
              0,
              "#0d0887"
             ],
             [
              0.1111111111111111,
              "#46039f"
             ],
             [
              0.2222222222222222,
              "#7201a8"
             ],
             [
              0.3333333333333333,
              "#9c179e"
             ],
             [
              0.4444444444444444,
              "#bd3786"
             ],
             [
              0.5555555555555556,
              "#d8576b"
             ],
             [
              0.6666666666666666,
              "#ed7953"
             ],
             [
              0.7777777777777778,
              "#fb9f3a"
             ],
             [
              0.8888888888888888,
              "#fdca26"
             ],
             [
              1,
              "#f0f921"
             ]
            ],
            "type": "histogram2dcontour"
           }
          ],
          "mesh3d": [
           {
            "colorbar": {
             "outlinewidth": 0,
             "ticks": ""
            },
            "type": "mesh3d"
           }
          ],
          "parcoords": [
           {
            "line": {
             "colorbar": {
              "outlinewidth": 0,
              "ticks": ""
             }
            },
            "type": "parcoords"
           }
          ],
          "pie": [
           {
            "automargin": true,
            "type": "pie"
           }
          ],
          "scatter": [
           {
            "fillpattern": {
             "fillmode": "overlay",
             "size": 10,
             "solidity": 0.2
            },
            "type": "scatter"
           }
          ],
          "scatter3d": [
           {
            "line": {
             "colorbar": {
              "outlinewidth": 0,
              "ticks": ""
             }
            },
            "marker": {
             "colorbar": {
              "outlinewidth": 0,
              "ticks": ""
             }
            },
            "type": "scatter3d"
           }
          ],
          "scattercarpet": [
           {
            "marker": {
             "colorbar": {
              "outlinewidth": 0,
              "ticks": ""
             }
            },
            "type": "scattercarpet"
           }
          ],
          "scattergeo": [
           {
            "marker": {
             "colorbar": {
              "outlinewidth": 0,
              "ticks": ""
             }
            },
            "type": "scattergeo"
           }
          ],
          "scattergl": [
           {
            "marker": {
             "colorbar": {
              "outlinewidth": 0,
              "ticks": ""
             }
            },
            "type": "scattergl"
           }
          ],
          "scattermapbox": [
           {
            "marker": {
             "colorbar": {
              "outlinewidth": 0,
              "ticks": ""
             }
            },
            "type": "scattermapbox"
           }
          ],
          "scatterpolar": [
           {
            "marker": {
             "colorbar": {
              "outlinewidth": 0,
              "ticks": ""
             }
            },
            "type": "scatterpolar"
           }
          ],
          "scatterpolargl": [
           {
            "marker": {
             "colorbar": {
              "outlinewidth": 0,
              "ticks": ""
             }
            },
            "type": "scatterpolargl"
           }
          ],
          "scatterternary": [
           {
            "marker": {
             "colorbar": {
              "outlinewidth": 0,
              "ticks": ""
             }
            },
            "type": "scatterternary"
           }
          ],
          "surface": [
           {
            "colorbar": {
             "outlinewidth": 0,
             "ticks": ""
            },
            "colorscale": [
             [
              0,
              "#0d0887"
             ],
             [
              0.1111111111111111,
              "#46039f"
             ],
             [
              0.2222222222222222,
              "#7201a8"
             ],
             [
              0.3333333333333333,
              "#9c179e"
             ],
             [
              0.4444444444444444,
              "#bd3786"
             ],
             [
              0.5555555555555556,
              "#d8576b"
             ],
             [
              0.6666666666666666,
              "#ed7953"
             ],
             [
              0.7777777777777778,
              "#fb9f3a"
             ],
             [
              0.8888888888888888,
              "#fdca26"
             ],
             [
              1,
              "#f0f921"
             ]
            ],
            "type": "surface"
           }
          ],
          "table": [
           {
            "cells": {
             "fill": {
              "color": "#EBF0F8"
             },
             "line": {
              "color": "white"
             }
            },
            "header": {
             "fill": {
              "color": "#C8D4E3"
             },
             "line": {
              "color": "white"
             }
            },
            "type": "table"
           }
          ]
         },
         "layout": {
          "annotationdefaults": {
           "arrowcolor": "#2a3f5f",
           "arrowhead": 0,
           "arrowwidth": 1
          },
          "autotypenumbers": "strict",
          "coloraxis": {
           "colorbar": {
            "outlinewidth": 0,
            "ticks": ""
           }
          },
          "colorscale": {
           "diverging": [
            [
             0,
             "#8e0152"
            ],
            [
             0.1,
             "#c51b7d"
            ],
            [
             0.2,
             "#de77ae"
            ],
            [
             0.3,
             "#f1b6da"
            ],
            [
             0.4,
             "#fde0ef"
            ],
            [
             0.5,
             "#f7f7f7"
            ],
            [
             0.6,
             "#e6f5d0"
            ],
            [
             0.7,
             "#b8e186"
            ],
            [
             0.8,
             "#7fbc41"
            ],
            [
             0.9,
             "#4d9221"
            ],
            [
             1,
             "#276419"
            ]
           ],
           "sequential": [
            [
             0,
             "#0d0887"
            ],
            [
             0.1111111111111111,
             "#46039f"
            ],
            [
             0.2222222222222222,
             "#7201a8"
            ],
            [
             0.3333333333333333,
             "#9c179e"
            ],
            [
             0.4444444444444444,
             "#bd3786"
            ],
            [
             0.5555555555555556,
             "#d8576b"
            ],
            [
             0.6666666666666666,
             "#ed7953"
            ],
            [
             0.7777777777777778,
             "#fb9f3a"
            ],
            [
             0.8888888888888888,
             "#fdca26"
            ],
            [
             1,
             "#f0f921"
            ]
           ],
           "sequentialminus": [
            [
             0,
             "#0d0887"
            ],
            [
             0.1111111111111111,
             "#46039f"
            ],
            [
             0.2222222222222222,
             "#7201a8"
            ],
            [
             0.3333333333333333,
             "#9c179e"
            ],
            [
             0.4444444444444444,
             "#bd3786"
            ],
            [
             0.5555555555555556,
             "#d8576b"
            ],
            [
             0.6666666666666666,
             "#ed7953"
            ],
            [
             0.7777777777777778,
             "#fb9f3a"
            ],
            [
             0.8888888888888888,
             "#fdca26"
            ],
            [
             1,
             "#f0f921"
            ]
           ]
          },
          "colorway": [
           "#636efa",
           "#EF553B",
           "#00cc96",
           "#ab63fa",
           "#FFA15A",
           "#19d3f3",
           "#FF6692",
           "#B6E880",
           "#FF97FF",
           "#FECB52"
          ],
          "font": {
           "color": "#2a3f5f"
          },
          "geo": {
           "bgcolor": "white",
           "lakecolor": "white",
           "landcolor": "white",
           "showlakes": true,
           "showland": true,
           "subunitcolor": "#C8D4E3"
          },
          "hoverlabel": {
           "align": "left"
          },
          "hovermode": "closest",
          "mapbox": {
           "style": "light"
          },
          "paper_bgcolor": "white",
          "plot_bgcolor": "white",
          "polar": {
           "angularaxis": {
            "gridcolor": "#EBF0F8",
            "linecolor": "#EBF0F8",
            "ticks": ""
           },
           "bgcolor": "white",
           "radialaxis": {
            "gridcolor": "#EBF0F8",
            "linecolor": "#EBF0F8",
            "ticks": ""
           }
          },
          "scene": {
           "xaxis": {
            "backgroundcolor": "white",
            "gridcolor": "#DFE8F3",
            "gridwidth": 2,
            "linecolor": "#EBF0F8",
            "showbackground": true,
            "ticks": "",
            "zerolinecolor": "#EBF0F8"
           },
           "yaxis": {
            "backgroundcolor": "white",
            "gridcolor": "#DFE8F3",
            "gridwidth": 2,
            "linecolor": "#EBF0F8",
            "showbackground": true,
            "ticks": "",
            "zerolinecolor": "#EBF0F8"
           },
           "zaxis": {
            "backgroundcolor": "white",
            "gridcolor": "#DFE8F3",
            "gridwidth": 2,
            "linecolor": "#EBF0F8",
            "showbackground": true,
            "ticks": "",
            "zerolinecolor": "#EBF0F8"
           }
          },
          "shapedefaults": {
           "line": {
            "color": "#2a3f5f"
           }
          },
          "ternary": {
           "aaxis": {
            "gridcolor": "#DFE8F3",
            "linecolor": "#A2B1C6",
            "ticks": ""
           },
           "baxis": {
            "gridcolor": "#DFE8F3",
            "linecolor": "#A2B1C6",
            "ticks": ""
           },
           "bgcolor": "white",
           "caxis": {
            "gridcolor": "#DFE8F3",
            "linecolor": "#A2B1C6",
            "ticks": ""
           }
          },
          "title": {
           "x": 0.05
          },
          "xaxis": {
           "automargin": true,
           "gridcolor": "#EBF0F8",
           "linecolor": "#EBF0F8",
           "ticks": "",
           "title": {
            "standoff": 15
           },
           "zerolinecolor": "#EBF0F8",
           "zerolinewidth": 2
          },
          "yaxis": {
           "automargin": true,
           "gridcolor": "#EBF0F8",
           "linecolor": "#EBF0F8",
           "ticks": "",
           "title": {
            "standoff": 15
           },
           "zerolinecolor": "#EBF0F8",
           "zerolinewidth": 2
          }
         }
        },
        "title": {
         "font": {
          "color": "Black",
          "size": 22
         },
         "text": "Topic Word Scores",
         "x": 0.5,
         "xanchor": "center",
         "yanchor": "top"
        },
        "width": 1000,
        "xaxis": {
         "anchor": "y",
         "domain": [
          0,
          0.175
         ],
         "showgrid": true
        },
        "xaxis2": {
         "anchor": "y2",
         "domain": [
          0.275,
          0.45
         ],
         "showgrid": true
        },
        "xaxis3": {
         "anchor": "y3",
         "domain": [
          0.55,
          0.7250000000000001
         ],
         "showgrid": true
        },
        "xaxis4": {
         "anchor": "y4",
         "domain": [
          0.825,
          1
         ],
         "showgrid": true
        },
        "xaxis5": {
         "anchor": "y5",
         "domain": [
          0,
          0.175
         ],
         "showgrid": true
        },
        "xaxis6": {
         "anchor": "y6",
         "domain": [
          0.275,
          0.45
         ],
         "showgrid": true
        },
        "xaxis7": {
         "anchor": "y7",
         "domain": [
          0.55,
          0.7250000000000001
         ],
         "showgrid": true
        },
        "xaxis8": {
         "anchor": "y8",
         "domain": [
          0.825,
          1
         ],
         "showgrid": true
        },
        "yaxis": {
         "anchor": "x",
         "domain": [
          0.6000000000000001,
          1
         ],
         "showgrid": true
        },
        "yaxis2": {
         "anchor": "x2",
         "domain": [
          0.6000000000000001,
          1
         ],
         "showgrid": true
        },
        "yaxis3": {
         "anchor": "x3",
         "domain": [
          0.6000000000000001,
          1
         ],
         "showgrid": true
        },
        "yaxis4": {
         "anchor": "x4",
         "domain": [
          0.6000000000000001,
          1
         ],
         "showgrid": true
        },
        "yaxis5": {
         "anchor": "x5",
         "domain": [
          0,
          0.4
         ],
         "showgrid": true
        },
        "yaxis6": {
         "anchor": "x6",
         "domain": [
          0,
          0.4
         ],
         "showgrid": true
        },
        "yaxis7": {
         "anchor": "x7",
         "domain": [
          0,
          0.4
         ],
         "showgrid": true
        },
        "yaxis8": {
         "anchor": "x8",
         "domain": [
          0,
          0.4
         ],
         "showgrid": true
        }
       }
      }
     },
     "metadata": {},
     "output_type": "display_data"
    }
   ],
   "source": [
    "# topic_model_f.visualize_barchart()#top_n_topics=16)"
   ]
  },
  {
   "cell_type": "code",
   "execution_count": 11,
   "metadata": {},
   "outputs": [
    {
     "data": {
      "application/vnd.plotly.v1+json": {
       "config": {
        "plotlyServerURL": "https://plot.ly"
       },
       "data": [
        {
         "marker": {
          "color": "#D55E00"
         },
         "orientation": "h",
         "type": "bar",
         "x": [
          0.00509181207544714,
          0.006521911279678228,
          0.008071760005649806,
          0.019831599572178685,
          0.06976126299668146
         ],
         "xaxis": "x",
         "y": [
          "225  ",
          "239  ",
          "229  ",
          "197  ",
          "195  "
         ],
         "yaxis": "y"
        },
        {
         "marker": {
          "color": "#0072B2"
         },
         "orientation": "h",
         "type": "bar",
         "x": [
          0.006512016676039949,
          0.00715169483600997,
          0.02162903249407309,
          0.08174164334196524,
          0.08949983667507752
         ],
         "xaxis": "x2",
         "y": [
          "221  ",
          "220  ",
          "162  ",
          "152  ",
          "151  "
         ],
         "yaxis": "y2"
        },
        {
         "marker": {
          "color": "#CC79A7"
         },
         "orientation": "h",
         "type": "bar",
         "x": [
          0.01641068262815132,
          0.01726766620299615,
          0.01748846948457502,
          0.035090783556279814,
          0.046413984478759246
         ],
         "xaxis": "x3",
         "y": [
          "151  ",
          "162  ",
          "152  ",
          "232  ",
          "220  "
         ],
         "yaxis": "y3"
        },
        {
         "marker": {
          "color": "#E69F00"
         },
         "orientation": "h",
         "type": "bar",
         "x": [
          0.0058839980685261055,
          0.006012128254374367,
          0.007689915088274872,
          0.10812928755601518,
          0.15756819165261385
         ],
         "xaxis": "x4",
         "y": [
          "220  ",
          "202  ",
          "239  ",
          "145  ",
          "147  "
         ],
         "yaxis": "y4"
        },
        {
         "marker": {
          "color": "#56B4E9"
         },
         "orientation": "h",
         "type": "bar",
         "x": [
          0.004230961100245147,
          0.0042737633117640285,
          0.004779662991982648,
          0.005565223952274805,
          0.18561986441484574
         ],
         "xaxis": "x5",
         "y": [
          "160  ",
          "221  ",
          "202  ",
          "239  ",
          "133  "
         ],
         "yaxis": "y5"
        },
        {
         "marker": {
          "color": "#009E73"
         },
         "orientation": "h",
         "type": "bar",
         "x": [
          0.006744024059369943,
          0.008314396109285081,
          0.01200697144388022,
          0.014809629668719541,
          0.11137660280764748
         ],
         "xaxis": "x6",
         "y": [
          "229  ",
          "239  ",
          "219  ",
          "221  ",
          "220  "
         ],
         "yaxis": "y6"
        },
        {
         "marker": {
          "color": "#F0E442"
         },
         "orientation": "h",
         "type": "bar",
         "x": [
          0.0218874739564776,
          0.02243885926682998,
          0.022920609380163007,
          0.02337553105803022,
          0.03273923671667312
         ],
         "xaxis": "x7",
         "y": [
          "223  ",
          "123  ",
          "145  ",
          "241  ",
          "142  "
         ],
         "yaxis": "y7"
        },
        {
         "marker": {
          "color": "#D55E00"
         },
         "orientation": "h",
         "type": "bar",
         "x": [
          0.004295554845146907,
          0.004896367796086082,
          0.005615838111497211,
          0.006936624856850728,
          0.22131272261864152
         ],
         "xaxis": "x8",
         "y": [
          "165  ",
          "202  ",
          "239  ",
          "135  ",
          "134  "
         ],
         "yaxis": "y8"
        }
       ],
       "layout": {
        "annotations": [
         {
          "font": {
           "size": 16
          },
          "showarrow": false,
          "text": "Topic 0",
          "x": 0.0875,
          "xanchor": "center",
          "xref": "paper",
          "y": 1,
          "yanchor": "bottom",
          "yref": "paper"
         },
         {
          "font": {
           "size": 16
          },
          "showarrow": false,
          "text": "Topic 1",
          "x": 0.36250000000000004,
          "xanchor": "center",
          "xref": "paper",
          "y": 1,
          "yanchor": "bottom",
          "yref": "paper"
         },
         {
          "font": {
           "size": 16
          },
          "showarrow": false,
          "text": "Topic 2",
          "x": 0.6375000000000001,
          "xanchor": "center",
          "xref": "paper",
          "y": 1,
          "yanchor": "bottom",
          "yref": "paper"
         },
         {
          "font": {
           "size": 16
          },
          "showarrow": false,
          "text": "Topic 3",
          "x": 0.9125,
          "xanchor": "center",
          "xref": "paper",
          "y": 1,
          "yanchor": "bottom",
          "yref": "paper"
         },
         {
          "font": {
           "size": 16
          },
          "showarrow": false,
          "text": "Topic 4",
          "x": 0.0875,
          "xanchor": "center",
          "xref": "paper",
          "y": 0.4,
          "yanchor": "bottom",
          "yref": "paper"
         },
         {
          "font": {
           "size": 16
          },
          "showarrow": false,
          "text": "Topic 5",
          "x": 0.36250000000000004,
          "xanchor": "center",
          "xref": "paper",
          "y": 0.4,
          "yanchor": "bottom",
          "yref": "paper"
         },
         {
          "font": {
           "size": 16
          },
          "showarrow": false,
          "text": "Topic 6",
          "x": 0.6375000000000001,
          "xanchor": "center",
          "xref": "paper",
          "y": 0.4,
          "yanchor": "bottom",
          "yref": "paper"
         },
         {
          "font": {
           "size": 16
          },
          "showarrow": false,
          "text": "Topic 7",
          "x": 0.9125,
          "xanchor": "center",
          "xref": "paper",
          "y": 0.4,
          "yanchor": "bottom",
          "yref": "paper"
         }
        ],
        "height": 500,
        "hoverlabel": {
         "bgcolor": "white",
         "font": {
          "family": "Rockwell",
          "size": 16
         }
        },
        "showlegend": false,
        "template": {
         "data": {
          "bar": [
           {
            "error_x": {
             "color": "#2a3f5f"
            },
            "error_y": {
             "color": "#2a3f5f"
            },
            "marker": {
             "line": {
              "color": "white",
              "width": 0.5
             },
             "pattern": {
              "fillmode": "overlay",
              "size": 10,
              "solidity": 0.2
             }
            },
            "type": "bar"
           }
          ],
          "barpolar": [
           {
            "marker": {
             "line": {
              "color": "white",
              "width": 0.5
             },
             "pattern": {
              "fillmode": "overlay",
              "size": 10,
              "solidity": 0.2
             }
            },
            "type": "barpolar"
           }
          ],
          "carpet": [
           {
            "aaxis": {
             "endlinecolor": "#2a3f5f",
             "gridcolor": "#C8D4E3",
             "linecolor": "#C8D4E3",
             "minorgridcolor": "#C8D4E3",
             "startlinecolor": "#2a3f5f"
            },
            "baxis": {
             "endlinecolor": "#2a3f5f",
             "gridcolor": "#C8D4E3",
             "linecolor": "#C8D4E3",
             "minorgridcolor": "#C8D4E3",
             "startlinecolor": "#2a3f5f"
            },
            "type": "carpet"
           }
          ],
          "choropleth": [
           {
            "colorbar": {
             "outlinewidth": 0,
             "ticks": ""
            },
            "type": "choropleth"
           }
          ],
          "contour": [
           {
            "colorbar": {
             "outlinewidth": 0,
             "ticks": ""
            },
            "colorscale": [
             [
              0,
              "#0d0887"
             ],
             [
              0.1111111111111111,
              "#46039f"
             ],
             [
              0.2222222222222222,
              "#7201a8"
             ],
             [
              0.3333333333333333,
              "#9c179e"
             ],
             [
              0.4444444444444444,
              "#bd3786"
             ],
             [
              0.5555555555555556,
              "#d8576b"
             ],
             [
              0.6666666666666666,
              "#ed7953"
             ],
             [
              0.7777777777777778,
              "#fb9f3a"
             ],
             [
              0.8888888888888888,
              "#fdca26"
             ],
             [
              1,
              "#f0f921"
             ]
            ],
            "type": "contour"
           }
          ],
          "contourcarpet": [
           {
            "colorbar": {
             "outlinewidth": 0,
             "ticks": ""
            },
            "type": "contourcarpet"
           }
          ],
          "heatmap": [
           {
            "colorbar": {
             "outlinewidth": 0,
             "ticks": ""
            },
            "colorscale": [
             [
              0,
              "#0d0887"
             ],
             [
              0.1111111111111111,
              "#46039f"
             ],
             [
              0.2222222222222222,
              "#7201a8"
             ],
             [
              0.3333333333333333,
              "#9c179e"
             ],
             [
              0.4444444444444444,
              "#bd3786"
             ],
             [
              0.5555555555555556,
              "#d8576b"
             ],
             [
              0.6666666666666666,
              "#ed7953"
             ],
             [
              0.7777777777777778,
              "#fb9f3a"
             ],
             [
              0.8888888888888888,
              "#fdca26"
             ],
             [
              1,
              "#f0f921"
             ]
            ],
            "type": "heatmap"
           }
          ],
          "heatmapgl": [
           {
            "colorbar": {
             "outlinewidth": 0,
             "ticks": ""
            },
            "colorscale": [
             [
              0,
              "#0d0887"
             ],
             [
              0.1111111111111111,
              "#46039f"
             ],
             [
              0.2222222222222222,
              "#7201a8"
             ],
             [
              0.3333333333333333,
              "#9c179e"
             ],
             [
              0.4444444444444444,
              "#bd3786"
             ],
             [
              0.5555555555555556,
              "#d8576b"
             ],
             [
              0.6666666666666666,
              "#ed7953"
             ],
             [
              0.7777777777777778,
              "#fb9f3a"
             ],
             [
              0.8888888888888888,
              "#fdca26"
             ],
             [
              1,
              "#f0f921"
             ]
            ],
            "type": "heatmapgl"
           }
          ],
          "histogram": [
           {
            "marker": {
             "pattern": {
              "fillmode": "overlay",
              "size": 10,
              "solidity": 0.2
             }
            },
            "type": "histogram"
           }
          ],
          "histogram2d": [
           {
            "colorbar": {
             "outlinewidth": 0,
             "ticks": ""
            },
            "colorscale": [
             [
              0,
              "#0d0887"
             ],
             [
              0.1111111111111111,
              "#46039f"
             ],
             [
              0.2222222222222222,
              "#7201a8"
             ],
             [
              0.3333333333333333,
              "#9c179e"
             ],
             [
              0.4444444444444444,
              "#bd3786"
             ],
             [
              0.5555555555555556,
              "#d8576b"
             ],
             [
              0.6666666666666666,
              "#ed7953"
             ],
             [
              0.7777777777777778,
              "#fb9f3a"
             ],
             [
              0.8888888888888888,
              "#fdca26"
             ],
             [
              1,
              "#f0f921"
             ]
            ],
            "type": "histogram2d"
           }
          ],
          "histogram2dcontour": [
           {
            "colorbar": {
             "outlinewidth": 0,
             "ticks": ""
            },
            "colorscale": [
             [
              0,
              "#0d0887"
             ],
             [
              0.1111111111111111,
              "#46039f"
             ],
             [
              0.2222222222222222,
              "#7201a8"
             ],
             [
              0.3333333333333333,
              "#9c179e"
             ],
             [
              0.4444444444444444,
              "#bd3786"
             ],
             [
              0.5555555555555556,
              "#d8576b"
             ],
             [
              0.6666666666666666,
              "#ed7953"
             ],
             [
              0.7777777777777778,
              "#fb9f3a"
             ],
             [
              0.8888888888888888,
              "#fdca26"
             ],
             [
              1,
              "#f0f921"
             ]
            ],
            "type": "histogram2dcontour"
           }
          ],
          "mesh3d": [
           {
            "colorbar": {
             "outlinewidth": 0,
             "ticks": ""
            },
            "type": "mesh3d"
           }
          ],
          "parcoords": [
           {
            "line": {
             "colorbar": {
              "outlinewidth": 0,
              "ticks": ""
             }
            },
            "type": "parcoords"
           }
          ],
          "pie": [
           {
            "automargin": true,
            "type": "pie"
           }
          ],
          "scatter": [
           {
            "fillpattern": {
             "fillmode": "overlay",
             "size": 10,
             "solidity": 0.2
            },
            "type": "scatter"
           }
          ],
          "scatter3d": [
           {
            "line": {
             "colorbar": {
              "outlinewidth": 0,
              "ticks": ""
             }
            },
            "marker": {
             "colorbar": {
              "outlinewidth": 0,
              "ticks": ""
             }
            },
            "type": "scatter3d"
           }
          ],
          "scattercarpet": [
           {
            "marker": {
             "colorbar": {
              "outlinewidth": 0,
              "ticks": ""
             }
            },
            "type": "scattercarpet"
           }
          ],
          "scattergeo": [
           {
            "marker": {
             "colorbar": {
              "outlinewidth": 0,
              "ticks": ""
             }
            },
            "type": "scattergeo"
           }
          ],
          "scattergl": [
           {
            "marker": {
             "colorbar": {
              "outlinewidth": 0,
              "ticks": ""
             }
            },
            "type": "scattergl"
           }
          ],
          "scattermapbox": [
           {
            "marker": {
             "colorbar": {
              "outlinewidth": 0,
              "ticks": ""
             }
            },
            "type": "scattermapbox"
           }
          ],
          "scatterpolar": [
           {
            "marker": {
             "colorbar": {
              "outlinewidth": 0,
              "ticks": ""
             }
            },
            "type": "scatterpolar"
           }
          ],
          "scatterpolargl": [
           {
            "marker": {
             "colorbar": {
              "outlinewidth": 0,
              "ticks": ""
             }
            },
            "type": "scatterpolargl"
           }
          ],
          "scatterternary": [
           {
            "marker": {
             "colorbar": {
              "outlinewidth": 0,
              "ticks": ""
             }
            },
            "type": "scatterternary"
           }
          ],
          "surface": [
           {
            "colorbar": {
             "outlinewidth": 0,
             "ticks": ""
            },
            "colorscale": [
             [
              0,
              "#0d0887"
             ],
             [
              0.1111111111111111,
              "#46039f"
             ],
             [
              0.2222222222222222,
              "#7201a8"
             ],
             [
              0.3333333333333333,
              "#9c179e"
             ],
             [
              0.4444444444444444,
              "#bd3786"
             ],
             [
              0.5555555555555556,
              "#d8576b"
             ],
             [
              0.6666666666666666,
              "#ed7953"
             ],
             [
              0.7777777777777778,
              "#fb9f3a"
             ],
             [
              0.8888888888888888,
              "#fdca26"
             ],
             [
              1,
              "#f0f921"
             ]
            ],
            "type": "surface"
           }
          ],
          "table": [
           {
            "cells": {
             "fill": {
              "color": "#EBF0F8"
             },
             "line": {
              "color": "white"
             }
            },
            "header": {
             "fill": {
              "color": "#C8D4E3"
             },
             "line": {
              "color": "white"
             }
            },
            "type": "table"
           }
          ]
         },
         "layout": {
          "annotationdefaults": {
           "arrowcolor": "#2a3f5f",
           "arrowhead": 0,
           "arrowwidth": 1
          },
          "autotypenumbers": "strict",
          "coloraxis": {
           "colorbar": {
            "outlinewidth": 0,
            "ticks": ""
           }
          },
          "colorscale": {
           "diverging": [
            [
             0,
             "#8e0152"
            ],
            [
             0.1,
             "#c51b7d"
            ],
            [
             0.2,
             "#de77ae"
            ],
            [
             0.3,
             "#f1b6da"
            ],
            [
             0.4,
             "#fde0ef"
            ],
            [
             0.5,
             "#f7f7f7"
            ],
            [
             0.6,
             "#e6f5d0"
            ],
            [
             0.7,
             "#b8e186"
            ],
            [
             0.8,
             "#7fbc41"
            ],
            [
             0.9,
             "#4d9221"
            ],
            [
             1,
             "#276419"
            ]
           ],
           "sequential": [
            [
             0,
             "#0d0887"
            ],
            [
             0.1111111111111111,
             "#46039f"
            ],
            [
             0.2222222222222222,
             "#7201a8"
            ],
            [
             0.3333333333333333,
             "#9c179e"
            ],
            [
             0.4444444444444444,
             "#bd3786"
            ],
            [
             0.5555555555555556,
             "#d8576b"
            ],
            [
             0.6666666666666666,
             "#ed7953"
            ],
            [
             0.7777777777777778,
             "#fb9f3a"
            ],
            [
             0.8888888888888888,
             "#fdca26"
            ],
            [
             1,
             "#f0f921"
            ]
           ],
           "sequentialminus": [
            [
             0,
             "#0d0887"
            ],
            [
             0.1111111111111111,
             "#46039f"
            ],
            [
             0.2222222222222222,
             "#7201a8"
            ],
            [
             0.3333333333333333,
             "#9c179e"
            ],
            [
             0.4444444444444444,
             "#bd3786"
            ],
            [
             0.5555555555555556,
             "#d8576b"
            ],
            [
             0.6666666666666666,
             "#ed7953"
            ],
            [
             0.7777777777777778,
             "#fb9f3a"
            ],
            [
             0.8888888888888888,
             "#fdca26"
            ],
            [
             1,
             "#f0f921"
            ]
           ]
          },
          "colorway": [
           "#636efa",
           "#EF553B",
           "#00cc96",
           "#ab63fa",
           "#FFA15A",
           "#19d3f3",
           "#FF6692",
           "#B6E880",
           "#FF97FF",
           "#FECB52"
          ],
          "font": {
           "color": "#2a3f5f"
          },
          "geo": {
           "bgcolor": "white",
           "lakecolor": "white",
           "landcolor": "white",
           "showlakes": true,
           "showland": true,
           "subunitcolor": "#C8D4E3"
          },
          "hoverlabel": {
           "align": "left"
          },
          "hovermode": "closest",
          "mapbox": {
           "style": "light"
          },
          "paper_bgcolor": "white",
          "plot_bgcolor": "white",
          "polar": {
           "angularaxis": {
            "gridcolor": "#EBF0F8",
            "linecolor": "#EBF0F8",
            "ticks": ""
           },
           "bgcolor": "white",
           "radialaxis": {
            "gridcolor": "#EBF0F8",
            "linecolor": "#EBF0F8",
            "ticks": ""
           }
          },
          "scene": {
           "xaxis": {
            "backgroundcolor": "white",
            "gridcolor": "#DFE8F3",
            "gridwidth": 2,
            "linecolor": "#EBF0F8",
            "showbackground": true,
            "ticks": "",
            "zerolinecolor": "#EBF0F8"
           },
           "yaxis": {
            "backgroundcolor": "white",
            "gridcolor": "#DFE8F3",
            "gridwidth": 2,
            "linecolor": "#EBF0F8",
            "showbackground": true,
            "ticks": "",
            "zerolinecolor": "#EBF0F8"
           },
           "zaxis": {
            "backgroundcolor": "white",
            "gridcolor": "#DFE8F3",
            "gridwidth": 2,
            "linecolor": "#EBF0F8",
            "showbackground": true,
            "ticks": "",
            "zerolinecolor": "#EBF0F8"
           }
          },
          "shapedefaults": {
           "line": {
            "color": "#2a3f5f"
           }
          },
          "ternary": {
           "aaxis": {
            "gridcolor": "#DFE8F3",
            "linecolor": "#A2B1C6",
            "ticks": ""
           },
           "baxis": {
            "gridcolor": "#DFE8F3",
            "linecolor": "#A2B1C6",
            "ticks": ""
           },
           "bgcolor": "white",
           "caxis": {
            "gridcolor": "#DFE8F3",
            "linecolor": "#A2B1C6",
            "ticks": ""
           }
          },
          "title": {
           "x": 0.05
          },
          "xaxis": {
           "automargin": true,
           "gridcolor": "#EBF0F8",
           "linecolor": "#EBF0F8",
           "ticks": "",
           "title": {
            "standoff": 15
           },
           "zerolinecolor": "#EBF0F8",
           "zerolinewidth": 2
          },
          "yaxis": {
           "automargin": true,
           "gridcolor": "#EBF0F8",
           "linecolor": "#EBF0F8",
           "ticks": "",
           "title": {
            "standoff": 15
           },
           "zerolinecolor": "#EBF0F8",
           "zerolinewidth": 2
          }
         }
        },
        "title": {
         "font": {
          "color": "Black",
          "size": 22
         },
         "text": "Topic Word Scores",
         "x": 0.5,
         "xanchor": "center",
         "yanchor": "top"
        },
        "width": 1000,
        "xaxis": {
         "anchor": "y",
         "domain": [
          0,
          0.175
         ],
         "showgrid": true
        },
        "xaxis2": {
         "anchor": "y2",
         "domain": [
          0.275,
          0.45
         ],
         "showgrid": true
        },
        "xaxis3": {
         "anchor": "y3",
         "domain": [
          0.55,
          0.7250000000000001
         ],
         "showgrid": true
        },
        "xaxis4": {
         "anchor": "y4",
         "domain": [
          0.825,
          1
         ],
         "showgrid": true
        },
        "xaxis5": {
         "anchor": "y5",
         "domain": [
          0,
          0.175
         ],
         "showgrid": true
        },
        "xaxis6": {
         "anchor": "y6",
         "domain": [
          0.275,
          0.45
         ],
         "showgrid": true
        },
        "xaxis7": {
         "anchor": "y7",
         "domain": [
          0.55,
          0.7250000000000001
         ],
         "showgrid": true
        },
        "xaxis8": {
         "anchor": "y8",
         "domain": [
          0.825,
          1
         ],
         "showgrid": true
        },
        "yaxis": {
         "anchor": "x",
         "domain": [
          0.6000000000000001,
          1
         ],
         "showgrid": true
        },
        "yaxis2": {
         "anchor": "x2",
         "domain": [
          0.6000000000000001,
          1
         ],
         "showgrid": true
        },
        "yaxis3": {
         "anchor": "x3",
         "domain": [
          0.6000000000000001,
          1
         ],
         "showgrid": true
        },
        "yaxis4": {
         "anchor": "x4",
         "domain": [
          0.6000000000000001,
          1
         ],
         "showgrid": true
        },
        "yaxis5": {
         "anchor": "x5",
         "domain": [
          0,
          0.4
         ],
         "showgrid": true
        },
        "yaxis6": {
         "anchor": "x6",
         "domain": [
          0,
          0.4
         ],
         "showgrid": true
        },
        "yaxis7": {
         "anchor": "x7",
         "domain": [
          0,
          0.4
         ],
         "showgrid": true
        },
        "yaxis8": {
         "anchor": "x8",
         "domain": [
          0,
          0.4
         ],
         "showgrid": true
        }
       }
      }
     },
     "metadata": {},
     "output_type": "display_data"
    }
   ],
   "source": [
    "topic_model_m.visualize_barchart()#top_n_topics=16)"
   ]
  },
  {
   "cell_type": "code",
   "execution_count": 4,
   "metadata": {},
   "outputs": [
    {
     "data": {
      "application/vnd.plotly.v1+json": {
       "config": {
        "plotlyServerURL": "https://plot.ly"
       },
       "data": [
        {
         "marker": {
          "color": "#D55E00"
         },
         "orientation": "h",
         "type": "bar",
         "x": [
          0.00509181207544714,
          0.006521911279678228,
          0.008071760005649806,
          0.019831599572178685,
          0.06976126299668146
         ],
         "xaxis": "x",
         "y": [
          "225  ",
          "239  ",
          "229  ",
          "197  ",
          "195  "
         ],
         "yaxis": "y"
        },
        {
         "marker": {
          "color": "#0072B2"
         },
         "orientation": "h",
         "type": "bar",
         "x": [
          0.006512016676039949,
          0.00715169483600997,
          0.02162903249407309,
          0.08174164334196524,
          0.08949983667507752
         ],
         "xaxis": "x2",
         "y": [
          "221  ",
          "220  ",
          "162  ",
          "152  ",
          "151  "
         ],
         "yaxis": "y2"
        },
        {
         "marker": {
          "color": "#CC79A7"
         },
         "orientation": "h",
         "type": "bar",
         "x": [
          0.01641068262815132,
          0.01726766620299615,
          0.01748846948457502,
          0.035090783556279814,
          0.046413984478759246
         ],
         "xaxis": "x3",
         "y": [
          "151  ",
          "162  ",
          "152  ",
          "232  ",
          "220  "
         ],
         "yaxis": "y3"
        },
        {
         "marker": {
          "color": "#E69F00"
         },
         "orientation": "h",
         "type": "bar",
         "x": [
          0.0058839980685261055,
          0.006012128254374367,
          0.007689915088274872,
          0.10812928755601518,
          0.15756819165261385
         ],
         "xaxis": "x4",
         "y": [
          "220  ",
          "202  ",
          "239  ",
          "145  ",
          "147  "
         ],
         "yaxis": "y4"
        },
        {
         "marker": {
          "color": "#56B4E9"
         },
         "orientation": "h",
         "type": "bar",
         "x": [
          0.004230961100245147,
          0.0042737633117640285,
          0.004779662991982648,
          0.005565223952274805,
          0.18561986441484574
         ],
         "xaxis": "x5",
         "y": [
          "160  ",
          "221  ",
          "202  ",
          "239  ",
          "133  "
         ],
         "yaxis": "y5"
        },
        {
         "marker": {
          "color": "#009E73"
         },
         "orientation": "h",
         "type": "bar",
         "x": [
          0.006744024059369943,
          0.008314396109285081,
          0.01200697144388022,
          0.014809629668719541,
          0.11137660280764748
         ],
         "xaxis": "x6",
         "y": [
          "229  ",
          "239  ",
          "219  ",
          "221  ",
          "220  "
         ],
         "yaxis": "y6"
        },
        {
         "marker": {
          "color": "#F0E442"
         },
         "orientation": "h",
         "type": "bar",
         "x": [
          0.0218874739564776,
          0.02243885926682998,
          0.022920609380163007,
          0.02337553105803022,
          0.03273923671667312
         ],
         "xaxis": "x7",
         "y": [
          "223  ",
          "123  ",
          "145  ",
          "241  ",
          "142  "
         ],
         "yaxis": "y7"
        },
        {
         "marker": {
          "color": "#D55E00"
         },
         "orientation": "h",
         "type": "bar",
         "x": [
          0.004295554845146907,
          0.004896367796086082,
          0.005615838111497211,
          0.006936624856850728,
          0.22131272261864152
         ],
         "xaxis": "x8",
         "y": [
          "165  ",
          "202  ",
          "239  ",
          "135  ",
          "134  "
         ],
         "yaxis": "y8"
        }
       ],
       "layout": {
        "annotations": [
         {
          "font": {
           "size": 16
          },
          "showarrow": false,
          "text": "Topic 0",
          "x": 0.0875,
          "xanchor": "center",
          "xref": "paper",
          "y": 1,
          "yanchor": "bottom",
          "yref": "paper"
         },
         {
          "font": {
           "size": 16
          },
          "showarrow": false,
          "text": "Topic 1",
          "x": 0.36250000000000004,
          "xanchor": "center",
          "xref": "paper",
          "y": 1,
          "yanchor": "bottom",
          "yref": "paper"
         },
         {
          "font": {
           "size": 16
          },
          "showarrow": false,
          "text": "Topic 2",
          "x": 0.6375000000000001,
          "xanchor": "center",
          "xref": "paper",
          "y": 1,
          "yanchor": "bottom",
          "yref": "paper"
         },
         {
          "font": {
           "size": 16
          },
          "showarrow": false,
          "text": "Topic 3",
          "x": 0.9125,
          "xanchor": "center",
          "xref": "paper",
          "y": 1,
          "yanchor": "bottom",
          "yref": "paper"
         },
         {
          "font": {
           "size": 16
          },
          "showarrow": false,
          "text": "Topic 4",
          "x": 0.0875,
          "xanchor": "center",
          "xref": "paper",
          "y": 0.4,
          "yanchor": "bottom",
          "yref": "paper"
         },
         {
          "font": {
           "size": 16
          },
          "showarrow": false,
          "text": "Topic 5",
          "x": 0.36250000000000004,
          "xanchor": "center",
          "xref": "paper",
          "y": 0.4,
          "yanchor": "bottom",
          "yref": "paper"
         },
         {
          "font": {
           "size": 16
          },
          "showarrow": false,
          "text": "Topic 6",
          "x": 0.6375000000000001,
          "xanchor": "center",
          "xref": "paper",
          "y": 0.4,
          "yanchor": "bottom",
          "yref": "paper"
         },
         {
          "font": {
           "size": 16
          },
          "showarrow": false,
          "text": "Topic 7",
          "x": 0.9125,
          "xanchor": "center",
          "xref": "paper",
          "y": 0.4,
          "yanchor": "bottom",
          "yref": "paper"
         }
        ],
        "height": 500,
        "hoverlabel": {
         "bgcolor": "white",
         "font": {
          "family": "Rockwell",
          "size": 16
         }
        },
        "showlegend": false,
        "template": {
         "data": {
          "bar": [
           {
            "error_x": {
             "color": "#2a3f5f"
            },
            "error_y": {
             "color": "#2a3f5f"
            },
            "marker": {
             "line": {
              "color": "white",
              "width": 0.5
             },
             "pattern": {
              "fillmode": "overlay",
              "size": 10,
              "solidity": 0.2
             }
            },
            "type": "bar"
           }
          ],
          "barpolar": [
           {
            "marker": {
             "line": {
              "color": "white",
              "width": 0.5
             },
             "pattern": {
              "fillmode": "overlay",
              "size": 10,
              "solidity": 0.2
             }
            },
            "type": "barpolar"
           }
          ],
          "carpet": [
           {
            "aaxis": {
             "endlinecolor": "#2a3f5f",
             "gridcolor": "#C8D4E3",
             "linecolor": "#C8D4E3",
             "minorgridcolor": "#C8D4E3",
             "startlinecolor": "#2a3f5f"
            },
            "baxis": {
             "endlinecolor": "#2a3f5f",
             "gridcolor": "#C8D4E3",
             "linecolor": "#C8D4E3",
             "minorgridcolor": "#C8D4E3",
             "startlinecolor": "#2a3f5f"
            },
            "type": "carpet"
           }
          ],
          "choropleth": [
           {
            "colorbar": {
             "outlinewidth": 0,
             "ticks": ""
            },
            "type": "choropleth"
           }
          ],
          "contour": [
           {
            "colorbar": {
             "outlinewidth": 0,
             "ticks": ""
            },
            "colorscale": [
             [
              0,
              "#0d0887"
             ],
             [
              0.1111111111111111,
              "#46039f"
             ],
             [
              0.2222222222222222,
              "#7201a8"
             ],
             [
              0.3333333333333333,
              "#9c179e"
             ],
             [
              0.4444444444444444,
              "#bd3786"
             ],
             [
              0.5555555555555556,
              "#d8576b"
             ],
             [
              0.6666666666666666,
              "#ed7953"
             ],
             [
              0.7777777777777778,
              "#fb9f3a"
             ],
             [
              0.8888888888888888,
              "#fdca26"
             ],
             [
              1,
              "#f0f921"
             ]
            ],
            "type": "contour"
           }
          ],
          "contourcarpet": [
           {
            "colorbar": {
             "outlinewidth": 0,
             "ticks": ""
            },
            "type": "contourcarpet"
           }
          ],
          "heatmap": [
           {
            "colorbar": {
             "outlinewidth": 0,
             "ticks": ""
            },
            "colorscale": [
             [
              0,
              "#0d0887"
             ],
             [
              0.1111111111111111,
              "#46039f"
             ],
             [
              0.2222222222222222,
              "#7201a8"
             ],
             [
              0.3333333333333333,
              "#9c179e"
             ],
             [
              0.4444444444444444,
              "#bd3786"
             ],
             [
              0.5555555555555556,
              "#d8576b"
             ],
             [
              0.6666666666666666,
              "#ed7953"
             ],
             [
              0.7777777777777778,
              "#fb9f3a"
             ],
             [
              0.8888888888888888,
              "#fdca26"
             ],
             [
              1,
              "#f0f921"
             ]
            ],
            "type": "heatmap"
           }
          ],
          "heatmapgl": [
           {
            "colorbar": {
             "outlinewidth": 0,
             "ticks": ""
            },
            "colorscale": [
             [
              0,
              "#0d0887"
             ],
             [
              0.1111111111111111,
              "#46039f"
             ],
             [
              0.2222222222222222,
              "#7201a8"
             ],
             [
              0.3333333333333333,
              "#9c179e"
             ],
             [
              0.4444444444444444,
              "#bd3786"
             ],
             [
              0.5555555555555556,
              "#d8576b"
             ],
             [
              0.6666666666666666,
              "#ed7953"
             ],
             [
              0.7777777777777778,
              "#fb9f3a"
             ],
             [
              0.8888888888888888,
              "#fdca26"
             ],
             [
              1,
              "#f0f921"
             ]
            ],
            "type": "heatmapgl"
           }
          ],
          "histogram": [
           {
            "marker": {
             "pattern": {
              "fillmode": "overlay",
              "size": 10,
              "solidity": 0.2
             }
            },
            "type": "histogram"
           }
          ],
          "histogram2d": [
           {
            "colorbar": {
             "outlinewidth": 0,
             "ticks": ""
            },
            "colorscale": [
             [
              0,
              "#0d0887"
             ],
             [
              0.1111111111111111,
              "#46039f"
             ],
             [
              0.2222222222222222,
              "#7201a8"
             ],
             [
              0.3333333333333333,
              "#9c179e"
             ],
             [
              0.4444444444444444,
              "#bd3786"
             ],
             [
              0.5555555555555556,
              "#d8576b"
             ],
             [
              0.6666666666666666,
              "#ed7953"
             ],
             [
              0.7777777777777778,
              "#fb9f3a"
             ],
             [
              0.8888888888888888,
              "#fdca26"
             ],
             [
              1,
              "#f0f921"
             ]
            ],
            "type": "histogram2d"
           }
          ],
          "histogram2dcontour": [
           {
            "colorbar": {
             "outlinewidth": 0,
             "ticks": ""
            },
            "colorscale": [
             [
              0,
              "#0d0887"
             ],
             [
              0.1111111111111111,
              "#46039f"
             ],
             [
              0.2222222222222222,
              "#7201a8"
             ],
             [
              0.3333333333333333,
              "#9c179e"
             ],
             [
              0.4444444444444444,
              "#bd3786"
             ],
             [
              0.5555555555555556,
              "#d8576b"
             ],
             [
              0.6666666666666666,
              "#ed7953"
             ],
             [
              0.7777777777777778,
              "#fb9f3a"
             ],
             [
              0.8888888888888888,
              "#fdca26"
             ],
             [
              1,
              "#f0f921"
             ]
            ],
            "type": "histogram2dcontour"
           }
          ],
          "mesh3d": [
           {
            "colorbar": {
             "outlinewidth": 0,
             "ticks": ""
            },
            "type": "mesh3d"
           }
          ],
          "parcoords": [
           {
            "line": {
             "colorbar": {
              "outlinewidth": 0,
              "ticks": ""
             }
            },
            "type": "parcoords"
           }
          ],
          "pie": [
           {
            "automargin": true,
            "type": "pie"
           }
          ],
          "scatter": [
           {
            "fillpattern": {
             "fillmode": "overlay",
             "size": 10,
             "solidity": 0.2
            },
            "type": "scatter"
           }
          ],
          "scatter3d": [
           {
            "line": {
             "colorbar": {
              "outlinewidth": 0,
              "ticks": ""
             }
            },
            "marker": {
             "colorbar": {
              "outlinewidth": 0,
              "ticks": ""
             }
            },
            "type": "scatter3d"
           }
          ],
          "scattercarpet": [
           {
            "marker": {
             "colorbar": {
              "outlinewidth": 0,
              "ticks": ""
             }
            },
            "type": "scattercarpet"
           }
          ],
          "scattergeo": [
           {
            "marker": {
             "colorbar": {
              "outlinewidth": 0,
              "ticks": ""
             }
            },
            "type": "scattergeo"
           }
          ],
          "scattergl": [
           {
            "marker": {
             "colorbar": {
              "outlinewidth": 0,
              "ticks": ""
             }
            },
            "type": "scattergl"
           }
          ],
          "scattermapbox": [
           {
            "marker": {
             "colorbar": {
              "outlinewidth": 0,
              "ticks": ""
             }
            },
            "type": "scattermapbox"
           }
          ],
          "scatterpolar": [
           {
            "marker": {
             "colorbar": {
              "outlinewidth": 0,
              "ticks": ""
             }
            },
            "type": "scatterpolar"
           }
          ],
          "scatterpolargl": [
           {
            "marker": {
             "colorbar": {
              "outlinewidth": 0,
              "ticks": ""
             }
            },
            "type": "scatterpolargl"
           }
          ],
          "scatterternary": [
           {
            "marker": {
             "colorbar": {
              "outlinewidth": 0,
              "ticks": ""
             }
            },
            "type": "scatterternary"
           }
          ],
          "surface": [
           {
            "colorbar": {
             "outlinewidth": 0,
             "ticks": ""
            },
            "colorscale": [
             [
              0,
              "#0d0887"
             ],
             [
              0.1111111111111111,
              "#46039f"
             ],
             [
              0.2222222222222222,
              "#7201a8"
             ],
             [
              0.3333333333333333,
              "#9c179e"
             ],
             [
              0.4444444444444444,
              "#bd3786"
             ],
             [
              0.5555555555555556,
              "#d8576b"
             ],
             [
              0.6666666666666666,
              "#ed7953"
             ],
             [
              0.7777777777777778,
              "#fb9f3a"
             ],
             [
              0.8888888888888888,
              "#fdca26"
             ],
             [
              1,
              "#f0f921"
             ]
            ],
            "type": "surface"
           }
          ],
          "table": [
           {
            "cells": {
             "fill": {
              "color": "#EBF0F8"
             },
             "line": {
              "color": "white"
             }
            },
            "header": {
             "fill": {
              "color": "#C8D4E3"
             },
             "line": {
              "color": "white"
             }
            },
            "type": "table"
           }
          ]
         },
         "layout": {
          "annotationdefaults": {
           "arrowcolor": "#2a3f5f",
           "arrowhead": 0,
           "arrowwidth": 1
          },
          "autotypenumbers": "strict",
          "coloraxis": {
           "colorbar": {
            "outlinewidth": 0,
            "ticks": ""
           }
          },
          "colorscale": {
           "diverging": [
            [
             0,
             "#8e0152"
            ],
            [
             0.1,
             "#c51b7d"
            ],
            [
             0.2,
             "#de77ae"
            ],
            [
             0.3,
             "#f1b6da"
            ],
            [
             0.4,
             "#fde0ef"
            ],
            [
             0.5,
             "#f7f7f7"
            ],
            [
             0.6,
             "#e6f5d0"
            ],
            [
             0.7,
             "#b8e186"
            ],
            [
             0.8,
             "#7fbc41"
            ],
            [
             0.9,
             "#4d9221"
            ],
            [
             1,
             "#276419"
            ]
           ],
           "sequential": [
            [
             0,
             "#0d0887"
            ],
            [
             0.1111111111111111,
             "#46039f"
            ],
            [
             0.2222222222222222,
             "#7201a8"
            ],
            [
             0.3333333333333333,
             "#9c179e"
            ],
            [
             0.4444444444444444,
             "#bd3786"
            ],
            [
             0.5555555555555556,
             "#d8576b"
            ],
            [
             0.6666666666666666,
             "#ed7953"
            ],
            [
             0.7777777777777778,
             "#fb9f3a"
            ],
            [
             0.8888888888888888,
             "#fdca26"
            ],
            [
             1,
             "#f0f921"
            ]
           ],
           "sequentialminus": [
            [
             0,
             "#0d0887"
            ],
            [
             0.1111111111111111,
             "#46039f"
            ],
            [
             0.2222222222222222,
             "#7201a8"
            ],
            [
             0.3333333333333333,
             "#9c179e"
            ],
            [
             0.4444444444444444,
             "#bd3786"
            ],
            [
             0.5555555555555556,
             "#d8576b"
            ],
            [
             0.6666666666666666,
             "#ed7953"
            ],
            [
             0.7777777777777778,
             "#fb9f3a"
            ],
            [
             0.8888888888888888,
             "#fdca26"
            ],
            [
             1,
             "#f0f921"
            ]
           ]
          },
          "colorway": [
           "#636efa",
           "#EF553B",
           "#00cc96",
           "#ab63fa",
           "#FFA15A",
           "#19d3f3",
           "#FF6692",
           "#B6E880",
           "#FF97FF",
           "#FECB52"
          ],
          "font": {
           "color": "#2a3f5f"
          },
          "geo": {
           "bgcolor": "white",
           "lakecolor": "white",
           "landcolor": "white",
           "showlakes": true,
           "showland": true,
           "subunitcolor": "#C8D4E3"
          },
          "hoverlabel": {
           "align": "left"
          },
          "hovermode": "closest",
          "mapbox": {
           "style": "light"
          },
          "paper_bgcolor": "white",
          "plot_bgcolor": "white",
          "polar": {
           "angularaxis": {
            "gridcolor": "#EBF0F8",
            "linecolor": "#EBF0F8",
            "ticks": ""
           },
           "bgcolor": "white",
           "radialaxis": {
            "gridcolor": "#EBF0F8",
            "linecolor": "#EBF0F8",
            "ticks": ""
           }
          },
          "scene": {
           "xaxis": {
            "backgroundcolor": "white",
            "gridcolor": "#DFE8F3",
            "gridwidth": 2,
            "linecolor": "#EBF0F8",
            "showbackground": true,
            "ticks": "",
            "zerolinecolor": "#EBF0F8"
           },
           "yaxis": {
            "backgroundcolor": "white",
            "gridcolor": "#DFE8F3",
            "gridwidth": 2,
            "linecolor": "#EBF0F8",
            "showbackground": true,
            "ticks": "",
            "zerolinecolor": "#EBF0F8"
           },
           "zaxis": {
            "backgroundcolor": "white",
            "gridcolor": "#DFE8F3",
            "gridwidth": 2,
            "linecolor": "#EBF0F8",
            "showbackground": true,
            "ticks": "",
            "zerolinecolor": "#EBF0F8"
           }
          },
          "shapedefaults": {
           "line": {
            "color": "#2a3f5f"
           }
          },
          "ternary": {
           "aaxis": {
            "gridcolor": "#DFE8F3",
            "linecolor": "#A2B1C6",
            "ticks": ""
           },
           "baxis": {
            "gridcolor": "#DFE8F3",
            "linecolor": "#A2B1C6",
            "ticks": ""
           },
           "bgcolor": "white",
           "caxis": {
            "gridcolor": "#DFE8F3",
            "linecolor": "#A2B1C6",
            "ticks": ""
           }
          },
          "title": {
           "x": 0.05
          },
          "xaxis": {
           "automargin": true,
           "gridcolor": "#EBF0F8",
           "linecolor": "#EBF0F8",
           "ticks": "",
           "title": {
            "standoff": 15
           },
           "zerolinecolor": "#EBF0F8",
           "zerolinewidth": 2
          },
          "yaxis": {
           "automargin": true,
           "gridcolor": "#EBF0F8",
           "linecolor": "#EBF0F8",
           "ticks": "",
           "title": {
            "standoff": 15
           },
           "zerolinecolor": "#EBF0F8",
           "zerolinewidth": 2
          }
         }
        },
        "title": {
         "font": {
          "color": "Black",
          "size": 22
         },
         "text": "Topic Word Scores",
         "x": 0.5,
         "xanchor": "center",
         "yanchor": "top"
        },
        "width": 1000,
        "xaxis": {
         "anchor": "y",
         "domain": [
          0,
          0.175
         ],
         "showgrid": true
        },
        "xaxis2": {
         "anchor": "y2",
         "domain": [
          0.275,
          0.45
         ],
         "showgrid": true
        },
        "xaxis3": {
         "anchor": "y3",
         "domain": [
          0.55,
          0.7250000000000001
         ],
         "showgrid": true
        },
        "xaxis4": {
         "anchor": "y4",
         "domain": [
          0.825,
          1
         ],
         "showgrid": true
        },
        "xaxis5": {
         "anchor": "y5",
         "domain": [
          0,
          0.175
         ],
         "showgrid": true
        },
        "xaxis6": {
         "anchor": "y6",
         "domain": [
          0.275,
          0.45
         ],
         "showgrid": true
        },
        "xaxis7": {
         "anchor": "y7",
         "domain": [
          0.55,
          0.7250000000000001
         ],
         "showgrid": true
        },
        "xaxis8": {
         "anchor": "y8",
         "domain": [
          0.825,
          1
         ],
         "showgrid": true
        },
        "yaxis": {
         "anchor": "x",
         "domain": [
          0.6000000000000001,
          1
         ],
         "showgrid": true
        },
        "yaxis2": {
         "anchor": "x2",
         "domain": [
          0.6000000000000001,
          1
         ],
         "showgrid": true
        },
        "yaxis3": {
         "anchor": "x3",
         "domain": [
          0.6000000000000001,
          1
         ],
         "showgrid": true
        },
        "yaxis4": {
         "anchor": "x4",
         "domain": [
          0.6000000000000001,
          1
         ],
         "showgrid": true
        },
        "yaxis5": {
         "anchor": "x5",
         "domain": [
          0,
          0.4
         ],
         "showgrid": true
        },
        "yaxis6": {
         "anchor": "x6",
         "domain": [
          0,
          0.4
         ],
         "showgrid": true
        },
        "yaxis7": {
         "anchor": "x7",
         "domain": [
          0,
          0.4
         ],
         "showgrid": true
        },
        "yaxis8": {
         "anchor": "x8",
         "domain": [
          0,
          0.4
         ],
         "showgrid": true
        }
       }
      }
     },
     "metadata": {},
     "output_type": "display_data"
    }
   ],
   "source": [
    "topic_model_m.visualize_barchart()#top_n_topics=16)"
   ]
  },
  {
   "cell_type": "code",
   "execution_count": null,
   "metadata": {},
   "outputs": [],
   "source": [
    "# classes2_m= df2_m['d138']\n",
    "# classes2_f= df2_f['d138']"
   ]
  },
  {
   "cell_type": "code",
   "execution_count": 47,
   "metadata": {},
   "outputs": [],
   "source": [
    "import pandas as pd\n",
    "from bertopic import BERTopic\n",
    "\n",
    "\n",
    "# Get the number of topics in the model\n",
    "num_topics = topic_model_m.get_topic_info().shape[0] - 1 \n",
    "\n",
    "# Create an empty list to store all topic data\n",
    "all_topic_data = []\n",
    "\n",
    "# Analyze all topics\n",
    "for topic_num in range(num_topics):\n",
    "\n",
    "    # Get the topic representation for the current topic\n",
    "    topic_words = topic_model_m.get_topic(topic_num)\n",
    "\n",
    "    # Convert the topic representation to a DataFrame\n",
    "    topic_words_df = pd.DataFrame(topic_words, columns=['Word', 'c-TF-IDF'])\n",
    "\n",
    "    # Add a 'Topic' column to identify the topic number\n",
    "    topic_words_df['Topic'] = topic_num\n",
    "\n",
    "    # Append the DataFrame to the list\n",
    "    all_topic_data.append(topic_words_df)\n",
    "\n",
    "# Concatenate all DataFrames into a single DataFrame\n",
    "all_topics_df_m = pd.concat(all_topic_data, ignore_index=True)\n",
    "\n",
    "# Export to CSV\n",
    "all_topics_df_m.to_csv('./all_topics_output_m_Aug29.csv', index=False)\n",
    "\n",
    "# print(\"All topics data exported to all_topics_output.csv\")"
   ]
  },
  {
   "cell_type": "code",
   "execution_count": 48,
   "metadata": {},
   "outputs": [],
   "source": [
    "import pandas as pd\n",
    "from bertopic import BERTopic\n",
    "\n",
    "\n",
    "# Get the number of topics in the model\n",
    "num_topics = topic_model_f.get_topic_info().shape[0] - 1 \n",
    "\n",
    "# Create an empty list to store all topic data\n",
    "all_topic_data = []\n",
    "\n",
    "# Analyze all topics\n",
    "for topic_num in range(num_topics):\n",
    "\n",
    "    # Get the topic representation for the current topic\n",
    "    topic_words = topic_model_f.get_topic(topic_num)\n",
    "\n",
    "    # Convert the topic representation to a DataFrame\n",
    "    topic_words_df = pd.DataFrame(topic_words, columns=['Word', 'c-TF-IDF'])\n",
    "\n",
    "    # Add a 'Topic' column to identify the topic number\n",
    "    topic_words_df['Topic'] = topic_num\n",
    "\n",
    "    # Append the DataFrame to the list\n",
    "    all_topic_data.append(topic_words_df)\n",
    "\n",
    "# Concatenate all DataFrames into a single DataFrame\n",
    "all_topics_df_f = pd.concat(all_topic_data, ignore_index=True)\n",
    "\n",
    "# Export to CSV\n",
    "all_topics_df_f.to_csv('./all_topics_output_m_Aug29.csv', index=False)"
   ]
  },
  {
   "cell_type": "code",
   "execution_count": 50,
   "metadata": {},
   "outputs": [
    {
     "data": {
      "text/html": [
       "<div>\n",
       "<style scoped>\n",
       "    .dataframe tbody tr th:only-of-type {\n",
       "        vertical-align: middle;\n",
       "    }\n",
       "\n",
       "    .dataframe tbody tr th {\n",
       "        vertical-align: top;\n",
       "    }\n",
       "\n",
       "    .dataframe thead th {\n",
       "        text-align: right;\n",
       "    }\n",
       "</style>\n",
       "<table border=\"1\" class=\"dataframe\">\n",
       "  <thead>\n",
       "    <tr style=\"text-align: right;\">\n",
       "      <th></th>\n",
       "      <th>Word</th>\n",
       "      <th>c-TF-IDF</th>\n",
       "      <th>Topic</th>\n",
       "    </tr>\n",
       "  </thead>\n",
       "  <tbody>\n",
       "    <tr>\n",
       "      <th>0</th>\n",
       "      <td>195</td>\n",
       "      <td>0.069761</td>\n",
       "      <td>0</td>\n",
       "    </tr>\n",
       "    <tr>\n",
       "      <th>1</th>\n",
       "      <td>197</td>\n",
       "      <td>0.019832</td>\n",
       "      <td>0</td>\n",
       "    </tr>\n",
       "    <tr>\n",
       "      <th>2</th>\n",
       "      <td>229</td>\n",
       "      <td>0.008072</td>\n",
       "      <td>0</td>\n",
       "    </tr>\n",
       "    <tr>\n",
       "      <th>3</th>\n",
       "      <td>239</td>\n",
       "      <td>0.006522</td>\n",
       "      <td>0</td>\n",
       "    </tr>\n",
       "    <tr>\n",
       "      <th>4</th>\n",
       "      <td>225</td>\n",
       "      <td>0.005092</td>\n",
       "      <td>0</td>\n",
       "    </tr>\n",
       "    <tr>\n",
       "      <th>...</th>\n",
       "      <td>...</td>\n",
       "      <td>...</td>\n",
       "      <td>...</td>\n",
       "    </tr>\n",
       "    <tr>\n",
       "      <th>1395</th>\n",
       "      <td>199</td>\n",
       "      <td>0.005555</td>\n",
       "      <td>69</td>\n",
       "    </tr>\n",
       "    <tr>\n",
       "      <th>1396</th>\n",
       "      <td>231</td>\n",
       "      <td>0.005518</td>\n",
       "      <td>69</td>\n",
       "    </tr>\n",
       "    <tr>\n",
       "      <th>1397</th>\n",
       "      <td>145</td>\n",
       "      <td>0.005370</td>\n",
       "      <td>69</td>\n",
       "    </tr>\n",
       "    <tr>\n",
       "      <th>1398</th>\n",
       "      <td>235</td>\n",
       "      <td>0.005129</td>\n",
       "      <td>69</td>\n",
       "    </tr>\n",
       "    <tr>\n",
       "      <th>1399</th>\n",
       "      <td>219</td>\n",
       "      <td>0.004720</td>\n",
       "      <td>69</td>\n",
       "    </tr>\n",
       "  </tbody>\n",
       "</table>\n",
       "<p>1400 rows × 3 columns</p>\n",
       "</div>"
      ],
      "text/plain": [
       "     Word  c-TF-IDF  Topic\n",
       "0     195  0.069761      0\n",
       "1     197  0.019832      0\n",
       "2     229  0.008072      0\n",
       "3     239  0.006522      0\n",
       "4     225  0.005092      0\n",
       "...   ...       ...    ...\n",
       "1395  199  0.005555     69\n",
       "1396  231  0.005518     69\n",
       "1397  145  0.005370     69\n",
       "1398  235  0.005129     69\n",
       "1399  219  0.004720     69\n",
       "\n",
       "[1400 rows x 3 columns]"
      ]
     },
     "execution_count": 50,
     "metadata": {},
     "output_type": "execute_result"
    }
   ],
   "source": [
    "all_topics_df_m"
   ]
  },
  {
   "cell_type": "code",
   "execution_count": 49,
   "metadata": {},
   "outputs": [
    {
     "data": {
      "text/html": [
       "<div>\n",
       "<style scoped>\n",
       "    .dataframe tbody tr th:only-of-type {\n",
       "        vertical-align: middle;\n",
       "    }\n",
       "\n",
       "    .dataframe tbody tr th {\n",
       "        vertical-align: top;\n",
       "    }\n",
       "\n",
       "    .dataframe thead th {\n",
       "        text-align: right;\n",
       "    }\n",
       "</style>\n",
       "<table border=\"1\" class=\"dataframe\">\n",
       "  <thead>\n",
       "    <tr style=\"text-align: right;\">\n",
       "      <th></th>\n",
       "      <th>Word</th>\n",
       "      <th>c-TF-IDF</th>\n",
       "      <th>Topic</th>\n",
       "    </tr>\n",
       "  </thead>\n",
       "  <tbody>\n",
       "    <tr>\n",
       "      <th>0</th>\n",
       "      <td>218</td>\n",
       "      <td>0.045629</td>\n",
       "      <td>0</td>\n",
       "    </tr>\n",
       "    <tr>\n",
       "      <th>1</th>\n",
       "      <td>219</td>\n",
       "      <td>0.044528</td>\n",
       "      <td>0</td>\n",
       "    </tr>\n",
       "    <tr>\n",
       "      <th>2</th>\n",
       "      <td>239</td>\n",
       "      <td>0.010866</td>\n",
       "      <td>0</td>\n",
       "    </tr>\n",
       "    <tr>\n",
       "      <th>3</th>\n",
       "      <td>221</td>\n",
       "      <td>0.010649</td>\n",
       "      <td>0</td>\n",
       "    </tr>\n",
       "    <tr>\n",
       "      <th>4</th>\n",
       "      <td>220</td>\n",
       "      <td>0.009945</td>\n",
       "      <td>0</td>\n",
       "    </tr>\n",
       "    <tr>\n",
       "      <th>...</th>\n",
       "      <td>...</td>\n",
       "      <td>...</td>\n",
       "      <td>...</td>\n",
       "    </tr>\n",
       "    <tr>\n",
       "      <th>1475</th>\n",
       "      <td>205</td>\n",
       "      <td>0.006148</td>\n",
       "      <td>73</td>\n",
       "    </tr>\n",
       "    <tr>\n",
       "      <th>1476</th>\n",
       "      <td>221</td>\n",
       "      <td>0.006098</td>\n",
       "      <td>73</td>\n",
       "    </tr>\n",
       "    <tr>\n",
       "      <th>1477</th>\n",
       "      <td>169</td>\n",
       "      <td>0.005953</td>\n",
       "      <td>73</td>\n",
       "    </tr>\n",
       "    <tr>\n",
       "      <th>1478</th>\n",
       "      <td>228</td>\n",
       "      <td>0.005145</td>\n",
       "      <td>73</td>\n",
       "    </tr>\n",
       "    <tr>\n",
       "      <th>1479</th>\n",
       "      <td>145</td>\n",
       "      <td>0.004899</td>\n",
       "      <td>73</td>\n",
       "    </tr>\n",
       "  </tbody>\n",
       "</table>\n",
       "<p>1480 rows × 3 columns</p>\n",
       "</div>"
      ],
      "text/plain": [
       "     Word  c-TF-IDF  Topic\n",
       "0     218  0.045629      0\n",
       "1     219  0.044528      0\n",
       "2     239  0.010866      0\n",
       "3     221  0.010649      0\n",
       "4     220  0.009945      0\n",
       "...   ...       ...    ...\n",
       "1475  205  0.006148     73\n",
       "1476  221  0.006098     73\n",
       "1477  169  0.005953     73\n",
       "1478  228  0.005145     73\n",
       "1479  145  0.004899     73\n",
       "\n",
       "[1480 rows x 3 columns]"
      ]
     },
     "execution_count": 49,
     "metadata": {},
     "output_type": "execute_result"
    }
   ],
   "source": [
    "all_topics_df_f"
   ]
  },
  {
   "cell_type": "code",
   "execution_count": 51,
   "metadata": {},
   "outputs": [
    {
     "data": {
      "text/plain": [
       "0    71\n",
       "1    69\n",
       "Name: Class, dtype: int64"
      ]
     },
     "execution_count": 51,
     "metadata": {},
     "output_type": "execute_result"
    }
   ],
   "source": [
    "topics_per_class2_m.Class.value_counts()"
   ]
  },
  {
   "cell_type": "code",
   "execution_count": 52,
   "metadata": {},
   "outputs": [
    {
     "data": {
      "text/html": [
       "<div>\n",
       "<style scoped>\n",
       "    .dataframe tbody tr th:only-of-type {\n",
       "        vertical-align: middle;\n",
       "    }\n",
       "\n",
       "    .dataframe tbody tr th {\n",
       "        vertical-align: top;\n",
       "    }\n",
       "\n",
       "    .dataframe thead th {\n",
       "        text-align: right;\n",
       "    }\n",
       "</style>\n",
       "<table border=\"1\" class=\"dataframe\">\n",
       "  <thead>\n",
       "    <tr style=\"text-align: right;\">\n",
       "      <th></th>\n",
       "      <th>Topic</th>\n",
       "      <th>Words</th>\n",
       "      <th>Frequency</th>\n",
       "      <th>Class</th>\n",
       "    </tr>\n",
       "  </thead>\n",
       "  <tbody>\n",
       "    <tr>\n",
       "      <th>0</th>\n",
       "      <td>-1</td>\n",
       "      <td>142, 229, 236, 134, 239</td>\n",
       "      <td>21632</td>\n",
       "      <td>0</td>\n",
       "    </tr>\n",
       "    <tr>\n",
       "      <th>1</th>\n",
       "      <td>0</td>\n",
       "      <td>195, 197, 229, 239, 225</td>\n",
       "      <td>9437</td>\n",
       "      <td>0</td>\n",
       "    </tr>\n",
       "    <tr>\n",
       "      <th>2</th>\n",
       "      <td>1</td>\n",
       "      <td>151, 152, 162, 220, 221</td>\n",
       "      <td>3963</td>\n",
       "      <td>0</td>\n",
       "    </tr>\n",
       "    <tr>\n",
       "      <th>3</th>\n",
       "      <td>2</td>\n",
       "      <td>220, 232, 152, 162, 151</td>\n",
       "      <td>3229</td>\n",
       "      <td>0</td>\n",
       "    </tr>\n",
       "    <tr>\n",
       "      <th>4</th>\n",
       "      <td>3</td>\n",
       "      <td>147, 145, 239, 202, 220</td>\n",
       "      <td>2646</td>\n",
       "      <td>0</td>\n",
       "    </tr>\n",
       "  </tbody>\n",
       "</table>\n",
       "</div>"
      ],
      "text/plain": [
       "   Topic                    Words  Frequency  Class\n",
       "0     -1  142, 229, 236, 134, 239      21632      0\n",
       "1      0  195, 197, 229, 239, 225       9437      0\n",
       "2      1  151, 152, 162, 220, 221       3963      0\n",
       "3      2  220, 232, 152, 162, 151       3229      0\n",
       "4      3  147, 145, 239, 202, 220       2646      0"
      ]
     },
     "execution_count": 52,
     "metadata": {},
     "output_type": "execute_result"
    }
   ],
   "source": [
    "topics_per_class2_m.head()"
   ]
  },
  {
   "cell_type": "code",
   "execution_count": null,
   "metadata": {},
   "outputs": [],
   "source": [
    "### Disease codem maping######"
   ]
  },
  {
   "cell_type": "code",
   "execution_count": null,
   "metadata": {},
   "outputs": [],
   "source": [
    "\n",
    "# # 100% all \n",
    "# with open('./D138_100pall_5y_onset_data_BFC2_dec08.pkl', 'wb') as f:\n",
    "#     pickle.dump(data_BFC, f)"
   ]
  },
  {
   "cell_type": "code",
   "execution_count": 53,
   "metadata": {},
   "outputs": [],
   "source": [
    "# Import the necessary libraries\n",
    "import pandas as pd\n",
    "# Reload the datasets\n",
    "#optino1\n",
    "# data_all = pd.read_csv(\"../topics_per_class2_50pall_5y_onset1_2_oct27_F.csv\") # /home/skbae/Documents/skbae/Cancer_Conquest/BEHRT/BEHRT/BEHRT/disease_codes.xlsx /home/skbae/Documents/skbae/Cancer_Conquest/BEHRT/BEHRT/BEHRT/topics_per_class2_50pall_5y_onset1_2_oct27_F.csv\n",
    "\n",
    "#option2 :6Y\n",
    "# data_all = pd.read_csv('./topics_per_d138_100pall_5y_onset1_2_op2_nov07.csv') #\n",
    "# data_all = pd.read_csv('./topics_per_d138_100pall_5y_onset1_2_op1_dec20_by138.csv') #\n",
    "# data_sample = pd.read_csv(\"/mnt/data/d138_50p_2t_sample_bertopic.csv\")\n",
    "disease_codes = pd.read_excel(\"../disease_codes.xlsx\")"
   ]
  },
  {
   "cell_type": "code",
   "execution_count": 54,
   "metadata": {},
   "outputs": [
    {
     "data": {
      "text/html": [
       "<div>\n",
       "<style scoped>\n",
       "    .dataframe tbody tr th:only-of-type {\n",
       "        vertical-align: middle;\n",
       "    }\n",
       "\n",
       "    .dataframe tbody tr th {\n",
       "        vertical-align: top;\n",
       "    }\n",
       "\n",
       "    .dataframe thead th {\n",
       "        text-align: right;\n",
       "    }\n",
       "</style>\n",
       "<table border=\"1\" class=\"dataframe\">\n",
       "  <thead>\n",
       "    <tr style=\"text-align: right;\">\n",
       "      <th></th>\n",
       "      <th>Words</th>\n",
       "      <th>dname</th>\n",
       "      <th>wash_out</th>\n",
       "      <th>dname.1</th>\n",
       "      <th>Unnamed: 4</th>\n",
       "      <th>Unnamed: 5</th>\n",
       "    </tr>\n",
       "  </thead>\n",
       "  <tbody>\n",
       "    <tr>\n",
       "      <th>0</th>\n",
       "      <td>101</td>\n",
       "      <td>Esophageal cancer</td>\n",
       "      <td>5</td>\n",
       "      <td>식도암</td>\n",
       "      <td>NaN</td>\n",
       "      <td>NaN</td>\n",
       "    </tr>\n",
       "    <tr>\n",
       "      <th>1</th>\n",
       "      <td>102</td>\n",
       "      <td>Stomach cancer</td>\n",
       "      <td>5</td>\n",
       "      <td>위암</td>\n",
       "      <td>87.0</td>\n",
       "      <td>NaN</td>\n",
       "    </tr>\n",
       "    <tr>\n",
       "      <th>2</th>\n",
       "      <td>103</td>\n",
       "      <td>Liver cancer</td>\n",
       "      <td>5</td>\n",
       "      <td>간 암</td>\n",
       "      <td>NaN</td>\n",
       "      <td>NaN</td>\n",
       "    </tr>\n",
       "    <tr>\n",
       "      <th>3</th>\n",
       "      <td>104</td>\n",
       "      <td>Larynx cancer</td>\n",
       "      <td>5</td>\n",
       "      <td>후두암</td>\n",
       "      <td>NaN</td>\n",
       "      <td>NaN</td>\n",
       "    </tr>\n",
       "    <tr>\n",
       "      <th>4</th>\n",
       "      <td>105</td>\n",
       "      <td>Trachea, bronchus and lung cancers</td>\n",
       "      <td>5</td>\n",
       "      <td>기관, 기관지 및 폐암</td>\n",
       "      <td>NaN</td>\n",
       "      <td>NaN</td>\n",
       "    </tr>\n",
       "    <tr>\n",
       "      <th>...</th>\n",
       "      <td>...</td>\n",
       "      <td>...</td>\n",
       "      <td>...</td>\n",
       "      <td>...</td>\n",
       "      <td>...</td>\n",
       "      <td>...</td>\n",
       "    </tr>\n",
       "    <tr>\n",
       "      <th>121</th>\n",
       "      <td>239</td>\n",
       "      <td>Cataracts</td>\n",
       "      <td>5</td>\n",
       "      <td>백내장</td>\n",
       "      <td>NaN</td>\n",
       "      <td>NaN</td>\n",
       "    </tr>\n",
       "    <tr>\n",
       "      <th>122</th>\n",
       "      <td>240</td>\n",
       "      <td>Macular degeneration</td>\n",
       "      <td>5</td>\n",
       "      <td>황반 변성</td>\n",
       "      <td>NaN</td>\n",
       "      <td>NaN</td>\n",
       "    </tr>\n",
       "    <tr>\n",
       "      <th>123</th>\n",
       "      <td>241</td>\n",
       "      <td>Refraction and accommodation disorders</td>\n",
       "      <td>5</td>\n",
       "      <td>굴절 및 조절 장애</td>\n",
       "      <td>NaN</td>\n",
       "      <td>NaN</td>\n",
       "    </tr>\n",
       "    <tr>\n",
       "      <th>124</th>\n",
       "      <td>245</td>\n",
       "      <td>Dental caries</td>\n",
       "      <td>5</td>\n",
       "      <td>충치</td>\n",
       "      <td>NaN</td>\n",
       "      <td>NaN</td>\n",
       "    </tr>\n",
       "    <tr>\n",
       "      <th>125</th>\n",
       "      <td>246</td>\n",
       "      <td>Periodontal disease</td>\n",
       "      <td>5</td>\n",
       "      <td>치주 질환</td>\n",
       "      <td>NaN</td>\n",
       "      <td>NaN</td>\n",
       "    </tr>\n",
       "  </tbody>\n",
       "</table>\n",
       "<p>126 rows × 6 columns</p>\n",
       "</div>"
      ],
      "text/plain": [
       "     Words                                   dname  wash_out       dname.1  \\\n",
       "0      101                       Esophageal cancer         5           식도암   \n",
       "1      102                          Stomach cancer         5            위암   \n",
       "2      103                            Liver cancer         5           간 암   \n",
       "3      104                           Larynx cancer         5           후두암   \n",
       "4      105      Trachea, bronchus and lung cancers         5  기관, 기관지 및 폐암   \n",
       "..     ...                                     ...       ...           ...   \n",
       "121    239                               Cataracts         5           백내장   \n",
       "122    240                    Macular degeneration         5         황반 변성   \n",
       "123    241  Refraction and accommodation disorders         5    굴절 및 조절 장애   \n",
       "124    245                           Dental caries         5            충치   \n",
       "125    246                     Periodontal disease         5         치주 질환   \n",
       "\n",
       "     Unnamed: 4  Unnamed: 5  \n",
       "0           NaN         NaN  \n",
       "1          87.0         NaN  \n",
       "2           NaN         NaN  \n",
       "3           NaN         NaN  \n",
       "4           NaN         NaN  \n",
       "..          ...         ...  \n",
       "121         NaN         NaN  \n",
       "122         NaN         NaN  \n",
       "123         NaN         NaN  \n",
       "124         NaN         NaN  \n",
       "125         NaN         NaN  \n",
       "\n",
       "[126 rows x 6 columns]"
      ]
     },
     "execution_count": 54,
     "metadata": {},
     "output_type": "execute_result"
    }
   ],
   "source": [
    "disease_codes"
   ]
  },
  {
   "cell_type": "code",
   "execution_count": null,
   "metadata": {},
   "outputs": [
    {
     "data": {
      "text/plain": [
       "Index(['index', 'ID', 'first_starting_year', 'end_year',\n",
       "       'specific_disease_year', 'specific_disease_year2', 'disease_sequenceF',\n",
       "       'length', 'd138', 'response_disease', 'age2_sequence', 'age2_sequenceF',\n",
       "       'age_B', 'seq_starting_year', 'duration', 'year', 'SEX', 'AGE',\n",
       "       'GAIBJA', 'AgeGroup'],\n",
       "      dtype='object')"
      ]
     },
     "execution_count": 28,
     "metadata": {},
     "output_type": "execute_result"
    }
   ],
   "source": [
    "data_BFC.columns"
   ]
  },
  {
   "cell_type": "code",
   "execution_count": null,
   "metadata": {},
   "outputs": [
    {
     "data": {
      "text/plain": [
       "0    140\n",
       "1    138\n",
       "Name: Class, dtype: int64"
      ]
     },
     "execution_count": 72,
     "metadata": {},
     "output_type": "execute_result"
    }
   ],
   "source": [
    "data_all.Class.value_counts()"
   ]
  },
  {
   "cell_type": "code",
   "execution_count": 57,
   "metadata": {},
   "outputs": [
    {
     "data": {
      "text/plain": [
       "0    71\n",
       "1    69\n",
       "Name: Class, dtype: int64"
      ]
     },
     "execution_count": 57,
     "metadata": {},
     "output_type": "execute_result"
    }
   ],
   "source": [
    "#male : Aug05\n",
    "data_all_m=topics_per_class2_m\n",
    "data_all_m.Class.value_counts()"
   ]
  },
  {
   "cell_type": "code",
   "execution_count": 58,
   "metadata": {},
   "outputs": [
    {
     "data": {
      "text/plain": [
       "0    75\n",
       "1    71\n",
       "Name: Class, dtype: int64"
      ]
     },
     "execution_count": 58,
     "metadata": {},
     "output_type": "execute_result"
    }
   ],
   "source": [
    "# female : AUg05\n",
    "data_all_f=topics_per_class2_f\n",
    "data_all_f.Class.value_counts()"
   ]
  },
  {
   "cell_type": "code",
   "execution_count": 59,
   "metadata": {},
   "outputs": [],
   "source": [
    "# Create a mapping from 'ords' to 'dname'\n",
    "disease_mapping = disease_codes.set_index('Words')['dname'].to_dict()\n",
    "\n",
    "# Define a function to map codes to disease names\n",
    "def map_codes_to_diseases(codes):\n",
    "    # Split the codes into a list\n",
    "    codes = codes.split(\", \")\n",
    "    # Map each code to its disease name\n",
    "    diseases = [disease_mapping.get(int(code), \"Unknown\") for code in codes]\n",
    "    # Join the disease names back into a string\n",
    "    return \", \".join(diseases)\n",
    "\n",
    "# Apply the function to the 'Words' column\n",
    "# topics_per_gender['Disease Names'] = topics_per_gender['Words'].apply(map_codes_to_diseases)"
   ]
  },
  {
   "cell_type": "code",
   "execution_count": 62,
   "metadata": {},
   "outputs": [],
   "source": [
    "#male\n",
    "\n",
    "# Mapping disease codes for the sample dataset\n",
    "data_all_m['Disease Names'] = data_all_m['Words'].apply(map_codes_to_diseases)\n"
   ]
  },
  {
   "cell_type": "code",
   "execution_count": 70,
   "metadata": {},
   "outputs": [
    {
     "data": {
      "text/html": [
       "<div>\n",
       "<style scoped>\n",
       "    .dataframe tbody tr th:only-of-type {\n",
       "        vertical-align: middle;\n",
       "    }\n",
       "\n",
       "    .dataframe tbody tr th {\n",
       "        vertical-align: top;\n",
       "    }\n",
       "\n",
       "    .dataframe thead th {\n",
       "        text-align: right;\n",
       "    }\n",
       "</style>\n",
       "<table border=\"1\" class=\"dataframe\">\n",
       "  <thead>\n",
       "    <tr style=\"text-align: right;\">\n",
       "      <th></th>\n",
       "      <th>Words</th>\n",
       "      <th>dname</th>\n",
       "      <th>wash_out</th>\n",
       "      <th>dname.1</th>\n",
       "      <th>Unnamed: 4</th>\n",
       "      <th>Unnamed: 5</th>\n",
       "    </tr>\n",
       "  </thead>\n",
       "  <tbody>\n",
       "    <tr>\n",
       "      <th>47</th>\n",
       "      <td>152</td>\n",
       "      <td>Gastritis and duodenitis</td>\n",
       "      <td>5</td>\n",
       "      <td>위염 및 십이지장염</td>\n",
       "      <td>NaN</td>\n",
       "      <td>NaN</td>\n",
       "    </tr>\n",
       "  </tbody>\n",
       "</table>\n",
       "</div>"
      ],
      "text/plain": [
       "    Words                     dname  wash_out     dname.1  Unnamed: 4  \\\n",
       "47    152  Gastritis and duodenitis         5  위염 및 십이지장염         NaN   \n",
       "\n",
       "    Unnamed: 5  \n",
       "47         NaN  "
      ]
     },
     "execution_count": 70,
     "metadata": {},
     "output_type": "execute_result"
    }
   ],
   "source": [
    "disease_codes[disease_codes.Words==152]"
   ]
  },
  {
   "cell_type": "code",
   "execution_count": 64,
   "metadata": {},
   "outputs": [
    {
     "data": {
      "text/html": [
       "<div>\n",
       "<style scoped>\n",
       "    .dataframe tbody tr th:only-of-type {\n",
       "        vertical-align: middle;\n",
       "    }\n",
       "\n",
       "    .dataframe tbody tr th {\n",
       "        vertical-align: top;\n",
       "    }\n",
       "\n",
       "    .dataframe thead th {\n",
       "        text-align: right;\n",
       "    }\n",
       "</style>\n",
       "<table border=\"1\" class=\"dataframe\">\n",
       "  <thead>\n",
       "    <tr style=\"text-align: right;\">\n",
       "      <th></th>\n",
       "      <th>Topic</th>\n",
       "      <th>Words</th>\n",
       "      <th>Frequency</th>\n",
       "      <th>Class</th>\n",
       "      <th>Disease Names</th>\n",
       "    </tr>\n",
       "  </thead>\n",
       "  <tbody>\n",
       "    <tr>\n",
       "      <th>0</th>\n",
       "      <td>-1</td>\n",
       "      <td>142, 229, 236, 134, 239</td>\n",
       "      <td>21632</td>\n",
       "      <td>0</td>\n",
       "      <td>Hermorrhoid, Abscess, impetigo, and other bact...</td>\n",
       "    </tr>\n",
       "    <tr>\n",
       "      <th>1</th>\n",
       "      <td>0</td>\n",
       "      <td>195, 197, 229, 239, 225</td>\n",
       "      <td>9437</td>\n",
       "      <td>0</td>\n",
       "      <td>Diabetes mellitus, Chronic kidney disease due ...</td>\n",
       "    </tr>\n",
       "    <tr>\n",
       "      <th>2</th>\n",
       "      <td>1</td>\n",
       "      <td>151, 152, 162, 220, 221</td>\n",
       "      <td>3963</td>\n",
       "      <td>0</td>\n",
       "      <td>Peptic ulcer disease, Gastritis and duodenitis...</td>\n",
       "    </tr>\n",
       "    <tr>\n",
       "      <th>3</th>\n",
       "      <td>2</td>\n",
       "      <td>220, 232, 152, 162, 151</td>\n",
       "      <td>3229</td>\n",
       "      <td>0</td>\n",
       "      <td>Low back pain, Viral skin diseases, Gastritis ...</td>\n",
       "    </tr>\n",
       "    <tr>\n",
       "      <th>4</th>\n",
       "      <td>3</td>\n",
       "      <td>147, 145, 239, 202, 220</td>\n",
       "      <td>2646</td>\n",
       "      <td>0</td>\n",
       "      <td>Asthma, Chronic obstructive pulmonary disease,...</td>\n",
       "    </tr>\n",
       "  </tbody>\n",
       "</table>\n",
       "</div>"
      ],
      "text/plain": [
       "   Topic                    Words  Frequency  Class  \\\n",
       "0     -1  142, 229, 236, 134, 239      21632      0   \n",
       "1      0  195, 197, 229, 239, 225       9437      0   \n",
       "2      1  151, 152, 162, 220, 221       3963      0   \n",
       "3      2  220, 232, 152, 162, 151       3229      0   \n",
       "4      3  147, 145, 239, 202, 220       2646      0   \n",
       "\n",
       "                                       Disease Names  \n",
       "0  Hermorrhoid, Abscess, impetigo, and other bact...  \n",
       "1  Diabetes mellitus, Chronic kidney disease due ...  \n",
       "2  Peptic ulcer disease, Gastritis and duodenitis...  \n",
       "3  Low back pain, Viral skin diseases, Gastritis ...  \n",
       "4  Asthma, Chronic obstructive pulmonary disease,...  "
      ]
     },
     "execution_count": 64,
     "metadata": {},
     "output_type": "execute_result"
    }
   ],
   "source": [
    "data_all_m.head()"
   ]
  },
  {
   "cell_type": "code",
   "execution_count": 65,
   "metadata": {},
   "outputs": [
    {
     "data": {
      "text/html": [
       "<div>\n",
       "<style scoped>\n",
       "    .dataframe tbody tr th:only-of-type {\n",
       "        vertical-align: middle;\n",
       "    }\n",
       "\n",
       "    .dataframe tbody tr th {\n",
       "        vertical-align: top;\n",
       "    }\n",
       "\n",
       "    .dataframe thead th {\n",
       "        text-align: right;\n",
       "    }\n",
       "</style>\n",
       "<table border=\"1\" class=\"dataframe\">\n",
       "  <thead>\n",
       "    <tr style=\"text-align: right;\">\n",
       "      <th></th>\n",
       "      <th>Topic</th>\n",
       "      <th>Disease Names</th>\n",
       "    </tr>\n",
       "  </thead>\n",
       "  <tbody>\n",
       "    <tr>\n",
       "      <th>0</th>\n",
       "      <td>-1</td>\n",
       "      <td>Rheumatic heart disease, Ischemic stroke, Glau...</td>\n",
       "    </tr>\n",
       "    <tr>\n",
       "      <th>1</th>\n",
       "      <td>0</td>\n",
       "      <td>Diabetes mellitus, Chronic kidney disease due ...</td>\n",
       "    </tr>\n",
       "    <tr>\n",
       "      <th>2</th>\n",
       "      <td>1</td>\n",
       "      <td>Gastritis and duodenitis, Peptic ulcer disease...</td>\n",
       "    </tr>\n",
       "    <tr>\n",
       "      <th>3</th>\n",
       "      <td>2</td>\n",
       "      <td>Low back pain, Chronic obstructive pulmonary d...</td>\n",
       "    </tr>\n",
       "    <tr>\n",
       "      <th>4</th>\n",
       "      <td>3</td>\n",
       "      <td>Asthma, Chronic obstructive pulmonary disease,...</td>\n",
       "    </tr>\n",
       "    <tr>\n",
       "      <th>...</th>\n",
       "      <td>...</td>\n",
       "      <td>...</td>\n",
       "    </tr>\n",
       "    <tr>\n",
       "      <th>64</th>\n",
       "      <td>65</td>\n",
       "      <td>Hypertensive heart disease, Ischemic heart dis...</td>\n",
       "    </tr>\n",
       "    <tr>\n",
       "      <th>65</th>\n",
       "      <td>66</td>\n",
       "      <td>Cataracts, Diabetes mellitus, Cellulitis, Chro...</td>\n",
       "    </tr>\n",
       "    <tr>\n",
       "      <th>66</th>\n",
       "      <td>67</td>\n",
       "      <td>Cataracts, Abscess, impetigo, and other bacter...</td>\n",
       "    </tr>\n",
       "    <tr>\n",
       "      <th>67</th>\n",
       "      <td>68</td>\n",
       "      <td>Bladder cancer, Refraction and accommodation d...</td>\n",
       "    </tr>\n",
       "    <tr>\n",
       "      <th>68</th>\n",
       "      <td>69</td>\n",
       "      <td>Abscess, impetigo, and other bacterial skin di...</td>\n",
       "    </tr>\n",
       "  </tbody>\n",
       "</table>\n",
       "<p>69 rows × 2 columns</p>\n",
       "</div>"
      ],
      "text/plain": [
       "    Topic                                      Disease Names\n",
       "0      -1  Rheumatic heart disease, Ischemic stroke, Glau...\n",
       "1       0  Diabetes mellitus, Chronic kidney disease due ...\n",
       "2       1  Gastritis and duodenitis, Peptic ulcer disease...\n",
       "3       2  Low back pain, Chronic obstructive pulmonary d...\n",
       "4       3  Asthma, Chronic obstructive pulmonary disease,...\n",
       "..    ...                                                ...\n",
       "64     65  Hypertensive heart disease, Ischemic heart dis...\n",
       "65     66  Cataracts, Diabetes mellitus, Cellulitis, Chro...\n",
       "66     67  Cataracts, Abscess, impetigo, and other bacter...\n",
       "67     68  Bladder cancer, Refraction and accommodation d...\n",
       "68     69  Abscess, impetigo, and other bacterial skin di...\n",
       "\n",
       "[69 rows x 2 columns]"
      ]
     },
     "execution_count": 65,
     "metadata": {},
     "output_type": "execute_result"
    }
   ],
   "source": [
    "#Extracting data for \"disease 138 yes\" and \"disease 138 no\" groups from the all data given file\n",
    "all_data_m_yes = data_all_m[data_all_m['Class'] == 1] # 138 yes\n",
    "all_data_m_no = data_all_m[data_all_m['Class'] ==0] #'138 no']\n",
    "# Identify topics and associated diseases for each group\n",
    "all_data_m_yes_topics_diseases = all_data_m_yes[['Topic', 'Disease Names']].drop_duplicates().reset_index(drop=True)\n",
    "all_data_m_no_topics_diseases = all_data_m_no[['Topic', 'Disease Names']].drop_duplicates().reset_index(drop=True)\n",
    "# Display the topics and associated diseases for the \"yes\" and \"no\" groups from the all data given file\n",
    "all_data_m_yes_topics_diseases"
   ]
  },
  {
   "cell_type": "code",
   "execution_count": 66,
   "metadata": {},
   "outputs": [
    {
     "data": {
      "text/html": [
       "<div>\n",
       "<style scoped>\n",
       "    .dataframe tbody tr th:only-of-type {\n",
       "        vertical-align: middle;\n",
       "    }\n",
       "\n",
       "    .dataframe tbody tr th {\n",
       "        vertical-align: top;\n",
       "    }\n",
       "\n",
       "    .dataframe thead th {\n",
       "        text-align: right;\n",
       "    }\n",
       "</style>\n",
       "<table border=\"1\" class=\"dataframe\">\n",
       "  <thead>\n",
       "    <tr style=\"text-align: right;\">\n",
       "      <th></th>\n",
       "      <th>Topic</th>\n",
       "      <th>Disease Names</th>\n",
       "    </tr>\n",
       "  </thead>\n",
       "  <tbody>\n",
       "    <tr>\n",
       "      <th>0</th>\n",
       "      <td>-1</td>\n",
       "      <td>Hermorrhoid, Abscess, impetigo, and other bact...</td>\n",
       "    </tr>\n",
       "    <tr>\n",
       "      <th>1</th>\n",
       "      <td>0</td>\n",
       "      <td>Diabetes mellitus, Chronic kidney disease due ...</td>\n",
       "    </tr>\n",
       "    <tr>\n",
       "      <th>2</th>\n",
       "      <td>1</td>\n",
       "      <td>Peptic ulcer disease, Gastritis and duodenitis...</td>\n",
       "    </tr>\n",
       "    <tr>\n",
       "      <th>3</th>\n",
       "      <td>2</td>\n",
       "      <td>Low back pain, Viral skin diseases, Gastritis ...</td>\n",
       "    </tr>\n",
       "    <tr>\n",
       "      <th>4</th>\n",
       "      <td>3</td>\n",
       "      <td>Asthma, Chronic obstructive pulmonary disease,...</td>\n",
       "    </tr>\n",
       "    <tr>\n",
       "      <th>...</th>\n",
       "      <td>...</td>\n",
       "      <td>...</td>\n",
       "    </tr>\n",
       "    <tr>\n",
       "      <th>66</th>\n",
       "      <td>65</td>\n",
       "      <td>Hypertensive heart disease, Ischemic heart dis...</td>\n",
       "    </tr>\n",
       "    <tr>\n",
       "      <th>67</th>\n",
       "      <td>66</td>\n",
       "      <td>Cataracts, Diabetes mellitus, Chronic kidney d...</td>\n",
       "    </tr>\n",
       "    <tr>\n",
       "      <th>68</th>\n",
       "      <td>67</td>\n",
       "      <td>Cataracts, Diabetes mellitus, Abscess, impetig...</td>\n",
       "    </tr>\n",
       "    <tr>\n",
       "      <th>69</th>\n",
       "      <td>68</td>\n",
       "      <td>Bladder cancer, Colon and rectum cancers, Para...</td>\n",
       "    </tr>\n",
       "    <tr>\n",
       "      <th>70</th>\n",
       "      <td>69</td>\n",
       "      <td>Abscess, impetigo, and other bacterial skin di...</td>\n",
       "    </tr>\n",
       "  </tbody>\n",
       "</table>\n",
       "<p>71 rows × 2 columns</p>\n",
       "</div>"
      ],
      "text/plain": [
       "    Topic                                      Disease Names\n",
       "0      -1  Hermorrhoid, Abscess, impetigo, and other bact...\n",
       "1       0  Diabetes mellitus, Chronic kidney disease due ...\n",
       "2       1  Peptic ulcer disease, Gastritis and duodenitis...\n",
       "3       2  Low back pain, Viral skin diseases, Gastritis ...\n",
       "4       3  Asthma, Chronic obstructive pulmonary disease,...\n",
       "..    ...                                                ...\n",
       "66     65  Hypertensive heart disease, Ischemic heart dis...\n",
       "67     66  Cataracts, Diabetes mellitus, Chronic kidney d...\n",
       "68     67  Cataracts, Diabetes mellitus, Abscess, impetig...\n",
       "69     68  Bladder cancer, Colon and rectum cancers, Para...\n",
       "70     69  Abscess, impetigo, and other bacterial skin di...\n",
       "\n",
       "[71 rows x 2 columns]"
      ]
     },
     "execution_count": 66,
     "metadata": {},
     "output_type": "execute_result"
    }
   ],
   "source": [
    "all_data_m_no_topics_diseases"
   ]
  },
  {
   "cell_type": "code",
   "execution_count": 67,
   "metadata": {},
   "outputs": [],
   "source": [
    "#5Y option1 :male\n",
    "# data_all.to_csv('./bertopic_5y_138_100pall_op1_dec08.csv', index=False)\n",
    "# data_all_m.to_csv('./bertopic_5y_138_100pall_op1_dec20_maleF.csv', index=False)\n",
    "# data_all_m.to_csv('./bertopic_5y_138_100pall_op1_dec20_aug02_maleF.csv', index=False)\n",
    "data_all_m.to_csv('./bertopic_5y_138_100pall_op1_dec20_aug02_maleF_aug29.csv', index=False)"
   ]
  },
  {
   "cell_type": "code",
   "execution_count": 68,
   "metadata": {},
   "outputs": [],
   "source": [
    "# female : topics_per_class2_f\n",
    "# Mapping disease codes for the sample dataset\n",
    "data_all_f['Disease Names'] = data_all_f['Words'].apply(map_codes_to_diseases)# (map_codes_to_names_v2)"
   ]
  },
  {
   "cell_type": "code",
   "execution_count": 69,
   "metadata": {},
   "outputs": [
    {
     "data": {
      "text/html": [
       "<div>\n",
       "<style scoped>\n",
       "    .dataframe tbody tr th:only-of-type {\n",
       "        vertical-align: middle;\n",
       "    }\n",
       "\n",
       "    .dataframe tbody tr th {\n",
       "        vertical-align: top;\n",
       "    }\n",
       "\n",
       "    .dataframe thead th {\n",
       "        text-align: right;\n",
       "    }\n",
       "</style>\n",
       "<table border=\"1\" class=\"dataframe\">\n",
       "  <thead>\n",
       "    <tr style=\"text-align: right;\">\n",
       "      <th></th>\n",
       "      <th>Topic</th>\n",
       "      <th>Words</th>\n",
       "      <th>Frequency</th>\n",
       "      <th>Class</th>\n",
       "      <th>Disease Names</th>\n",
       "    </tr>\n",
       "  </thead>\n",
       "  <tbody>\n",
       "    <tr>\n",
       "      <th>0</th>\n",
       "      <td>-1</td>\n",
       "      <td>169, 229, 200, 225, 238</td>\n",
       "      <td>20077</td>\n",
       "      <td>0</td>\n",
       "      <td>Tension-type headache, Abscess, impetigo, and ...</td>\n",
       "    </tr>\n",
       "    <tr>\n",
       "      <th>1</th>\n",
       "      <td>0</td>\n",
       "      <td>218, 219, 239, 221, 220</td>\n",
       "      <td>10760</td>\n",
       "      <td>0</td>\n",
       "      <td>Rheumatoid arthritis, Osteoarthritis, Cataract...</td>\n",
       "    </tr>\n",
       "    <tr>\n",
       "      <th>2</th>\n",
       "      <td>1</td>\n",
       "      <td>195, 197, 200, 239, 238</td>\n",
       "      <td>5767</td>\n",
       "      <td>0</td>\n",
       "      <td>Diabetes mellitus, Chronic kidney disease due ...</td>\n",
       "    </tr>\n",
       "    <tr>\n",
       "      <th>3</th>\n",
       "      <td>2</td>\n",
       "      <td>126, 142, 157, 234, 236</td>\n",
       "      <td>4771</td>\n",
       "      <td>0</td>\n",
       "      <td>Non-Hodgkins lymphoma, Hermorrhoid, Ulcerative...</td>\n",
       "    </tr>\n",
       "    <tr>\n",
       "      <th>4</th>\n",
       "      <td>3</td>\n",
       "      <td>152, 151, 162, 145, 200</td>\n",
       "      <td>4456</td>\n",
       "      <td>0</td>\n",
       "      <td>Gastritis and duodenitis, Peptic ulcer disease...</td>\n",
       "    </tr>\n",
       "  </tbody>\n",
       "</table>\n",
       "</div>"
      ],
      "text/plain": [
       "   Topic                    Words  Frequency  Class  \\\n",
       "0     -1  169, 229, 200, 225, 238      20077      0   \n",
       "1      0  218, 219, 239, 221, 220      10760      0   \n",
       "2      1  195, 197, 200, 239, 238       5767      0   \n",
       "3      2  126, 142, 157, 234, 236       4771      0   \n",
       "4      3  152, 151, 162, 145, 200       4456      0   \n",
       "\n",
       "                                       Disease Names  \n",
       "0  Tension-type headache, Abscess, impetigo, and ...  \n",
       "1  Rheumatoid arthritis, Osteoarthritis, Cataract...  \n",
       "2  Diabetes mellitus, Chronic kidney disease due ...  \n",
       "3  Non-Hodgkins lymphoma, Hermorrhoid, Ulcerative...  \n",
       "4  Gastritis and duodenitis, Peptic ulcer disease...  "
      ]
     },
     "execution_count": 69,
     "metadata": {},
     "output_type": "execute_result"
    }
   ],
   "source": [
    "data_all_f.head()"
   ]
  },
  {
   "cell_type": "code",
   "execution_count": 71,
   "metadata": {},
   "outputs": [
    {
     "data": {
      "text/html": [
       "<div>\n",
       "<style scoped>\n",
       "    .dataframe tbody tr th:only-of-type {\n",
       "        vertical-align: middle;\n",
       "    }\n",
       "\n",
       "    .dataframe tbody tr th {\n",
       "        vertical-align: top;\n",
       "    }\n",
       "\n",
       "    .dataframe thead th {\n",
       "        text-align: right;\n",
       "    }\n",
       "</style>\n",
       "<table border=\"1\" class=\"dataframe\">\n",
       "  <thead>\n",
       "    <tr style=\"text-align: right;\">\n",
       "      <th></th>\n",
       "      <th>Topic</th>\n",
       "      <th>Words</th>\n",
       "      <th>Frequency</th>\n",
       "      <th>Class</th>\n",
       "      <th>Disease Names</th>\n",
       "    </tr>\n",
       "  </thead>\n",
       "  <tbody>\n",
       "    <tr>\n",
       "      <th>75</th>\n",
       "      <td>-1</td>\n",
       "      <td>132, 133, 238, 134, 169</td>\n",
       "      <td>504</td>\n",
       "      <td>1</td>\n",
       "      <td>Rheumatic heart disease, Ischemic heart diseas...</td>\n",
       "    </tr>\n",
       "    <tr>\n",
       "      <th>76</th>\n",
       "      <td>0</td>\n",
       "      <td>219, 218, 164, 220, 239</td>\n",
       "      <td>299</td>\n",
       "      <td>1</td>\n",
       "      <td>Osteoarthritis, Rheumatoid arthritis, Alzheime...</td>\n",
       "    </tr>\n",
       "    <tr>\n",
       "      <th>77</th>\n",
       "      <td>1</td>\n",
       "      <td>195, 200, 232, 237, 239</td>\n",
       "      <td>75</td>\n",
       "      <td>1</td>\n",
       "      <td>Diabetes mellitus, Tubulointerstitial nephriti...</td>\n",
       "    </tr>\n",
       "    <tr>\n",
       "      <th>78</th>\n",
       "      <td>2</td>\n",
       "      <td>132, 165, 142, 114, 200</td>\n",
       "      <td>104</td>\n",
       "      <td>1</td>\n",
       "      <td>Rheumatic heart disease, Parkinsons disease, H...</td>\n",
       "    </tr>\n",
       "    <tr>\n",
       "      <th>79</th>\n",
       "      <td>3</td>\n",
       "      <td>152, 151, 145, 162, 232</td>\n",
       "      <td>57</td>\n",
       "      <td>1</td>\n",
       "      <td>Gastritis and duodenitis, Peptic ulcer disease...</td>\n",
       "    </tr>\n",
       "  </tbody>\n",
       "</table>\n",
       "</div>"
      ],
      "text/plain": [
       "    Topic                    Words  Frequency  Class  \\\n",
       "75     -1  132, 133, 238, 134, 169        504      1   \n",
       "76      0  219, 218, 164, 220, 239        299      1   \n",
       "77      1  195, 200, 232, 237, 239         75      1   \n",
       "78      2  132, 165, 142, 114, 200        104      1   \n",
       "79      3  152, 151, 145, 162, 232         57      1   \n",
       "\n",
       "                                        Disease Names  \n",
       "75  Rheumatic heart disease, Ischemic heart diseas...  \n",
       "76  Osteoarthritis, Rheumatoid arthritis, Alzheime...  \n",
       "77  Diabetes mellitus, Tubulointerstitial nephriti...  \n",
       "78  Rheumatic heart disease, Parkinsons disease, H...  \n",
       "79  Gastritis and duodenitis, Peptic ulcer disease...  "
      ]
     },
     "execution_count": 71,
     "metadata": {},
     "output_type": "execute_result"
    }
   ],
   "source": [
    "data_all_f[data_all_f['Class']==1].head()"
   ]
  },
  {
   "cell_type": "code",
   "execution_count": 77,
   "metadata": {},
   "outputs": [],
   "source": [
    "\n",
    "\n",
    "#Extracting data for \"disease 138 yes\" and \"disease 138 no\" groups from the all data given file\n",
    "all_data_f_yes = data_all_f[data_all_f['Class'] == 1] # 138 yes\n",
    "all_data_f_no = data_all_f[data_all_f['Class'] ==0] #'138 no']\n",
    "# Identify topics and associated diseases for each group\n",
    "all_data_f_yes_topics_diseases = all_data_f_yes[['Topic', 'Disease Names']].drop_duplicates().reset_index(drop=True)\n",
    "all_data_f_no_topics_diseases = all_data_f_no[['Topic', 'Disease Names']].drop_duplicates().reset_index(drop=True)\n",
    "# Display the topics and associated diseases for the \"yes\" and \"no\" groups from the all data given file\n",
    "all_data_f_yes_topics_diseases\n",
    "\n",
    "#5Y option1 :female\n",
    "# data_all.to_csv('./bertopic_5y_138_100pall_op1_dec08.csv', index=False)\n",
    "# data_all_f.to_csv('./bertopic_5y_138_100pall_op1_dec20_femaleF.csv', index=False)\n",
    "data_all_f.to_csv('./bertopic_5y_138_100pall_op1_dec20_aug02_femaleF_aug29.csv', index=False)"
   ]
  },
  {
   "cell_type": "code",
   "execution_count": 73,
   "metadata": {},
   "outputs": [
    {
     "data": {
      "text/html": [
       "<div>\n",
       "<style scoped>\n",
       "    .dataframe tbody tr th:only-of-type {\n",
       "        vertical-align: middle;\n",
       "    }\n",
       "\n",
       "    .dataframe tbody tr th {\n",
       "        vertical-align: top;\n",
       "    }\n",
       "\n",
       "    .dataframe thead th {\n",
       "        text-align: right;\n",
       "    }\n",
       "</style>\n",
       "<table border=\"1\" class=\"dataframe\">\n",
       "  <thead>\n",
       "    <tr style=\"text-align: right;\">\n",
       "      <th></th>\n",
       "      <th>Topic</th>\n",
       "      <th>Words</th>\n",
       "      <th>Frequency</th>\n",
       "      <th>Class</th>\n",
       "      <th>Disease Names</th>\n",
       "    </tr>\n",
       "  </thead>\n",
       "  <tbody>\n",
       "    <tr>\n",
       "      <th>0</th>\n",
       "      <td>-1</td>\n",
       "      <td>169, 229, 200, 225, 238</td>\n",
       "      <td>20077</td>\n",
       "      <td>0</td>\n",
       "      <td>Tension-type headache, Abscess, impetigo, and ...</td>\n",
       "    </tr>\n",
       "    <tr>\n",
       "      <th>1</th>\n",
       "      <td>0</td>\n",
       "      <td>218, 219, 239, 221, 220</td>\n",
       "      <td>10760</td>\n",
       "      <td>0</td>\n",
       "      <td>Rheumatoid arthritis, Osteoarthritis, Cataract...</td>\n",
       "    </tr>\n",
       "    <tr>\n",
       "      <th>2</th>\n",
       "      <td>1</td>\n",
       "      <td>195, 197, 200, 239, 238</td>\n",
       "      <td>5767</td>\n",
       "      <td>0</td>\n",
       "      <td>Diabetes mellitus, Chronic kidney disease due ...</td>\n",
       "    </tr>\n",
       "    <tr>\n",
       "      <th>3</th>\n",
       "      <td>2</td>\n",
       "      <td>126, 142, 157, 234, 236</td>\n",
       "      <td>4771</td>\n",
       "      <td>0</td>\n",
       "      <td>Non-Hodgkins lymphoma, Hermorrhoid, Ulcerative...</td>\n",
       "    </tr>\n",
       "    <tr>\n",
       "      <th>4</th>\n",
       "      <td>3</td>\n",
       "      <td>152, 151, 162, 145, 200</td>\n",
       "      <td>4456</td>\n",
       "      <td>0</td>\n",
       "      <td>Gastritis and duodenitis, Peptic ulcer disease...</td>\n",
       "    </tr>\n",
       "  </tbody>\n",
       "</table>\n",
       "</div>"
      ],
      "text/plain": [
       "   Topic                    Words  Frequency  Class  \\\n",
       "0     -1  169, 229, 200, 225, 238      20077      0   \n",
       "1      0  218, 219, 239, 221, 220      10760      0   \n",
       "2      1  195, 197, 200, 239, 238       5767      0   \n",
       "3      2  126, 142, 157, 234, 236       4771      0   \n",
       "4      3  152, 151, 162, 145, 200       4456      0   \n",
       "\n",
       "                                       Disease Names  \n",
       "0  Tension-type headache, Abscess, impetigo, and ...  \n",
       "1  Rheumatoid arthritis, Osteoarthritis, Cataract...  \n",
       "2  Diabetes mellitus, Chronic kidney disease due ...  \n",
       "3  Non-Hodgkins lymphoma, Hermorrhoid, Ulcerative...  \n",
       "4  Gastritis and duodenitis, Peptic ulcer disease...  "
      ]
     },
     "execution_count": 73,
     "metadata": {},
     "output_type": "execute_result"
    }
   ],
   "source": [
    "data_all_f.head()"
   ]
  },
  {
   "cell_type": "code",
   "execution_count": 74,
   "metadata": {},
   "outputs": [
    {
     "data": {
      "text/html": [
       "<div>\n",
       "<style scoped>\n",
       "    .dataframe tbody tr th:only-of-type {\n",
       "        vertical-align: middle;\n",
       "    }\n",
       "\n",
       "    .dataframe tbody tr th {\n",
       "        vertical-align: top;\n",
       "    }\n",
       "\n",
       "    .dataframe thead th {\n",
       "        text-align: right;\n",
       "    }\n",
       "</style>\n",
       "<table border=\"1\" class=\"dataframe\">\n",
       "  <thead>\n",
       "    <tr style=\"text-align: right;\">\n",
       "      <th></th>\n",
       "      <th>Topic</th>\n",
       "      <th>Words</th>\n",
       "      <th>Frequency</th>\n",
       "      <th>Class</th>\n",
       "      <th>Disease Names</th>\n",
       "    </tr>\n",
       "  </thead>\n",
       "  <tbody>\n",
       "    <tr>\n",
       "      <th>75</th>\n",
       "      <td>-1</td>\n",
       "      <td>132, 133, 238, 134, 169</td>\n",
       "      <td>504</td>\n",
       "      <td>1</td>\n",
       "      <td>Rheumatic heart disease, Ischemic heart diseas...</td>\n",
       "    </tr>\n",
       "    <tr>\n",
       "      <th>76</th>\n",
       "      <td>0</td>\n",
       "      <td>219, 218, 164, 220, 239</td>\n",
       "      <td>299</td>\n",
       "      <td>1</td>\n",
       "      <td>Osteoarthritis, Rheumatoid arthritis, Alzheime...</td>\n",
       "    </tr>\n",
       "    <tr>\n",
       "      <th>77</th>\n",
       "      <td>1</td>\n",
       "      <td>195, 200, 232, 237, 239</td>\n",
       "      <td>75</td>\n",
       "      <td>1</td>\n",
       "      <td>Diabetes mellitus, Tubulointerstitial nephriti...</td>\n",
       "    </tr>\n",
       "    <tr>\n",
       "      <th>78</th>\n",
       "      <td>2</td>\n",
       "      <td>132, 165, 142, 114, 200</td>\n",
       "      <td>104</td>\n",
       "      <td>1</td>\n",
       "      <td>Rheumatic heart disease, Parkinsons disease, H...</td>\n",
       "    </tr>\n",
       "    <tr>\n",
       "      <th>79</th>\n",
       "      <td>3</td>\n",
       "      <td>152, 151, 145, 162, 232</td>\n",
       "      <td>57</td>\n",
       "      <td>1</td>\n",
       "      <td>Gastritis and duodenitis, Peptic ulcer disease...</td>\n",
       "    </tr>\n",
       "  </tbody>\n",
       "</table>\n",
       "</div>"
      ],
      "text/plain": [
       "    Topic                    Words  Frequency  Class  \\\n",
       "75     -1  132, 133, 238, 134, 169        504      1   \n",
       "76      0  219, 218, 164, 220, 239        299      1   \n",
       "77      1  195, 200, 232, 237, 239         75      1   \n",
       "78      2  132, 165, 142, 114, 200        104      1   \n",
       "79      3  152, 151, 145, 162, 232         57      1   \n",
       "\n",
       "                                        Disease Names  \n",
       "75  Rheumatic heart disease, Ischemic heart diseas...  \n",
       "76  Osteoarthritis, Rheumatoid arthritis, Alzheime...  \n",
       "77  Diabetes mellitus, Tubulointerstitial nephriti...  \n",
       "78  Rheumatic heart disease, Parkinsons disease, H...  \n",
       "79  Gastritis and duodenitis, Peptic ulcer disease...  "
      ]
     },
     "execution_count": 74,
     "metadata": {},
     "output_type": "execute_result"
    }
   ],
   "source": [
    "data_all_f[data_all_f['Class']==1].head()"
   ]
  },
  {
   "cell_type": "code",
   "execution_count": 75,
   "metadata": {},
   "outputs": [
    {
     "data": {
      "text/html": [
       "<div>\n",
       "<style scoped>\n",
       "    .dataframe tbody tr th:only-of-type {\n",
       "        vertical-align: middle;\n",
       "    }\n",
       "\n",
       "    .dataframe tbody tr th {\n",
       "        vertical-align: top;\n",
       "    }\n",
       "\n",
       "    .dataframe thead th {\n",
       "        text-align: right;\n",
       "    }\n",
       "</style>\n",
       "<table border=\"1\" class=\"dataframe\">\n",
       "  <thead>\n",
       "    <tr style=\"text-align: right;\">\n",
       "      <th></th>\n",
       "      <th>Topic</th>\n",
       "      <th>Disease Names</th>\n",
       "    </tr>\n",
       "  </thead>\n",
       "  <tbody>\n",
       "    <tr>\n",
       "      <th>0</th>\n",
       "      <td>-1</td>\n",
       "      <td>Rheumatic heart disease, Ischemic heart diseas...</td>\n",
       "    </tr>\n",
       "    <tr>\n",
       "      <th>1</th>\n",
       "      <td>0</td>\n",
       "      <td>Osteoarthritis, Rheumatoid arthritis, Alzheime...</td>\n",
       "    </tr>\n",
       "    <tr>\n",
       "      <th>2</th>\n",
       "      <td>1</td>\n",
       "      <td>Diabetes mellitus, Tubulointerstitial nephriti...</td>\n",
       "    </tr>\n",
       "    <tr>\n",
       "      <th>3</th>\n",
       "      <td>2</td>\n",
       "      <td>Rheumatic heart disease, Parkinsons disease, H...</td>\n",
       "    </tr>\n",
       "    <tr>\n",
       "      <th>4</th>\n",
       "      <td>3</td>\n",
       "      <td>Gastritis and duodenitis, Peptic ulcer disease...</td>\n",
       "    </tr>\n",
       "    <tr>\n",
       "      <th>...</th>\n",
       "      <td>...</td>\n",
       "      <td>...</td>\n",
       "    </tr>\n",
       "    <tr>\n",
       "      <th>66</th>\n",
       "      <td>68</td>\n",
       "      <td>Ischemic stroke, Gout, Hypertensive heart dise...</td>\n",
       "    </tr>\n",
       "    <tr>\n",
       "      <th>67</th>\n",
       "      <td>70</td>\n",
       "      <td>Asthma, Diabetes mellitus, Glaucoma, Tubuloint...</td>\n",
       "    </tr>\n",
       "    <tr>\n",
       "      <th>68</th>\n",
       "      <td>71</td>\n",
       "      <td>Tubulointerstitial nephritis, pyelonephritis, ...</td>\n",
       "    </tr>\n",
       "    <tr>\n",
       "      <th>69</th>\n",
       "      <td>72</td>\n",
       "      <td>Ischemic heart disease, Diabetes mellitus, Rhe...</td>\n",
       "    </tr>\n",
       "    <tr>\n",
       "      <th>70</th>\n",
       "      <td>73</td>\n",
       "      <td>Hypertensive heart disease, Gall bladder and b...</td>\n",
       "    </tr>\n",
       "  </tbody>\n",
       "</table>\n",
       "<p>71 rows × 2 columns</p>\n",
       "</div>"
      ],
      "text/plain": [
       "    Topic                                      Disease Names\n",
       "0      -1  Rheumatic heart disease, Ischemic heart diseas...\n",
       "1       0  Osteoarthritis, Rheumatoid arthritis, Alzheime...\n",
       "2       1  Diabetes mellitus, Tubulointerstitial nephriti...\n",
       "3       2  Rheumatic heart disease, Parkinsons disease, H...\n",
       "4       3  Gastritis and duodenitis, Peptic ulcer disease...\n",
       "..    ...                                                ...\n",
       "66     68  Ischemic stroke, Gout, Hypertensive heart dise...\n",
       "67     70  Asthma, Diabetes mellitus, Glaucoma, Tubuloint...\n",
       "68     71  Tubulointerstitial nephritis, pyelonephritis, ...\n",
       "69     72  Ischemic heart disease, Diabetes mellitus, Rhe...\n",
       "70     73  Hypertensive heart disease, Gall bladder and b...\n",
       "\n",
       "[71 rows x 2 columns]"
      ]
     },
     "execution_count": 75,
     "metadata": {},
     "output_type": "execute_result"
    }
   ],
   "source": [
    "all_data_f_yes_topics_diseases"
   ]
  },
  {
   "cell_type": "code",
   "execution_count": 76,
   "metadata": {},
   "outputs": [
    {
     "data": {
      "text/html": [
       "<div>\n",
       "<style scoped>\n",
       "    .dataframe tbody tr th:only-of-type {\n",
       "        vertical-align: middle;\n",
       "    }\n",
       "\n",
       "    .dataframe tbody tr th {\n",
       "        vertical-align: top;\n",
       "    }\n",
       "\n",
       "    .dataframe thead th {\n",
       "        text-align: right;\n",
       "    }\n",
       "</style>\n",
       "<table border=\"1\" class=\"dataframe\">\n",
       "  <thead>\n",
       "    <tr style=\"text-align: right;\">\n",
       "      <th></th>\n",
       "      <th>Topic</th>\n",
       "      <th>Disease Names</th>\n",
       "    </tr>\n",
       "  </thead>\n",
       "  <tbody>\n",
       "    <tr>\n",
       "      <th>0</th>\n",
       "      <td>-1</td>\n",
       "      <td>Tension-type headache, Abscess, impetigo, and ...</td>\n",
       "    </tr>\n",
       "    <tr>\n",
       "      <th>1</th>\n",
       "      <td>0</td>\n",
       "      <td>Rheumatoid arthritis, Osteoarthritis, Cataract...</td>\n",
       "    </tr>\n",
       "    <tr>\n",
       "      <th>2</th>\n",
       "      <td>1</td>\n",
       "      <td>Diabetes mellitus, Chronic kidney disease due ...</td>\n",
       "    </tr>\n",
       "    <tr>\n",
       "      <th>3</th>\n",
       "      <td>2</td>\n",
       "      <td>Non-Hodgkins lymphoma, Hermorrhoid, Ulcerative...</td>\n",
       "    </tr>\n",
       "    <tr>\n",
       "      <th>4</th>\n",
       "      <td>3</td>\n",
       "      <td>Gastritis and duodenitis, Peptic ulcer disease...</td>\n",
       "    </tr>\n",
       "    <tr>\n",
       "      <th>...</th>\n",
       "      <td>...</td>\n",
       "      <td>...</td>\n",
       "    </tr>\n",
       "    <tr>\n",
       "      <th>70</th>\n",
       "      <td>69</td>\n",
       "      <td>Abscess, impetigo, and other bacterial skin di...</td>\n",
       "    </tr>\n",
       "    <tr>\n",
       "      <th>71</th>\n",
       "      <td>70</td>\n",
       "      <td>Asthma, Diabetes mellitus, Chronic kidney dise...</td>\n",
       "    </tr>\n",
       "    <tr>\n",
       "      <th>72</th>\n",
       "      <td>71</td>\n",
       "      <td>Tubulointerstitial nephritis, pyelonephritis, ...</td>\n",
       "    </tr>\n",
       "    <tr>\n",
       "      <th>73</th>\n",
       "      <td>72</td>\n",
       "      <td>Ischemic heart disease, Diabetes mellitus, Chr...</td>\n",
       "    </tr>\n",
       "    <tr>\n",
       "      <th>74</th>\n",
       "      <td>73</td>\n",
       "      <td>Hypertensive heart disease, Gastritis and duod...</td>\n",
       "    </tr>\n",
       "  </tbody>\n",
       "</table>\n",
       "<p>75 rows × 2 columns</p>\n",
       "</div>"
      ],
      "text/plain": [
       "    Topic                                      Disease Names\n",
       "0      -1  Tension-type headache, Abscess, impetigo, and ...\n",
       "1       0  Rheumatoid arthritis, Osteoarthritis, Cataract...\n",
       "2       1  Diabetes mellitus, Chronic kidney disease due ...\n",
       "3       2  Non-Hodgkins lymphoma, Hermorrhoid, Ulcerative...\n",
       "4       3  Gastritis and duodenitis, Peptic ulcer disease...\n",
       "..    ...                                                ...\n",
       "70     69  Abscess, impetigo, and other bacterial skin di...\n",
       "71     70  Asthma, Diabetes mellitus, Chronic kidney dise...\n",
       "72     71  Tubulointerstitial nephritis, pyelonephritis, ...\n",
       "73     72  Ischemic heart disease, Diabetes mellitus, Chr...\n",
       "74     73  Hypertensive heart disease, Gastritis and duod...\n",
       "\n",
       "[75 rows x 2 columns]"
      ]
     },
     "execution_count": 76,
     "metadata": {},
     "output_type": "execute_result"
    }
   ],
   "source": [
    "all_data_f_no_topics_diseases"
   ]
  },
  {
   "cell_type": "code",
   "execution_count": null,
   "metadata": {},
   "outputs": [],
   "source": [
    "# check the differnce test "
   ]
  },
  {
   "cell_type": "code",
   "execution_count": null,
   "metadata": {},
   "outputs": [],
   "source": [
    "# import the data "
   ]
  },
  {
   "cell_type": "code",
   "execution_count": 1,
   "metadata": {},
   "outputs": [],
   "source": [
    "import pandas as pd\n",
    "from scipy.stats import chi2_contingency\n",
    "\n",
    "# Import the data\n",
    "# data_all_f = pd.read_csv('./bertopic_5y_138_100pall_op1_dec20_femaleF.csv')\n",
    "# data_all_m = pd.read_csv('./bertopic_5y_138_100pall_op1_dec20_maleF.csv')\n",
    "\n",
    "# Aug02\n",
    "# Import the data\n",
    "data_all_f = pd.read_csv('./bertopic_5y_138_100pall_op1_dec20_aug02_femaleF.csv')\n",
    "data_all_m = pd.read_csv('./bertopic_5y_138_100pall_op1_dec20_aug02_maleF.csv')"
   ]
  },
  {
   "cell_type": "code",
   "execution_count": 2,
   "metadata": {},
   "outputs": [
    {
     "data": {
      "text/html": [
       "<div>\n",
       "<style scoped>\n",
       "    .dataframe tbody tr th:only-of-type {\n",
       "        vertical-align: middle;\n",
       "    }\n",
       "\n",
       "    .dataframe tbody tr th {\n",
       "        vertical-align: top;\n",
       "    }\n",
       "\n",
       "    .dataframe thead th {\n",
       "        text-align: right;\n",
       "    }\n",
       "</style>\n",
       "<table border=\"1\" class=\"dataframe\">\n",
       "  <thead>\n",
       "    <tr style=\"text-align: right;\">\n",
       "      <th></th>\n",
       "      <th>Topic</th>\n",
       "      <th>Words</th>\n",
       "      <th>Frequency</th>\n",
       "      <th>Class</th>\n",
       "      <th>Disease Names</th>\n",
       "    </tr>\n",
       "  </thead>\n",
       "  <tbody>\n",
       "    <tr>\n",
       "      <th>0</th>\n",
       "      <td>-1</td>\n",
       "      <td>169, 229, 200, 225, 238</td>\n",
       "      <td>20077</td>\n",
       "      <td>0</td>\n",
       "      <td>Tension-type headache, Abscess, impetigo, and ...</td>\n",
       "    </tr>\n",
       "    <tr>\n",
       "      <th>1</th>\n",
       "      <td>0</td>\n",
       "      <td>218, 219, 239, 221, 220</td>\n",
       "      <td>10760</td>\n",
       "      <td>0</td>\n",
       "      <td>Rheumatoid arthritis, Osteoarthritis, Cataract...</td>\n",
       "    </tr>\n",
       "    <tr>\n",
       "      <th>2</th>\n",
       "      <td>1</td>\n",
       "      <td>195, 197, 200, 239, 238</td>\n",
       "      <td>5767</td>\n",
       "      <td>0</td>\n",
       "      <td>Diabetes mellitus, Chronic kidney disease due ...</td>\n",
       "    </tr>\n",
       "    <tr>\n",
       "      <th>3</th>\n",
       "      <td>2</td>\n",
       "      <td>126, 142, 157, 234, 236</td>\n",
       "      <td>4771</td>\n",
       "      <td>0</td>\n",
       "      <td>Non-Hodgkins lymphoma, Hermorrhoid, Ulcerative...</td>\n",
       "    </tr>\n",
       "    <tr>\n",
       "      <th>4</th>\n",
       "      <td>3</td>\n",
       "      <td>152, 151, 162, 145, 200</td>\n",
       "      <td>4456</td>\n",
       "      <td>0</td>\n",
       "      <td>Gastritis and duodenitis, Peptic ulcer disease...</td>\n",
       "    </tr>\n",
       "    <tr>\n",
       "      <th>...</th>\n",
       "      <td>...</td>\n",
       "      <td>...</td>\n",
       "      <td>...</td>\n",
       "      <td>...</td>\n",
       "      <td>...</td>\n",
       "    </tr>\n",
       "    <tr>\n",
       "      <th>141</th>\n",
       "      <td>68</td>\n",
       "      <td>134, 222, 136, 162, 168</td>\n",
       "      <td>11</td>\n",
       "      <td>1</td>\n",
       "      <td>Ischemic stroke, Gout, Hypertensive heart dise...</td>\n",
       "    </tr>\n",
       "    <tr>\n",
       "      <th>142</th>\n",
       "      <td>70</td>\n",
       "      <td>147, 195, 238, 200, 197</td>\n",
       "      <td>7</td>\n",
       "      <td>1</td>\n",
       "      <td>Asthma, Diabetes mellitus, Glaucoma, Tubuloint...</td>\n",
       "    </tr>\n",
       "    <tr>\n",
       "      <th>143</th>\n",
       "      <td>71</td>\n",
       "      <td>200, 151, 148, 229, 154</td>\n",
       "      <td>2</td>\n",
       "      <td>1</td>\n",
       "      <td>Tubulointerstitial nephritis, pyelonephritis, ...</td>\n",
       "    </tr>\n",
       "    <tr>\n",
       "      <th>144</th>\n",
       "      <td>72</td>\n",
       "      <td>133, 195, 132, 137, 238</td>\n",
       "      <td>10</td>\n",
       "      <td>1</td>\n",
       "      <td>Ischemic heart disease, Diabetes mellitus, Rhe...</td>\n",
       "    </tr>\n",
       "    <tr>\n",
       "      <th>145</th>\n",
       "      <td>73</td>\n",
       "      <td>136, 160, 198, 152, 221</td>\n",
       "      <td>8</td>\n",
       "      <td>1</td>\n",
       "      <td>Hypertensive heart disease, Gall bladder and b...</td>\n",
       "    </tr>\n",
       "  </tbody>\n",
       "</table>\n",
       "<p>146 rows × 5 columns</p>\n",
       "</div>"
      ],
      "text/plain": [
       "     Topic                    Words  Frequency  Class  \\\n",
       "0       -1  169, 229, 200, 225, 238      20077      0   \n",
       "1        0  218, 219, 239, 221, 220      10760      0   \n",
       "2        1  195, 197, 200, 239, 238       5767      0   \n",
       "3        2  126, 142, 157, 234, 236       4771      0   \n",
       "4        3  152, 151, 162, 145, 200       4456      0   \n",
       "..     ...                      ...        ...    ...   \n",
       "141     68  134, 222, 136, 162, 168         11      1   \n",
       "142     70  147, 195, 238, 200, 197          7      1   \n",
       "143     71  200, 151, 148, 229, 154          2      1   \n",
       "144     72  133, 195, 132, 137, 238         10      1   \n",
       "145     73  136, 160, 198, 152, 221          8      1   \n",
       "\n",
       "                                         Disease Names  \n",
       "0    Tension-type headache, Abscess, impetigo, and ...  \n",
       "1    Rheumatoid arthritis, Osteoarthritis, Cataract...  \n",
       "2    Diabetes mellitus, Chronic kidney disease due ...  \n",
       "3    Non-Hodgkins lymphoma, Hermorrhoid, Ulcerative...  \n",
       "4    Gastritis and duodenitis, Peptic ulcer disease...  \n",
       "..                                                 ...  \n",
       "141  Ischemic stroke, Gout, Hypertensive heart dise...  \n",
       "142  Asthma, Diabetes mellitus, Glaucoma, Tubuloint...  \n",
       "143  Tubulointerstitial nephritis, pyelonephritis, ...  \n",
       "144  Ischemic heart disease, Diabetes mellitus, Rhe...  \n",
       "145  Hypertensive heart disease, Gall bladder and b...  \n",
       "\n",
       "[146 rows x 5 columns]"
      ]
     },
     "execution_count": 2,
     "metadata": {},
     "output_type": "execute_result"
    }
   ],
   "source": [
    "data_all_f"
   ]
  },
  {
   "cell_type": "code",
   "execution_count": 3,
   "metadata": {},
   "outputs": [
    {
     "data": {
      "text/plain": [
       "Index(['Topic', 'Words', 'Frequency', 'Class', 'Name', 'Disease Names'], dtype='object')"
      ]
     },
     "execution_count": 3,
     "metadata": {},
     "output_type": "execute_result"
    }
   ],
   "source": [
    "data_all_m.columns"
   ]
  },
  {
   "cell_type": "code",
   "execution_count": 4,
   "metadata": {},
   "outputs": [
    {
     "data": {
      "text/html": [
       "<div>\n",
       "<style scoped>\n",
       "    .dataframe tbody tr th:only-of-type {\n",
       "        vertical-align: middle;\n",
       "    }\n",
       "\n",
       "    .dataframe tbody tr th {\n",
       "        vertical-align: top;\n",
       "    }\n",
       "\n",
       "    .dataframe thead th {\n",
       "        text-align: right;\n",
       "    }\n",
       "</style>\n",
       "<table border=\"1\" class=\"dataframe\">\n",
       "  <thead>\n",
       "    <tr style=\"text-align: right;\">\n",
       "      <th></th>\n",
       "      <th>Topic</th>\n",
       "      <th>Words</th>\n",
       "      <th>Disease Names</th>\n",
       "    </tr>\n",
       "  </thead>\n",
       "  <tbody>\n",
       "    <tr>\n",
       "      <th>0</th>\n",
       "      <td>-1</td>\n",
       "      <td>142, 229, 236, 134, 239</td>\n",
       "      <td>Hermorrhoid, Abscess, impetigo, and other bact...</td>\n",
       "    </tr>\n",
       "    <tr>\n",
       "      <th>1</th>\n",
       "      <td>0</td>\n",
       "      <td>195, 197, 229, 239, 225</td>\n",
       "      <td>Diabetes mellitus, Chronic kidney disease due ...</td>\n",
       "    </tr>\n",
       "    <tr>\n",
       "      <th>2</th>\n",
       "      <td>1</td>\n",
       "      <td>151, 152, 162, 220, 221</td>\n",
       "      <td>Peptic ulcer disease, Gastritis and duodenitis...</td>\n",
       "    </tr>\n",
       "    <tr>\n",
       "      <th>3</th>\n",
       "      <td>2</td>\n",
       "      <td>220, 232, 152, 162, 151</td>\n",
       "      <td>Low back pain, Viral skin diseases, Gastritis ...</td>\n",
       "    </tr>\n",
       "    <tr>\n",
       "      <th>4</th>\n",
       "      <td>3</td>\n",
       "      <td>147, 145, 239, 202, 220</td>\n",
       "      <td>Asthma, Chronic obstructive pulmonary disease,...</td>\n",
       "    </tr>\n",
       "    <tr>\n",
       "      <th>...</th>\n",
       "      <td>...</td>\n",
       "      <td>...</td>\n",
       "      <td>...</td>\n",
       "    </tr>\n",
       "    <tr>\n",
       "      <th>135</th>\n",
       "      <td>65</td>\n",
       "      <td>136, 133, 157, 241, 202</td>\n",
       "      <td>Hypertensive heart disease, Ischemic heart dis...</td>\n",
       "    </tr>\n",
       "    <tr>\n",
       "      <th>136</th>\n",
       "      <td>66</td>\n",
       "      <td>239, 195, 228, 145, 225</td>\n",
       "      <td>Cataracts, Diabetes mellitus, Cellulitis, Chro...</td>\n",
       "    </tr>\n",
       "    <tr>\n",
       "      <th>137</th>\n",
       "      <td>67</td>\n",
       "      <td>239, 229, 219, 220, 195</td>\n",
       "      <td>Cataracts, Abscess, impetigo, and other bacter...</td>\n",
       "    </tr>\n",
       "    <tr>\n",
       "      <th>138</th>\n",
       "      <td>68</td>\n",
       "      <td>122, 241, 140, 235, 228</td>\n",
       "      <td>Bladder cancer, Refraction and accommodation d...</td>\n",
       "    </tr>\n",
       "    <tr>\n",
       "      <th>139</th>\n",
       "      <td>69</td>\n",
       "      <td>229, 155, 232, 220, 202</td>\n",
       "      <td>Abscess, impetigo, and other bacterial skin di...</td>\n",
       "    </tr>\n",
       "  </tbody>\n",
       "</table>\n",
       "<p>140 rows × 3 columns</p>\n",
       "</div>"
      ],
      "text/plain": [
       "     Topic                    Words  \\\n",
       "0       -1  142, 229, 236, 134, 239   \n",
       "1        0  195, 197, 229, 239, 225   \n",
       "2        1  151, 152, 162, 220, 221   \n",
       "3        2  220, 232, 152, 162, 151   \n",
       "4        3  147, 145, 239, 202, 220   \n",
       "..     ...                      ...   \n",
       "135     65  136, 133, 157, 241, 202   \n",
       "136     66  239, 195, 228, 145, 225   \n",
       "137     67  239, 229, 219, 220, 195   \n",
       "138     68  122, 241, 140, 235, 228   \n",
       "139     69  229, 155, 232, 220, 202   \n",
       "\n",
       "                                         Disease Names  \n",
       "0    Hermorrhoid, Abscess, impetigo, and other bact...  \n",
       "1    Diabetes mellitus, Chronic kidney disease due ...  \n",
       "2    Peptic ulcer disease, Gastritis and duodenitis...  \n",
       "3    Low back pain, Viral skin diseases, Gastritis ...  \n",
       "4    Asthma, Chronic obstructive pulmonary disease,...  \n",
       "..                                                 ...  \n",
       "135  Hypertensive heart disease, Ischemic heart dis...  \n",
       "136  Cataracts, Diabetes mellitus, Cellulitis, Chro...  \n",
       "137  Cataracts, Abscess, impetigo, and other bacter...  \n",
       "138  Bladder cancer, Refraction and accommodation d...  \n",
       "139  Abscess, impetigo, and other bacterial skin di...  \n",
       "\n",
       "[140 rows x 3 columns]"
      ]
     },
     "execution_count": 4,
     "metadata": {},
     "output_type": "execute_result"
    }
   ],
   "source": [
    "data_all_m[['Topic','Words','Disease Names']]"
   ]
  },
  {
   "cell_type": "code",
   "execution_count": 5,
   "metadata": {},
   "outputs": [],
   "source": [
    "data_all_f.columns = ['Topic', 'Words', 'Frequency', 'Class', 'Disease']"
   ]
  },
  {
   "cell_type": "code",
   "execution_count": 6,
   "metadata": {},
   "outputs": [
    {
     "data": {
      "text/html": [
       "<div>\n",
       "<style scoped>\n",
       "    .dataframe tbody tr th:only-of-type {\n",
       "        vertical-align: middle;\n",
       "    }\n",
       "\n",
       "    .dataframe tbody tr th {\n",
       "        vertical-align: top;\n",
       "    }\n",
       "\n",
       "    .dataframe thead th {\n",
       "        text-align: right;\n",
       "    }\n",
       "</style>\n",
       "<table border=\"1\" class=\"dataframe\">\n",
       "  <thead>\n",
       "    <tr style=\"text-align: right;\">\n",
       "      <th></th>\n",
       "      <th>Topic</th>\n",
       "      <th>Class</th>\n",
       "      <th>Frequency</th>\n",
       "    </tr>\n",
       "  </thead>\n",
       "  <tbody>\n",
       "    <tr>\n",
       "      <th>0</th>\n",
       "      <td>0</td>\n",
       "      <td>0</td>\n",
       "      <td>10760</td>\n",
       "    </tr>\n",
       "    <tr>\n",
       "      <th>1</th>\n",
       "      <td>0</td>\n",
       "      <td>1</td>\n",
       "      <td>299</td>\n",
       "    </tr>\n",
       "    <tr>\n",
       "      <th>2</th>\n",
       "      <td>1</td>\n",
       "      <td>0</td>\n",
       "      <td>5767</td>\n",
       "    </tr>\n",
       "    <tr>\n",
       "      <th>3</th>\n",
       "      <td>1</td>\n",
       "      <td>1</td>\n",
       "      <td>75</td>\n",
       "    </tr>\n",
       "    <tr>\n",
       "      <th>4</th>\n",
       "      <td>2</td>\n",
       "      <td>0</td>\n",
       "      <td>4771</td>\n",
       "    </tr>\n",
       "    <tr>\n",
       "      <th>...</th>\n",
       "      <td>...</td>\n",
       "      <td>...</td>\n",
       "      <td>...</td>\n",
       "    </tr>\n",
       "    <tr>\n",
       "      <th>139</th>\n",
       "      <td>71</td>\n",
       "      <td>1</td>\n",
       "      <td>2</td>\n",
       "    </tr>\n",
       "    <tr>\n",
       "      <th>140</th>\n",
       "      <td>72</td>\n",
       "      <td>0</td>\n",
       "      <td>143</td>\n",
       "    </tr>\n",
       "    <tr>\n",
       "      <th>141</th>\n",
       "      <td>72</td>\n",
       "      <td>1</td>\n",
       "      <td>10</td>\n",
       "    </tr>\n",
       "    <tr>\n",
       "      <th>142</th>\n",
       "      <td>73</td>\n",
       "      <td>0</td>\n",
       "      <td>143</td>\n",
       "    </tr>\n",
       "    <tr>\n",
       "      <th>143</th>\n",
       "      <td>73</td>\n",
       "      <td>1</td>\n",
       "      <td>8</td>\n",
       "    </tr>\n",
       "  </tbody>\n",
       "</table>\n",
       "<p>144 rows × 3 columns</p>\n",
       "</div>"
      ],
      "text/plain": [
       "     Topic  Class  Frequency\n",
       "0        0      0      10760\n",
       "1        0      1        299\n",
       "2        1      0       5767\n",
       "3        1      1         75\n",
       "4        2      0       4771\n",
       "..     ...    ...        ...\n",
       "139     71      1          2\n",
       "140     72      0        143\n",
       "141     72      1         10\n",
       "142     73      0        143\n",
       "143     73      1          8\n",
       "\n",
       "[144 rows x 3 columns]"
      ]
     },
     "execution_count": 6,
     "metadata": {},
     "output_type": "execute_result"
    }
   ],
   "source": [
    "# Assuming 'data_all_f' is your DataFrame and it has columns named 'Frequency', 'Topic', and 'Class'\n",
    "# sum_freq = data_all_f.groupby(['Topic', 'Class'])['Frequency'].sum().reset_index()\n",
    "# sum_freq\n",
    "\n",
    "# Assuming 'data_all_f' is your DataFrame and it has columns named 'Frequency', 'Topic', and 'Class'\n",
    "sum_freq = data_all_f[data_all_f['Topic'] != -1].groupby(['Topic', 'Class'])['Frequency'].sum().reset_index()\n",
    "\n",
    "sum_freq"
   ]
  },
  {
   "cell_type": "code",
   "execution_count": 7,
   "metadata": {},
   "outputs": [
    {
     "name": "stdout",
     "output_type": "stream",
     "text": [
      "Chi2 = 780.3404434183128, p-value = 6.18270610853098e-119\n",
      "Null hypothesis is rejected. There is a significant difference in the frequency distribution by class.\n"
     ]
    }
   ],
   "source": [
    "from scipy.stats import chi2_contingency\n",
    "\n",
    "# Reshape the data into a contingency table\n",
    "contingency = sum_freq.pivot(index='Topic', columns='Class', values='Frequency').fillna(0)\n",
    "\n",
    "# Perform Chi-Square test\n",
    "chi2, p, dof, expected = chi2_contingency(contingency)\n",
    "\n",
    "print(\"Chi2 = {}, p-value = {}\".format(chi2, p))\n",
    "\n",
    "# Determine if null hypothesis is rejected\n",
    "if p < 0.05:\n",
    "    print(\"Null hypothesis is rejected. There is a significant difference in the frequency distribution by class.\")\n",
    "else:\n",
    "    print(\"Null hypothesis is not rejected. There is no significant difference in the frequency distribution by class.\")"
   ]
  },
  {
   "cell_type": "code",
   "execution_count": 8,
   "metadata": {},
   "outputs": [
    {
     "name": "stdout",
     "output_type": "stream",
     "text": [
      "   Topic  Class  Frequency\n",
      "0      0      0      10760\n",
      "1      0      1        299\n",
      "2      1      0       5767\n",
      "3      1      1         75\n",
      "4      2      0       4771\n",
      "5      2      1        104\n",
      "6      3      0       4456\n",
      "7      3      1         57\n",
      "8      4      0       4379\n",
      "9      4      1         83\n"
     ]
    }
   ],
   "source": [
    "# Assuming 'data_all_f' is your DataFrame and it has columns named 'Frequency', 'Topic', and 'Class'\n",
    "sum_freq_f = data_all_f[data_all_f['Topic'].isin([0, 1, 2, 3, 4])].groupby(['Topic', 'Class'])['Frequency'].sum().reset_index()\n",
    "\n",
    "print(sum_freq_f)"
   ]
  },
  {
   "cell_type": "code",
   "execution_count": 9,
   "metadata": {},
   "outputs": [
    {
     "name": "stdout",
     "output_type": "stream",
     "text": [
      "Chi2 = 56.33892979086725, p-value = 1.7024928628369204e-11\n",
      "Null hypothesis is rejected. There is a significant difference in the frequency distribution by class.\n"
     ]
    }
   ],
   "source": [
    "from scipy.stats import chi2_contingency\n",
    "\n",
    "# Reshape the data into a contingency table\n",
    "contingency = sum_freq_f.pivot(index='Topic', columns='Class', values='Frequency').fillna(0)\n",
    "\n",
    "# Perform Chi-Square test\n",
    "chi2, p, dof, expected = chi2_contingency(contingency)\n",
    "\n",
    "print(\"Chi2 = {}, p-value = {}\".format(chi2, p))\n",
    "\n",
    "# Determine if null hypothesis is rejected\n",
    "if p < 0.05:\n",
    "    print(\"Null hypothesis is rejected. There is a significant difference in the frequency distribution by class.\")\n",
    "else:\n",
    "    print(\"Null hypothesis is not rejected. There is no significant difference in the frequency distribution by class.\")"
   ]
  },
  {
   "cell_type": "code",
   "execution_count": 10,
   "metadata": {},
   "outputs": [
    {
     "data": {
      "text/html": [
       "<div>\n",
       "<style scoped>\n",
       "    .dataframe tbody tr th:only-of-type {\n",
       "        vertical-align: middle;\n",
       "    }\n",
       "\n",
       "    .dataframe tbody tr th {\n",
       "        vertical-align: top;\n",
       "    }\n",
       "\n",
       "    .dataframe thead th {\n",
       "        text-align: right;\n",
       "    }\n",
       "</style>\n",
       "<table border=\"1\" class=\"dataframe\">\n",
       "  <thead>\n",
       "    <tr style=\"text-align: right;\">\n",
       "      <th></th>\n",
       "      <th>Topic</th>\n",
       "      <th>Class</th>\n",
       "      <th>Frequency</th>\n",
       "    </tr>\n",
       "  </thead>\n",
       "  <tbody>\n",
       "    <tr>\n",
       "      <th>0</th>\n",
       "      <td>0</td>\n",
       "      <td>0</td>\n",
       "      <td>9437</td>\n",
       "    </tr>\n",
       "    <tr>\n",
       "      <th>1</th>\n",
       "      <td>0</td>\n",
       "      <td>1</td>\n",
       "      <td>152</td>\n",
       "    </tr>\n",
       "    <tr>\n",
       "      <th>2</th>\n",
       "      <td>1</td>\n",
       "      <td>0</td>\n",
       "      <td>3963</td>\n",
       "    </tr>\n",
       "    <tr>\n",
       "      <th>3</th>\n",
       "      <td>1</td>\n",
       "      <td>1</td>\n",
       "      <td>45</td>\n",
       "    </tr>\n",
       "    <tr>\n",
       "      <th>4</th>\n",
       "      <td>2</td>\n",
       "      <td>0</td>\n",
       "      <td>3229</td>\n",
       "    </tr>\n",
       "    <tr>\n",
       "      <th>...</th>\n",
       "      <td>...</td>\n",
       "      <td>...</td>\n",
       "      <td>...</td>\n",
       "    </tr>\n",
       "    <tr>\n",
       "      <th>133</th>\n",
       "      <td>67</td>\n",
       "      <td>1</td>\n",
       "      <td>1</td>\n",
       "    </tr>\n",
       "    <tr>\n",
       "      <th>134</th>\n",
       "      <td>68</td>\n",
       "      <td>0</td>\n",
       "      <td>152</td>\n",
       "    </tr>\n",
       "    <tr>\n",
       "      <th>135</th>\n",
       "      <td>68</td>\n",
       "      <td>1</td>\n",
       "      <td>5</td>\n",
       "    </tr>\n",
       "    <tr>\n",
       "      <th>136</th>\n",
       "      <td>69</td>\n",
       "      <td>0</td>\n",
       "      <td>150</td>\n",
       "    </tr>\n",
       "    <tr>\n",
       "      <th>137</th>\n",
       "      <td>69</td>\n",
       "      <td>1</td>\n",
       "      <td>1</td>\n",
       "    </tr>\n",
       "  </tbody>\n",
       "</table>\n",
       "<p>138 rows × 3 columns</p>\n",
       "</div>"
      ],
      "text/plain": [
       "     Topic  Class  Frequency\n",
       "0        0      0       9437\n",
       "1        0      1        152\n",
       "2        1      0       3963\n",
       "3        1      1         45\n",
       "4        2      0       3229\n",
       "..     ...    ...        ...\n",
       "133     67      1          1\n",
       "134     68      0        152\n",
       "135     68      1          5\n",
       "136     69      0        150\n",
       "137     69      1          1\n",
       "\n",
       "[138 rows x 3 columns]"
      ]
     },
     "execution_count": 10,
     "metadata": {},
     "output_type": "execute_result"
    }
   ],
   "source": [
    "# Assuming 'data_all_m' is your DataFrame and it has columns named 'Frequency', 'Topic', and 'Class'\n",
    "sum_freq_m = data_all_m[data_all_m['Topic'] != -1].groupby(['Topic', 'Class'])['Frequency'].sum().reset_index()\n",
    "\n",
    "sum_freq_m"
   ]
  },
  {
   "cell_type": "code",
   "execution_count": 11,
   "metadata": {},
   "outputs": [
    {
     "name": "stdout",
     "output_type": "stream",
     "text": [
      "Chi2 = 445.0285815548638, p-value = 2.3302041107403483e-56\n",
      "Null hypothesis is rejected. There is a significant difference in the frequency distribution by class.\n"
     ]
    }
   ],
   "source": [
    "from scipy.stats import chi2_contingency\n",
    "\n",
    "# Reshape the data into a contingency table\n",
    "contingency_m = sum_freq_m.pivot(index='Topic', columns='Class', values='Frequency').fillna(0)\n",
    "\n",
    "# Perform Chi-Square test\n",
    "chi2_m, p_m, dof_m, expected_m = chi2_contingency(contingency_m)\n",
    "\n",
    "print(\"Chi2 = {}, p-value = {}\".format(chi2_m, p_m))\n",
    "\n",
    "# Determine if null hypothesis is rejected\n",
    "if p_m < 0.05:\n",
    "    print(\"Null hypothesis is rejected. There is a significant difference in the frequency distribution by class.\")\n",
    "else:\n",
    "    print(\"Null hypothesis is not rejected. There is no significant difference in the frequency distribution by class.\")"
   ]
  },
  {
   "cell_type": "code",
   "execution_count": 12,
   "metadata": {},
   "outputs": [
    {
     "name": "stdout",
     "output_type": "stream",
     "text": [
      "   Topic  Class  Frequency\n",
      "0      0      0       9437\n",
      "1      0      1        152\n",
      "2      1      0       3963\n",
      "3      1      1         45\n",
      "4      2      0       3229\n",
      "5      2      1         98\n",
      "6      3      0       2646\n",
      "7      3      1         74\n",
      "8      4      0       2338\n",
      "9      4      1         95\n"
     ]
    }
   ],
   "source": [
    "# Assuming 'data_all_f' is your DataFrame and it has columns named 'Frequency', 'Topic', and 'Class'\n",
    "sum_freq_m2 = data_all_m[data_all_m['Topic'].isin([0, 1, 2, 3, 4])].groupby(['Topic', 'Class'])['Frequency'].sum().reset_index()\n",
    "\n",
    "print(sum_freq_m2)"
   ]
  },
  {
   "cell_type": "code",
   "execution_count": 13,
   "metadata": {},
   "outputs": [
    {
     "name": "stdout",
     "output_type": "stream",
     "text": [
      "Chi2 = 86.11889396863475, p-value = 8.781300166671014e-18\n",
      "Null hypothesis is rejected. There is a significant difference in the frequency distribution by class.\n"
     ]
    }
   ],
   "source": [
    "from scipy.stats import chi2_contingency\n",
    "\n",
    "# Reshape the data into a contingency table\n",
    "contingency_m2 = sum_freq_m2.pivot(index='Topic', columns='Class', values='Frequency').fillna(0)\n",
    "\n",
    "# Perform Chi-Square test\n",
    "chi2_m, p_m, dof_m, expected_m = chi2_contingency(contingency_m2)\n",
    "\n",
    "print(\"Chi2 = {}, p-value = {}\".format(chi2_m, p_m))\n",
    "\n",
    "# Determine if null hypothesis is rejected\n",
    "if p_m < 0.05:\n",
    "    print(\"Null hypothesis is rejected. There is a significant difference in the frequency distribution by class.\")\n",
    "else:\n",
    "    print(\"Null hypothesis is not rejected. There is no significant difference in the frequency distribution by class.\")"
   ]
  },
  {
   "cell_type": "code",
   "execution_count": 14,
   "metadata": {},
   "outputs": [],
   "source": [
    "import pandas as pd\n",
    "\n",
    "# 예시 데이터프레임 생성 (sum_freq_m과 sum_freq_f가 데이터프레임이라고 가정)\n",
    "# sum_freq_m = pd.DataFrame(...)\n",
    "# sum_freq_f = pd.DataFrame(...)\n",
    "\n",
    "# CSV 파일로 내보내기\n",
    "sum_freq_m.to_csv('./sum_freq_m_aug06.csv', index=False)\n",
    "sum_freq.to_csv('./sum_freq_f_aug06.csv', index=False)"
   ]
  },
  {
   "cell_type": "code",
   "execution_count": null,
   "metadata": {},
   "outputs": [],
   "source": [
    "# #5Y option1 :female\n",
    "# # data_all.to_csv('./bertopic_5y_138_100pall_op1_dec08.csv', index=False)\n",
    "# data_all_f.to_csv('./bertopic_5y_138_100pall_op1_dec20_femaleF.csv', index=False)\n",
    "\n",
    "# data_all_f.to_csv('./bertopic_5y_138_100pall_op1_dec20_aug02_femaleF.csv', index=False)\n",
    "data_all_f.to_csv('./bertopic_5y_138_100pall_op1_dec20_aug02_femaleF_aug06.csv', index=False)\n",
    "# #5Y option1 :male\n",
    "# # data_all.to_csv('./bertopic_5y_138_100pall_op1_dec08.csv', index=False)\n",
    "# data_all_m.to_csv('./bertopic_5y_138_100pall_op1_dec20_maleF.csv', index=False)\n",
    "# data_all_m.to_csv('./bertopic_5y_138_100pall_op1_dec20_aug02_maleF.csv', index=False)\n",
    "data_all_m.to_csv('./bertopic_5y_138_100pall_op1_dec20_aug02_maleF_aug06.csv', index=False)"
   ]
  }
 ],
 "metadata": {
  "kernelspec": {
   "display_name": "Python 3",
   "language": "python",
   "name": "python3"
  },
  "language_info": {
   "codemirror_mode": {
    "name": "ipython",
    "version": 3
   },
   "file_extension": ".py",
   "mimetype": "text/x-python",
   "name": "python",
   "nbconvert_exporter": "python",
   "pygments_lexer": "ipython3",
   "version": "3.9.16"
  }
 },
 "nbformat": 4,
 "nbformat_minor": 2
}
