
{
 "cells": [
  {
   "cell_type": "markdown",
   "metadata": {},
   "source": [
    "# AFF Disease Prediction Using BEHRT"
   ]
  },
  {
   "cell_type": "code",
   "execution_count": null,
   "metadata": {},
   "outputs": [],
   "source": [
    "import sys \n",
    "sys.path.insert(0, '../') \n",
    "from torch.utils.data import DataLoader \n",
    "import pandas as pd \n",
    "from common.common import create_folder #,H5Recorder \n",
    "import numpy as np \n",
    "from torch.utils.data.dataset import Dataset \n",
    "import os \n",
    "import torch \n",
    "import torch.nn as nn \n",
    "import pytorch_pretrained_bert as Bert \n",
    "from model import optimiser \n",
    "import sklearn.metrics as skm \n",
    "import math \n",
    "import random \n",
    "import time \n",
    "from sklearn.metrics import roc_auc_score, roc_curve, auc, confusion_matrix \n",
    "import matplotlib.pyplot as plt \n",
    "import seaborn as sns \n",
    "import pickle \n"
   ]
  },
  {
   "cell_type": "markdown",
   "metadata": {},
   "source": [
    "### Load Vocabulary"
   ]
  },
  {
   "cell_type": "code",
   "execution_count": null,
   "metadata": {},
   "outputs": [],
   "source": [
    "with open('./vocab2_new.pkl', 'rb') as f: \n",
    "    vocab2_new = pickle.load(f)"
   ]
  },
  {
   "cell_type": "markdown",
   "metadata": {},
   "source": [
    "### Load Training, Validation, and Test Data"
   ]
  },
  {
   "cell_type": "code",
   "execution_count": null,
   "metadata": {},
   "outputs": [],
   "source": [
    "with open('../task/d138_5y_onset_Train2_jan2024_aug06_sep26_F.pkl', 'rb') as f: \n",
    "    train = pickle.load(f) \n",
    "with open('../task/d138_5y_onset_Valid2_jan2024_aug06_sep26_F.pkl', 'rb') as f: \n",
    "    valid = pickle.load(f) \n",
    "with open('../task/d138_5y_onset_Test2_jan2024_aug06_sep26_F.pkl', 'rb') as f: \n",
    "    test = pickle.load(f)"
   ]
  },
  {
   "cell_type": "markdown",
   "metadata": {},
   "source": [
    "### Model Configuration"
   ]
  },
  {
   "cell_type": "code",
   "execution_count": null,
   "metadata": {},
   "outputs": [],
   "source": [
    "# Model parameters \n",
    "model_config = { \n",
    "    'vocab_size': len(vocab2_new.keys()), \n",
    "    'hidden_size': 288, \n",
    "    'seg_vocab_size': 2, \n",
    "    'age_vocab_size': 120, \n",
    "    'max_position_embedding': 64, \n",
    "    'hidden_dropout_prob': 0.1, \n",
    "    'num_hidden_layers': 10, \n",
    "    'num_attention_heads': 12, \n",
    "    'intermediate_size': 512, \n",
    "    'hidden_act': 'gelu', \n",
    "    'initializer_range': 0.02 \n",
    "}"
   ]
  }
 ],
 "metadata": {
  "kernelspec": {
   "display_name": "Python 3",
   "language": "python",
   "name": "python3"
  },
  "language_info": {
   "codemirror_mode": {
    "name": "ipython",
    "version": 3
   },
   "file_extension": ".py",
   "mimetype": "text/x-python",
   "name": "python",
   "nbconvert_exporter": "python",
   "pygments_lexer": "ipython3",
   "version": "3.8.5"
  }
 },
 "nbformat": 4,
 "nbformat_minor": 2
}
