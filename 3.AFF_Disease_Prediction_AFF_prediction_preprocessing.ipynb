{
 "cells": [
  {
   "cell_type": "markdown",
   "id": "2c3a9002",
   "metadata": {},
   "source": [
    "# AFF Disease Prediction Using BEHRT for Disease Prediction\n",
    "\n",
    "This notebook demonstrates the prediction process for AFF disease using BEHRT with pre-trained MLM."
   ]
  },
  {
   "cell_type": "code",
   "execution_count": null,
   "id": "fb55036f",
   "metadata": {},
   "outputs": [],
   "source": [
    "\n",
    "# Import necessary libraries\n",
    "import pickle\n",
    "import pandas as pd\n",
    "import numpy as np\n",
    "from sklearn.model_selection import train_test_split\n"
   ]
  },
  {
   "cell_type": "markdown",
   "id": "6db84b47",
   "metadata": {},
   "source": [
    "## Step 1: Load Preprocessed Data"
   ]
  },
  {
   "cell_type": "code",
   "execution_count": null,
   "id": "24417f96",
   "metadata": {},
   "outputs": [],
   "source": [
    "\n",
    "# Load NSP data for AFF prediction (Option 1)\n",
    "with open('../task/T20_BFC_BEHRT_group_data_sickFinal_NSP_op1.pkl', 'rb') as f:\n",
    "    data = pickle.load(f)\n",
    "group_data_sickFinal_NSP1 = pd.DataFrame(data)\n",
    "\n",
    "# Select AFF disease with code '138'\n",
    "NDP_T20_BFC_ArtrialF, NDP_T20_BFC_ArtrialF_no = group_data_sickFinal_NSP1[group_data_sickFinal_NSP1['d'] == '138'],                                                  group_data_sickFinal_NSP1[group_data_sickFinal_NSP1['d'] != '138']\n"
   ]
  },
  {
   "cell_type": "markdown",
   "id": "18044b7d",
   "metadata": {},
   "source": [
    "## Step 2: Filter and Prepare Data"
   ]
  },
  {
   "cell_type": "code",
   "execution_count": null,
   "id": "7f580c4c",
   "metadata": {},
   "outputs": [],
   "source": [
    "\n",
    "# Prepare AFF disease group\n",
    "df_138 = NDP_T20_BFC_ArtrialF.copy()\n",
    "df_138['YEAR'] = pd.to_datetime(df_138['YEAR'], format='%Y')\n",
    "\n",
    "# Calculate the first and specific disease years\n",
    "first_starting_year = df_138.groupby('ID')['YEAR'].min()\n",
    "specific_disease_year = df_138.groupby('ID')['YEAR'].transform('min')\n",
    "\n",
    "# Merge into result dataframe\n",
    "result_df = pd.DataFrame({'ID': df_138['ID'].unique()})\n",
    "result_df['first_starting_year'] = result_df['ID'].map(first_starting_year)\n",
    "result_df['specific_disease_year'] = result_df['ID'].map(specific_disease_year)\n"
   ]
  },
  {
   "cell_type": "markdown",
   "id": "e1cc8933",
   "metadata": {},
   "source": [
    "## Step 3: Define Sequence Calculation Functions"
   ]
  },
  {
   "cell_type": "code",
   "execution_count": null,
   "id": "f628e774",
   "metadata": {},
   "outputs": [],
   "source": [
    "\n",
    "# Function to calculate disease sequence with 'SEP' token\n",
    "def get_disease_sequence(row):\n",
    "    id_data = df_138[(df_138['ID'] == row['ID']) & \n",
    "                     (df_138['YEAR'] >= row['first_starting_year']) & \n",
    "                     (df_138['YEAR'] < row['specific_disease_year'])]\n",
    "    seq = []\n",
    "    for index, year in enumerate(id_data['YEAR']):\n",
    "        if index > 0 and id_data['YEAR'].iloc[index - 1] != year:\n",
    "            seq.append('SEP')\n",
    "        seq.append(str(id_data['d'].iloc[index]))\n",
    "    return seq\n",
    "\n",
    "# Apply the function to calculate sequences\n",
    "result_df['disease_sequenceF'] = result_df.apply(get_disease_sequence, axis=1)\n"
   ]
  },
  {
   "cell_type": "markdown",
   "id": "abc922e2",
   "metadata": {},
   "source": [
    "## Step 4: Sampling Data"
   ]
  },
  {
   "cell_type": "code",
   "execution_count": null,
   "id": "6b11f5d8",
   "metadata": {},
   "outputs": [],
   "source": [
    "\n",
    "# Prepare data for sampling\n",
    "result_df['length'] = result_df['disease_sequenceF'].apply(lambda x: len([i for i in range(len(x)) if x[i] == 'SEP']))\n",
    "result_df = result_df[result_df['length'] >= 2].reset_index(drop=True)\n",
    "\n",
    "# Perform stratified sampling based on 'first_starting_year'\n",
    "sampled_df = result_df.groupby('first_starting_year', group_keys=False).apply(lambda x: x.sample(frac=0.5, random_state=42))\n",
    "sampled_df['age_B'] = sampled_df['disease_sequenceF'].apply(lambda x: x[0] if len(x) > 0 else None)\n"
   ]
  },
  {
   "cell_type": "markdown",
   "id": "323d2e36",
   "metadata": {},
   "source": [
    "## Step 5: Prepare Train, Validation, and Test Splits"
   ]
  },
  {
   "cell_type": "code",
   "execution_count": null,
   "id": "8550e875",
   "metadata": {},
   "outputs": [],
   "source": [
    "\n",
    "# Split the data into train, validation, and test sets\n",
    "X = sampled_df.drop(['disease_sequenceF'], axis=1)\n",
    "Y = sampled_df['disease_sequenceF']\n",
    "\n",
    "X_train, X_temp, y_train, y_temp = train_test_split(X, Y, test_size=0.3, random_state=42, stratify=sampled_df['age_B'])\n",
    "X_valid, X_test, y_valid, y_test = train_test_split(X_temp, y_temp, test_size=0.5, random_state=42, stratify=X_temp['age_B'])\n",
    "\n",
    "# Combine data for saving\n",
    "Train = pd.concat([X_train, y_train], axis=1)\n",
    "Valid = pd.concat([X_valid, y_valid], axis=1)\n",
    "Test = pd.concat([X_test, y_test], axis=1)\n"
   ]
  },
  {
   "cell_type": "markdown",
   "id": "49ae27ca",
   "metadata": {},
   "source": [
    "## Step 6: Save Train, Validation, and Test Sets"
   ]
  },
  {
   "cell_type": "code",
   "execution_count": null,
   "id": "7ef4754f",
   "metadata": {},
   "outputs": [],
   "source": [
    "\n",
    "# Save the train, validation, and test datasets\n",
    "with open('../task/d138_5y_onset_Train2.pkl', 'wb') as f:\n",
    "    pickle.dump(Train, f)\n",
    "with open('../task/d138_5y_onset_Valid2.pkl', 'wb') as f:\n",
    "    pickle.dump(Valid, f)\n",
    "with open('../task/d138_5y_onset_Test2.pkl', 'wb') as f:\n",
    "    pickle.dump(Test, f)\n"
   ]
  },
  {
   "cell_type": "markdown",
   "id": "e3d33d96",
   "metadata": {},
   "source": [
    "## Step 7: Merge with BFC Data and Analyze Age Groups"
   ]
  },
  {
   "cell_type": "code",
   "execution_count": null,
   "id": "59cb3b6f",
   "metadata": {},
   "outputs": [],
   "source": [
    "\n",
    "# Load and merge BFC data\n",
    "with open('./BFC.pkl', 'rb') as f:\n",
    "    BFC = pickle.load(f)\n",
    "merged_df = Train.merge(BFC, on='ID')\n",
    "\n",
    "# Analyze age groups\n",
    "merged_df['age_B'] = pd.to_numeric(merged_df['age_B'], errors='coerce')\n",
    "bins = [0, 20, 40, 65, 110]\n",
    "labels = ['below 20', '20s-30s', '40s-64s', 'over 65s']\n",
    "merged_df['AgeGroup'] = pd.cut(merged_df['age_B'], bins=bins, labels=labels, right=False)\n",
    "print(merged_df['AgeGroup'].value_counts())\n"
   ]
  }
 ],
 "metadata": {},
 "nbformat": 4,
 "nbformat_minor": 5
}
